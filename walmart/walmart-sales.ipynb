{
 "cells": [
  {
   "cell_type": "code",
   "execution_count": null,
   "id": "1df78711-11a6-4577-974a-0992e68f9518",
   "metadata": {},
   "outputs": [],
   "source": []
  },
  {
   "cell_type": "code",
   "execution_count": 2,
   "id": "c343975d",
   "metadata": {},
   "outputs": [],
   "source": [
    "import numpy as np\n",
    "import pandas as pd\n",
    "import sklearn\n",
    "import matplotlib as mpl\n",
    "import matplotlib.pyplot as plt"
   ]
  },
  {
   "cell_type": "code",
   "execution_count": 3,
   "id": "1d1bf205-ad60-494a-b15e-371e381c92f6",
   "metadata": {},
   "outputs": [],
   "source": [
    "# get the data\n",
    "features_df=pd.read_csv('data/features.csv')\n",
    "store_df=pd.read_csv('data/stores.csv')\n",
    "sales_df=pd.read_csv('data/train.csv')"
   ]
  },
  {
   "cell_type": "markdown",
   "id": "ebf2df4e-69a9-4d04-a196-0db745b6b623",
   "metadata": {},
   "source": [
    "# first look at how the data is stored"
   ]
  },
  {
   "cell_type": "code",
   "execution_count": 4,
   "id": "5c4ab5bf-fc6a-45cc-ae72-cd525d68680b",
   "metadata": {},
   "outputs": [
    {
     "name": "stdout",
     "output_type": "stream",
     "text": [
      "<class 'pandas.core.frame.DataFrame'>\n",
      "RangeIndex: 8190 entries, 0 to 8189\n",
      "Data columns (total 12 columns):\n",
      " #   Column        Non-Null Count  Dtype  \n",
      "---  ------        --------------  -----  \n",
      " 0   Store         8190 non-null   int64  \n",
      " 1   Date          8190 non-null   object \n",
      " 2   Temperature   8190 non-null   float64\n",
      " 3   Fuel_Price    8190 non-null   float64\n",
      " 4   MarkDown1     4032 non-null   float64\n",
      " 5   MarkDown2     2921 non-null   float64\n",
      " 6   MarkDown3     3613 non-null   float64\n",
      " 7   MarkDown4     3464 non-null   float64\n",
      " 8   MarkDown5     4050 non-null   float64\n",
      " 9   CPI           7605 non-null   float64\n",
      " 10  Unemployment  7605 non-null   float64\n",
      " 11  IsHoliday     8190 non-null   bool   \n",
      "dtypes: bool(1), float64(9), int64(1), object(1)\n",
      "memory usage: 712.0+ KB\n",
      "<class 'pandas.core.frame.DataFrame'>\n",
      "RangeIndex: 45 entries, 0 to 44\n",
      "Data columns (total 3 columns):\n",
      " #   Column  Non-Null Count  Dtype \n",
      "---  ------  --------------  ----- \n",
      " 0   Store   45 non-null     int64 \n",
      " 1   Type    45 non-null     object\n",
      " 2   Size    45 non-null     int64 \n",
      "dtypes: int64(2), object(1)\n",
      "memory usage: 1.2+ KB\n",
      "<class 'pandas.core.frame.DataFrame'>\n",
      "RangeIndex: 421570 entries, 0 to 421569\n",
      "Data columns (total 5 columns):\n",
      " #   Column        Non-Null Count   Dtype  \n",
      "---  ------        --------------   -----  \n",
      " 0   Store         421570 non-null  int64  \n",
      " 1   Dept          421570 non-null  int64  \n",
      " 2   Date          421570 non-null  object \n",
      " 3   Weekly_Sales  421570 non-null  float64\n",
      " 4   IsHoliday     421570 non-null  bool   \n",
      "dtypes: bool(1), float64(1), int64(2), object(1)\n",
      "memory usage: 13.3+ MB\n",
      "None None None\n"
     ]
    }
   ],
   "source": [
    "print(features_df.info(),store_df.info(),sales_df.info())"
   ]
  },
  {
   "cell_type": "code",
   "execution_count": 5,
   "id": "fe0c4d45-6e46-4622-a206-a802415713fa",
   "metadata": {},
   "outputs": [],
   "source": [
    "features_df[\"Date\"] = pd.to_datetime(features_df[\"Date\"])\n",
    "sales_df[\"Date\"] = pd.to_datetime(sales_df[\"Date\"])\n",
    "#we cant test\\train on data later than 2012-10-26 so for this excersize it is useless\n",
    "last_Date = sales_df.Date.max()\n",
    "features_df = features_df[features_df[\"Date\"]<=last_Date]"
   ]
  },
  {
   "cell_type": "code",
   "execution_count": 6,
   "id": "d8f9562a-0186-496b-bf72-116ef4cd6640",
   "metadata": {},
   "outputs": [
    {
     "data": {
      "text/plain": [
       "NaN        4140\n",
       "1064.56       2\n",
       "2743.18       2\n",
       "492.36        1\n",
       "755.80        1\n",
       "           ... \n",
       "3154.77       1\n",
       "1941.32       1\n",
       "2862.32       1\n",
       "1610.18       1\n",
       "858.33        1\n",
       "Name: MarkDown5, Length: 2294, dtype: int64"
      ]
     },
     "execution_count": 6,
     "metadata": {},
     "output_type": "execute_result"
    }
   ],
   "source": [
    "features_df.MarkDown5.value_counts(dropna=False)\n",
    "#seems like theres no 0's in MarkDowns so we wont lose any information turning Nan into 0's but is it the right choice "
   ]
  },
  {
   "cell_type": "code",
   "execution_count": 7,
   "id": "524d5c70-83c6-4d11-a94e-2d08ab72aaee",
   "metadata": {},
   "outputs": [],
   "source": [
    "features_df[\"isNAn\"] = features_df[\"MarkDown4\"].isna()\n",
    "#we will take MarkDown4 as a sample since the Data in other MarkDowns is similiar on other MarkDown columns"
   ]
  },
  {
   "cell_type": "code",
   "execution_count": 8,
   "id": "c4187350-e344-4415-a06e-03421dc99bd7",
   "metadata": {},
   "outputs": [
    {
     "data": {
      "image/png": "[encoded data removed]",
      "text/plain": [
       "<Figure size 432x288 with 1 Axes>"
      ]
     },
     "metadata": {
      "needs_background": "light"
     },
     "output_type": "display_data"
    }
   ],
   "source": [
    "fig, ax = plt.subplots() \n",
    "for i in [1,2,3,4,5]:\n",
    "    features_df[\"isNAn\"] = features_df[\"MarkDown\" + str(i)].isna()\n",
    "    #fig, ax = plt.subplots()\n",
    "    ax.plot(features_df.groupby(\"Date\").isNAn.agg(\"mean\"))"
   ]
  },
  {
   "cell_type": "code",
   "execution_count": 9,
   "id": "defebe9d-d94c-4f2b-9f57-fdf399eef353",
   "metadata": {},
   "outputs": [
    {
     "data": {
      "text/plain": [
       "[<matplotlib.lines.Line2D at 0x1598fe55f70>]"
      ]
     },
     "execution_count": 9,
     "metadata": {},
     "output_type": "execute_result"
    },
    {
     "data": {
      "image/png": "[encoded data removed]",
      "text/plain": [
       "<Figure size 432x288 with 1 Axes>"
      ]
     },
     "metadata": {
      "needs_background": "light"
     },
     "output_type": "display_data"
    }
   ],
   "source": [
    "fig, ax = plt.subplots() \n",
    "ax.plot(features_df.groupby(\"Date\").isNAn.agg(\"mean\"))\n",
    "#seems like they started tracking the markdowns only from a certain date thus 0 doesnt have a particular meaning \n",
    "#either take average markdown or not use markdowns(not ideal)\n",
    "#if theres hope to get more markdown Data at the fututre to train on we would have used it but this time its better to use more data"
   ]
  },
  {
   "cell_type": "code",
   "execution_count": 10,
   "id": "1f94ad00-d9f3-45a4-98b6-ece9fde89570",
   "metadata": {},
   "outputs": [],
   "source": [
    "#drop markdowns\n",
    "markdowns = [\"MarkDown1\",\"MarkDown2\",\"MarkDown3\",\"MarkDown4\",\"MarkDown5\",]\n",
    "features_df = features_df.drop (columns = markdowns)"
   ]
  },
  {
   "cell_type": "markdown",
   "id": "7c88a42b-0b8f-4fa8-8e1d-f2e18378e8ea",
   "metadata": {
    "tags": []
   },
   "source": [
    "**after doing immediate changes we will merge our data into one table**"
   ]
  },
  {
   "cell_type": "code",
   "execution_count": 11,
   "id": "acd50dfc-5396-469e-a378-fe914f3870fc",
   "metadata": {},
   "outputs": [
    {
     "data": {
      "text/plain": [
       "[<matplotlib.lines.Line2D at 0x1598ff00580>]"
      ]
     },
     "execution_count": 11,
     "metadata": {},
     "output_type": "execute_result"
    },
    {
     "data": {
      "image/png": "[encoded data removed]",
      "text/plain": [
       "<Figure size 432x288 with 1 Axes>"
      ]
     },
     "metadata": {
      "needs_background": "light"
     },
     "output_type": "display_data"
    }
   ],
   "source": [
    "#first look at sales_df departments\n",
    "fig, ax = plt.subplots() \n",
    "ax.plot(sales_df.groupby(\"Store\").Dept.agg(\"nunique\"))\n",
    "#we can see not all stores have the same number or even the same departments\n",
    "#we would want to predict the sales in each department"
   ]
  },
  {
   "cell_type": "code",
   "execution_count": 12,
   "id": "c7a6634d-add8-43b4-a034-2f18bab83c0b",
   "metadata": {},
   "outputs": [],
   "source": [
    "df = pd.merge(sales_df,features_df,how=\"outer\",on=[\"Store\",\"Date\"])\n",
    "df = pd.merge(df,store_df,how=\"outer\",on=[\"Store\"])\n",
    "df=df.drop(columns=[\"isNAn\"])"
   ]
  },
  {
   "cell_type": "markdown",
   "id": "0c9fbc75-d611-414f-8990-e0019a383941",
   "metadata": {},
   "source": [
    "# first look at our data"
   ]
  },
  {
   "cell_type": "code",
   "execution_count": 13,
   "id": "de637dd5-02e7-4d92-8eb6-696a16202611",
   "metadata": {},
   "outputs": [
    {
     "data": {
      "text/html": [
       "<div>\n",
       "<style scoped>\n",
       "    .dataframe tbody tr th:only-of-type {\n",
       "        vertical-align: middle;\n",
       "    }\n",
       "\n",
       "    .dataframe tbody tr th {\n",
       "        vertical-align: top;\n",
       "    }\n",
       "\n",
       "    .dataframe thead th {\n",
       "        text-align: right;\n",
       "    }\n",
       "</style>\n",
       "<table border=\"1\" class=\"dataframe\">\n",
       "  <thead>\n",
       "    <tr style=\"text-align: right;\">\n",
       "      <th></th>\n",
       "      <th>Store</th>\n",
       "      <th>Dept</th>\n",
       "      <th>Date</th>\n",
       "      <th>Weekly_Sales</th>\n",
       "      <th>IsHoliday_x</th>\n",
       "      <th>Temperature</th>\n",
       "      <th>Fuel_Price</th>\n",
       "      <th>CPI</th>\n",
       "      <th>Unemployment</th>\n",
       "      <th>IsHoliday_y</th>\n",
       "      <th>Type</th>\n",
       "      <th>Size</th>\n",
       "    </tr>\n",
       "  </thead>\n",
       "  <tbody>\n",
       "    <tr>\n",
       "      <th>0</th>\n",
       "      <td>1</td>\n",
       "      <td>1</td>\n",
       "      <td>2010-02-05</td>\n",
       "      <td>24924.50</td>\n",
       "      <td>False</td>\n",
       "      <td>42.31</td>\n",
       "      <td>2.572</td>\n",
       "      <td>211.096358</td>\n",
       "      <td>8.106</td>\n",
       "      <td>False</td>\n",
       "      <td>A</td>\n",
       "      <td>151315</td>\n",
       "    </tr>\n",
       "    <tr>\n",
       "      <th>1</th>\n",
       "      <td>1</td>\n",
       "      <td>2</td>\n",
       "      <td>2010-02-05</td>\n",
       "      <td>50605.27</td>\n",
       "      <td>False</td>\n",
       "      <td>42.31</td>\n",
       "      <td>2.572</td>\n",
       "      <td>211.096358</td>\n",
       "      <td>8.106</td>\n",
       "      <td>False</td>\n",
       "      <td>A</td>\n",
       "      <td>151315</td>\n",
       "    </tr>\n",
       "    <tr>\n",
       "      <th>2</th>\n",
       "      <td>1</td>\n",
       "      <td>3</td>\n",
       "      <td>2010-02-05</td>\n",
       "      <td>13740.12</td>\n",
       "      <td>False</td>\n",
       "      <td>42.31</td>\n",
       "      <td>2.572</td>\n",
       "      <td>211.096358</td>\n",
       "      <td>8.106</td>\n",
       "      <td>False</td>\n",
       "      <td>A</td>\n",
       "      <td>151315</td>\n",
       "    </tr>\n",
       "    <tr>\n",
       "      <th>3</th>\n",
       "      <td>1</td>\n",
       "      <td>4</td>\n",
       "      <td>2010-02-05</td>\n",
       "      <td>39954.04</td>\n",
       "      <td>False</td>\n",
       "      <td>42.31</td>\n",
       "      <td>2.572</td>\n",
       "      <td>211.096358</td>\n",
       "      <td>8.106</td>\n",
       "      <td>False</td>\n",
       "      <td>A</td>\n",
       "      <td>151315</td>\n",
       "    </tr>\n",
       "    <tr>\n",
       "      <th>4</th>\n",
       "      <td>1</td>\n",
       "      <td>5</td>\n",
       "      <td>2010-02-05</td>\n",
       "      <td>32229.38</td>\n",
       "      <td>False</td>\n",
       "      <td>42.31</td>\n",
       "      <td>2.572</td>\n",
       "      <td>211.096358</td>\n",
       "      <td>8.106</td>\n",
       "      <td>False</td>\n",
       "      <td>A</td>\n",
       "      <td>151315</td>\n",
       "    </tr>\n",
       "    <tr>\n",
       "      <th>5</th>\n",
       "      <td>1</td>\n",
       "      <td>6</td>\n",
       "      <td>2010-02-05</td>\n",
       "      <td>5749.03</td>\n",
       "      <td>False</td>\n",
       "      <td>42.31</td>\n",
       "      <td>2.572</td>\n",
       "      <td>211.096358</td>\n",
       "      <td>8.106</td>\n",
       "      <td>False</td>\n",
       "      <td>A</td>\n",
       "      <td>151315</td>\n",
       "    </tr>\n",
       "    <tr>\n",
       "      <th>6</th>\n",
       "      <td>1</td>\n",
       "      <td>7</td>\n",
       "      <td>2010-02-05</td>\n",
       "      <td>21084.08</td>\n",
       "      <td>False</td>\n",
       "      <td>42.31</td>\n",
       "      <td>2.572</td>\n",
       "      <td>211.096358</td>\n",
       "      <td>8.106</td>\n",
       "      <td>False</td>\n",
       "      <td>A</td>\n",
       "      <td>151315</td>\n",
       "    </tr>\n",
       "    <tr>\n",
       "      <th>7</th>\n",
       "      <td>1</td>\n",
       "      <td>8</td>\n",
       "      <td>2010-02-05</td>\n",
       "      <td>40129.01</td>\n",
       "      <td>False</td>\n",
       "      <td>42.31</td>\n",
       "      <td>2.572</td>\n",
       "      <td>211.096358</td>\n",
       "      <td>8.106</td>\n",
       "      <td>False</td>\n",
       "      <td>A</td>\n",
       "      <td>151315</td>\n",
       "    </tr>\n",
       "    <tr>\n",
       "      <th>8</th>\n",
       "      <td>1</td>\n",
       "      <td>9</td>\n",
       "      <td>2010-02-05</td>\n",
       "      <td>16930.99</td>\n",
       "      <td>False</td>\n",
       "      <td>42.31</td>\n",
       "      <td>2.572</td>\n",
       "      <td>211.096358</td>\n",
       "      <td>8.106</td>\n",
       "      <td>False</td>\n",
       "      <td>A</td>\n",
       "      <td>151315</td>\n",
       "    </tr>\n",
       "    <tr>\n",
       "      <th>9</th>\n",
       "      <td>1</td>\n",
       "      <td>10</td>\n",
       "      <td>2010-02-05</td>\n",
       "      <td>30721.50</td>\n",
       "      <td>False</td>\n",
       "      <td>42.31</td>\n",
       "      <td>2.572</td>\n",
       "      <td>211.096358</td>\n",
       "      <td>8.106</td>\n",
       "      <td>False</td>\n",
       "      <td>A</td>\n",
       "      <td>151315</td>\n",
       "    </tr>\n",
       "  </tbody>\n",
       "</table>\n",
       "</div>"
      ],
      "text/plain": [
       "   Store  Dept       Date  Weekly_Sales  IsHoliday_x  Temperature  Fuel_Price  \\\n",
       "0      1     1 2010-02-05      24924.50        False        42.31       2.572   \n",
       "1      1     2 2010-02-05      50605.27        False        42.31       2.572   \n",
       "2      1     3 2010-02-05      13740.12        False        42.31       2.572   \n",
       "3      1     4 2010-02-05      39954.04        False        42.31       2.572   \n",
       "4      1     5 2010-02-05      32229.38        False        42.31       2.572   \n",
       "5      1     6 2010-02-05       5749.03        False        42.31       2.572   \n",
       "6      1     7 2010-02-05      21084.08        False        42.31       2.572   \n",
       "7      1     8 2010-02-05      40129.01        False        42.31       2.572   \n",
       "8      1     9 2010-02-05      16930.99        False        42.31       2.572   \n",
       "9      1    10 2010-02-05      30721.50        False        42.31       2.572   \n",
       "\n",
       "          CPI  Unemployment  IsHoliday_y Type    Size  \n",
       "0  211.096358         8.106        False    A  151315  \n",
       "1  211.096358         8.106        False    A  151315  \n",
       "2  211.096358         8.106        False    A  151315  \n",
       "3  211.096358         8.106        False    A  151315  \n",
       "4  211.096358         8.106        False    A  151315  \n",
       "5  211.096358         8.106        False    A  151315  \n",
       "6  211.096358         8.106        False    A  151315  \n",
       "7  211.096358         8.106        False    A  151315  \n",
       "8  211.096358         8.106        False    A  151315  \n",
       "9  211.096358         8.106        False    A  151315  "
      ]
     },
     "execution_count": 13,
     "metadata": {},
     "output_type": "execute_result"
    }
   ],
   "source": [
    "df.head(10)"
   ]
  },
  {
   "cell_type": "code",
   "execution_count": 14,
   "id": "311c10e0-092b-4a68-a7c1-2e1e9d412c43",
   "metadata": {},
   "outputs": [
    {
     "data": {
      "text/html": [
       "<div>\n",
       "<style scoped>\n",
       "    .dataframe tbody tr th:only-of-type {\n",
       "        vertical-align: middle;\n",
       "    }\n",
       "\n",
       "    .dataframe tbody tr th {\n",
       "        vertical-align: top;\n",
       "    }\n",
       "\n",
       "    .dataframe thead th {\n",
       "        text-align: right;\n",
       "    }\n",
       "</style>\n",
       "<table border=\"1\" class=\"dataframe\">\n",
       "  <thead>\n",
       "    <tr style=\"text-align: right;\">\n",
       "      <th></th>\n",
       "      <th>Store</th>\n",
       "      <th>Dept</th>\n",
       "      <th>Weekly_Sales</th>\n",
       "      <th>Temperature</th>\n",
       "      <th>Fuel_Price</th>\n",
       "      <th>CPI</th>\n",
       "      <th>Unemployment</th>\n",
       "      <th>Size</th>\n",
       "    </tr>\n",
       "  </thead>\n",
       "  <tbody>\n",
       "    <tr>\n",
       "      <th>count</th>\n",
       "      <td>421570.000000</td>\n",
       "      <td>421570.000000</td>\n",
       "      <td>421570.000000</td>\n",
       "      <td>421570.000000</td>\n",
       "      <td>421570.000000</td>\n",
       "      <td>421570.000000</td>\n",
       "      <td>421570.000000</td>\n",
       "      <td>421570.000000</td>\n",
       "    </tr>\n",
       "    <tr>\n",
       "      <th>mean</th>\n",
       "      <td>22.200546</td>\n",
       "      <td>44.260317</td>\n",
       "      <td>15981.258123</td>\n",
       "      <td>60.090059</td>\n",
       "      <td>3.361027</td>\n",
       "      <td>171.201947</td>\n",
       "      <td>7.960289</td>\n",
       "      <td>136727.915739</td>\n",
       "    </tr>\n",
       "    <tr>\n",
       "      <th>std</th>\n",
       "      <td>12.785297</td>\n",
       "      <td>30.492054</td>\n",
       "      <td>22711.183519</td>\n",
       "      <td>18.447931</td>\n",
       "      <td>0.458515</td>\n",
       "      <td>39.159276</td>\n",
       "      <td>1.863296</td>\n",
       "      <td>60980.583328</td>\n",
       "    </tr>\n",
       "    <tr>\n",
       "      <th>min</th>\n",
       "      <td>1.000000</td>\n",
       "      <td>1.000000</td>\n",
       "      <td>-4988.940000</td>\n",
       "      <td>-2.060000</td>\n",
       "      <td>2.472000</td>\n",
       "      <td>126.064000</td>\n",
       "      <td>3.879000</td>\n",
       "      <td>34875.000000</td>\n",
       "    </tr>\n",
       "    <tr>\n",
       "      <th>25%</th>\n",
       "      <td>11.000000</td>\n",
       "      <td>18.000000</td>\n",
       "      <td>2079.650000</td>\n",
       "      <td>46.680000</td>\n",
       "      <td>2.933000</td>\n",
       "      <td>132.022667</td>\n",
       "      <td>6.891000</td>\n",
       "      <td>93638.000000</td>\n",
       "    </tr>\n",
       "    <tr>\n",
       "      <th>50%</th>\n",
       "      <td>22.000000</td>\n",
       "      <td>37.000000</td>\n",
       "      <td>7612.030000</td>\n",
       "      <td>62.090000</td>\n",
       "      <td>3.452000</td>\n",
       "      <td>182.318780</td>\n",
       "      <td>7.866000</td>\n",
       "      <td>140167.000000</td>\n",
       "    </tr>\n",
       "    <tr>\n",
       "      <th>75%</th>\n",
       "      <td>33.000000</td>\n",
       "      <td>74.000000</td>\n",
       "      <td>20205.852500</td>\n",
       "      <td>74.280000</td>\n",
       "      <td>3.738000</td>\n",
       "      <td>212.416993</td>\n",
       "      <td>8.572000</td>\n",
       "      <td>202505.000000</td>\n",
       "    </tr>\n",
       "    <tr>\n",
       "      <th>max</th>\n",
       "      <td>45.000000</td>\n",
       "      <td>99.000000</td>\n",
       "      <td>693099.360000</td>\n",
       "      <td>100.140000</td>\n",
       "      <td>4.468000</td>\n",
       "      <td>227.232807</td>\n",
       "      <td>14.313000</td>\n",
       "      <td>219622.000000</td>\n",
       "    </tr>\n",
       "  </tbody>\n",
       "</table>\n",
       "</div>"
      ],
      "text/plain": [
       "               Store           Dept   Weekly_Sales    Temperature  \\\n",
       "count  421570.000000  421570.000000  421570.000000  421570.000000   \n",
       "mean       22.200546      44.260317   15981.258123      60.090059   \n",
       "std        12.785297      30.492054   22711.183519      18.447931   \n",
       "min         1.000000       1.000000   -4988.940000      -2.060000   \n",
       "25%        11.000000      18.000000    2079.650000      46.680000   \n",
       "50%        22.000000      37.000000    7612.030000      62.090000   \n",
       "75%        33.000000      74.000000   20205.852500      74.280000   \n",
       "max        45.000000      99.000000  693099.360000     100.140000   \n",
       "\n",
       "          Fuel_Price            CPI   Unemployment           Size  \n",
       "count  421570.000000  421570.000000  421570.000000  421570.000000  \n",
       "mean        3.361027     171.201947       7.960289  136727.915739  \n",
       "std         0.458515      39.159276       1.863296   60980.583328  \n",
       "min         2.472000     126.064000       3.879000   34875.000000  \n",
       "25%         2.933000     132.022667       6.891000   93638.000000  \n",
       "50%         3.452000     182.318780       7.866000  140167.000000  \n",
       "75%         3.738000     212.416993       8.572000  202505.000000  \n",
       "max         4.468000     227.232807      14.313000  219622.000000  "
      ]
     },
     "execution_count": 14,
     "metadata": {},
     "output_type": "execute_result"
    }
   ],
   "source": [
    "df.describe()"
   ]
  },
  {
   "cell_type": "code",
   "execution_count": 15,
   "id": "023b2264-710c-4295-a98a-25acfef9d4f9",
   "metadata": {},
   "outputs": [
    {
     "name": "stdout",
     "output_type": "stream",
     "text": [
      "<class 'pandas.core.frame.DataFrame'>\n",
      "Int64Index: 421570 entries, 0 to 421569\n",
      "Data columns (total 12 columns):\n",
      " #   Column        Non-Null Count   Dtype         \n",
      "---  ------        --------------   -----         \n",
      " 0   Store         421570 non-null  int64         \n",
      " 1   Dept          421570 non-null  int64         \n",
      " 2   Date          421570 non-null  datetime64[ns]\n",
      " 3   Weekly_Sales  421570 non-null  float64       \n",
      " 4   IsHoliday_x   421570 non-null  bool          \n",
      " 5   Temperature   421570 non-null  float64       \n",
      " 6   Fuel_Price    421570 non-null  float64       \n",
      " 7   CPI           421570 non-null  float64       \n",
      " 8   Unemployment  421570 non-null  float64       \n",
      " 9   IsHoliday_y   421570 non-null  bool          \n",
      " 10  Type          421570 non-null  object        \n",
      " 11  Size          421570 non-null  int64         \n",
      "dtypes: bool(2), datetime64[ns](1), float64(5), int64(3), object(1)\n",
      "memory usage: 36.2+ MB\n"
     ]
    }
   ],
   "source": [
    "df.info()"
   ]
  },
  {
   "cell_type": "code",
   "execution_count": 16,
   "id": "ae7ecb18-ce41-4444-9238-07f22f1a229b",
   "metadata": {},
   "outputs": [],
   "source": [
    "df = df.drop(columns = [\"IsHoliday_y\"])\n",
    "df.rename({\"IsHoliday_x\":\"IsHoliday\"},inplace=True)"
   ]
  },
  {
   "cell_type": "code",
   "execution_count": 17,
   "id": "1c8bbf39-a8c0-44e9-9989-885230b1d40d",
   "metadata": {},
   "outputs": [
    {
     "data": {
      "text/plain": [
       "count    1285.000000\n",
       "mean      -68.608218\n",
       "std       231.664245\n",
       "min     -4988.940000\n",
       "25%       -41.000000\n",
       "50%       -13.200000\n",
       "75%        -4.940000\n",
       "max        -0.020000\n",
       "Name: Weekly_Sales, dtype: float64"
      ]
     },
     "execution_count": 17,
     "metadata": {},
     "output_type": "execute_result"
    }
   ],
   "source": [
    "df[df[\"Weekly_Sales\"]<0].Weekly_Sales.describe()\n",
    "#looks like the sales are not a typo mistake but actual losses"
   ]
  },
  {
   "cell_type": "code",
   "execution_count": 18,
   "id": "4850f940-e745-4069-bd63-660c028e4b8d",
   "metadata": {},
   "outputs": [],
   "source": [
    "multi_index_df=df.set_index([\"Store\",\"Dept\",\"Date\"])"
   ]
  },
  {
   "cell_type": "code",
   "execution_count": 27,
   "id": "5b404faa-9ded-4817-a511-2cbf1eb6c261",
   "metadata": {},
   "outputs": [
    {
     "data": {
      "text/html": [
       "<div>\n",
       "<style scoped>\n",
       "    .dataframe tbody tr th:only-of-type {\n",
       "        vertical-align: middle;\n",
       "    }\n",
       "\n",
       "    .dataframe tbody tr th {\n",
       "        vertical-align: top;\n",
       "    }\n",
       "\n",
       "    .dataframe thead th {\n",
       "        text-align: right;\n",
       "    }\n",
       "</style>\n",
       "<table border=\"1\" class=\"dataframe\">\n",
       "  <thead>\n",
       "    <tr style=\"text-align: right;\">\n",
       "      <th></th>\n",
       "      <th></th>\n",
       "      <th></th>\n",
       "      <th>Weekly_Sales</th>\n",
       "      <th>IsHoliday_x</th>\n",
       "      <th>Temperature</th>\n",
       "      <th>Fuel_Price</th>\n",
       "      <th>CPI</th>\n",
       "      <th>Unemployment</th>\n",
       "      <th>Type</th>\n",
       "      <th>Size</th>\n",
       "    </tr>\n",
       "    <tr>\n",
       "      <th>Store</th>\n",
       "      <th>Dept</th>\n",
       "      <th>Date</th>\n",
       "      <th></th>\n",
       "      <th></th>\n",
       "      <th></th>\n",
       "      <th></th>\n",
       "      <th></th>\n",
       "      <th></th>\n",
       "      <th></th>\n",
       "      <th></th>\n",
       "    </tr>\n",
       "  </thead>\n",
       "  <tbody>\n",
       "    <tr>\n",
       "      <th rowspan=\"5\" valign=\"top\">1</th>\n",
       "      <th>1</th>\n",
       "      <th>2010-02-05</th>\n",
       "      <td>NaN</td>\n",
       "      <td>NaN</td>\n",
       "      <td>NaN</td>\n",
       "      <td>NaN</td>\n",
       "      <td>NaN</td>\n",
       "      <td>NaN</td>\n",
       "      <td>NaN</td>\n",
       "      <td>NaN</td>\n",
       "    </tr>\n",
       "    <tr>\n",
       "      <th>2</th>\n",
       "      <th>2010-02-05</th>\n",
       "      <td>NaN</td>\n",
       "      <td>NaN</td>\n",
       "      <td>NaN</td>\n",
       "      <td>NaN</td>\n",
       "      <td>NaN</td>\n",
       "      <td>NaN</td>\n",
       "      <td>NaN</td>\n",
       "      <td>NaN</td>\n",
       "    </tr>\n",
       "    <tr>\n",
       "      <th>3</th>\n",
       "      <th>2010-02-05</th>\n",
       "      <td>NaN</td>\n",
       "      <td>NaN</td>\n",
       "      <td>NaN</td>\n",
       "      <td>NaN</td>\n",
       "      <td>NaN</td>\n",
       "      <td>NaN</td>\n",
       "      <td>NaN</td>\n",
       "      <td>NaN</td>\n",
       "    </tr>\n",
       "    <tr>\n",
       "      <th>4</th>\n",
       "      <th>2010-02-05</th>\n",
       "      <td>NaN</td>\n",
       "      <td>NaN</td>\n",
       "      <td>NaN</td>\n",
       "      <td>NaN</td>\n",
       "      <td>NaN</td>\n",
       "      <td>NaN</td>\n",
       "      <td>NaN</td>\n",
       "      <td>NaN</td>\n",
       "    </tr>\n",
       "    <tr>\n",
       "      <th>5</th>\n",
       "      <th>2010-02-05</th>\n",
       "      <td>NaN</td>\n",
       "      <td>NaN</td>\n",
       "      <td>NaN</td>\n",
       "      <td>NaN</td>\n",
       "      <td>NaN</td>\n",
       "      <td>NaN</td>\n",
       "      <td>NaN</td>\n",
       "      <td>NaN</td>\n",
       "    </tr>\n",
       "    <tr>\n",
       "      <th>...</th>\n",
       "      <th>...</th>\n",
       "      <th>...</th>\n",
       "      <td>...</td>\n",
       "      <td>...</td>\n",
       "      <td>...</td>\n",
       "      <td>...</td>\n",
       "      <td>...</td>\n",
       "      <td>...</td>\n",
       "      <td>...</td>\n",
       "      <td>...</td>\n",
       "    </tr>\n",
       "    <tr>\n",
       "      <th rowspan=\"5\" valign=\"top\">45</th>\n",
       "      <th>93</th>\n",
       "      <th>2012-10-26</th>\n",
       "      <td>2270.50</td>\n",
       "      <td>False</td>\n",
       "      <td>56.47</td>\n",
       "      <td>3.969</td>\n",
       "      <td>192.330854</td>\n",
       "      <td>8.667</td>\n",
       "      <td>B</td>\n",
       "      <td>118221.0</td>\n",
       "    </tr>\n",
       "    <tr>\n",
       "      <th>94</th>\n",
       "      <th>2012-10-26</th>\n",
       "      <td>4655.65</td>\n",
       "      <td>False</td>\n",
       "      <td>56.47</td>\n",
       "      <td>3.969</td>\n",
       "      <td>192.330854</td>\n",
       "      <td>8.667</td>\n",
       "      <td>B</td>\n",
       "      <td>118221.0</td>\n",
       "    </tr>\n",
       "    <tr>\n",
       "      <th>95</th>\n",
       "      <th>2012-10-26</th>\n",
       "      <td>48434.97</td>\n",
       "      <td>False</td>\n",
       "      <td>56.47</td>\n",
       "      <td>3.969</td>\n",
       "      <td>192.330854</td>\n",
       "      <td>8.667</td>\n",
       "      <td>B</td>\n",
       "      <td>118221.0</td>\n",
       "    </tr>\n",
       "    <tr>\n",
       "      <th>97</th>\n",
       "      <th>2012-10-26</th>\n",
       "      <td>5575.90</td>\n",
       "      <td>False</td>\n",
       "      <td>56.47</td>\n",
       "      <td>3.969</td>\n",
       "      <td>192.330854</td>\n",
       "      <td>8.667</td>\n",
       "      <td>B</td>\n",
       "      <td>118221.0</td>\n",
       "    </tr>\n",
       "    <tr>\n",
       "      <th>98</th>\n",
       "      <th>2012-10-26</th>\n",
       "      <td>760.01</td>\n",
       "      <td>False</td>\n",
       "      <td>56.47</td>\n",
       "      <td>3.969</td>\n",
       "      <td>192.330854</td>\n",
       "      <td>8.667</td>\n",
       "      <td>B</td>\n",
       "      <td>118221.0</td>\n",
       "    </tr>\n",
       "  </tbody>\n",
       "</table>\n",
       "<p>421570 rows × 8 columns</p>\n",
       "</div>"
      ],
      "text/plain": [
       "                       Weekly_Sales IsHoliday_x  Temperature  Fuel_Price  \\\n",
       "Store Dept Date                                                            \n",
       "1     1    2010-02-05           NaN         NaN          NaN         NaN   \n",
       "      2    2010-02-05           NaN         NaN          NaN         NaN   \n",
       "      3    2010-02-05           NaN         NaN          NaN         NaN   \n",
       "      4    2010-02-05           NaN         NaN          NaN         NaN   \n",
       "      5    2010-02-05           NaN         NaN          NaN         NaN   \n",
       "...                             ...         ...          ...         ...   \n",
       "45    93   2012-10-26       2270.50       False        56.47       3.969   \n",
       "      94   2012-10-26       4655.65       False        56.47       3.969   \n",
       "      95   2012-10-26      48434.97       False        56.47       3.969   \n",
       "      97   2012-10-26       5575.90       False        56.47       3.969   \n",
       "      98   2012-10-26        760.01       False        56.47       3.969   \n",
       "\n",
       "                              CPI  Unemployment Type      Size  \n",
       "Store Dept Date                                                 \n",
       "1     1    2010-02-05         NaN           NaN  NaN       NaN  \n",
       "      2    2010-02-05         NaN           NaN  NaN       NaN  \n",
       "      3    2010-02-05         NaN           NaN  NaN       NaN  \n",
       "      4    2010-02-05         NaN           NaN  NaN       NaN  \n",
       "      5    2010-02-05         NaN           NaN  NaN       NaN  \n",
       "...                           ...           ...  ...       ...  \n",
       "45    93   2012-10-26  192.330854         8.667    B  118221.0  \n",
       "      94   2012-10-26  192.330854         8.667    B  118221.0  \n",
       "      95   2012-10-26  192.330854         8.667    B  118221.0  \n",
       "      97   2012-10-26  192.330854         8.667    B  118221.0  \n",
       "      98   2012-10-26  192.330854         8.667    B  118221.0  \n",
       "\n",
       "[421570 rows x 8 columns]"
      ]
     },
     "execution_count": 27,
     "metadata": {},
     "output_type": "execute_result"
    }
   ],
   "source": [
    "multi_index_df.groupby(level=[0,1]).shift(1)\n",
    "#not in final product, just an example of how to work with multi index"
   ]
  },
  {
   "cell_type": "code",
   "execution_count": 30,
   "id": "341a908a-8a07-440c-b2d3-c981dcad65aa",
   "metadata": {},
   "outputs": [],
   "source": [
    "multi_index_df[\"\"]=multi_index_df.groupby(level=[0,1])[\"Weekly_Sales\"].shift(1)"
   ]
  },
  {
   "cell_type": "code",
   "execution_count": 34,
   "id": "59796084-889d-4446-adef-dddf353ddb3f",
   "metadata": {},
   "outputs": [
    {
     "data": {
      "text/plain": [
       "<AxesSubplot:xlabel='last_Week_Sales'>"
      ]
     },
     "execution_count": 34,
     "metadata": {},
     "output_type": "execute_result"
    },
    {
     "data": {
      "image/png": "[encoded data removed]",
      "text/plain": [
       "<Figure size 432x288 with 1 Axes>"
      ]
     },
     "metadata": {
      "needs_background": "light"
     },
     "output_type": "display_data"
    }
   ],
   "source": []
  },
  {
   "cell_type": "code",
   "execution_count": null,
   "id": "87650fe4-bc2f-4053-a081-85a12f88481c",
   "metadata": {},
   "outputs": [],
   "source": []
  }
 ],
 "metadata": {
  "kernelspec": {
   "display_name": "Python 3 (ipykernel)",
   "language": "python",
   "name": "python3"
  },
  "language_info": {
   "codemirror_mode": {
    "name": "ipython",
    "version": 3
   },
   "file_extension": ".py",
   "mimetype": "text/x-python",
   "name": "python",
   "nbconvert_exporter": "python",
   "pygments_lexer": "ipython3",
   "version": "3.9.7"
  }
 },
 "nbformat": 4,
 "nbformat_minor": 5
}
