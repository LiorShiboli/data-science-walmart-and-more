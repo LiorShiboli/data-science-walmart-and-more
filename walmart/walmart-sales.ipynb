{
 "cells": [
  {
   "cell_type": "code",
   "execution_count": null,
   "id": "1df78711-11a6-4577-974a-0992e68f9518",
   "metadata": {},
   "outputs": [],
   "source": []
  },
  {
   "cell_type": "code",
   "execution_count": 21,
   "id": "c343975d",
   "metadata": {},
   "outputs": [],
   "source": [
    "import numpy as np\n",
    "import pandas as pd\n",
    "import sklearn\n",
    "import matplotlib as mpl\n",
    "import matplotlib.pyplot as plt"
   ]
  },
  {
   "cell_type": "code",
   "execution_count": 63,
   "id": "1d1bf205-ad60-494a-b15e-371e381c92f6",
   "metadata": {},
   "outputs": [],
   "source": [
    "features_df=pd.read_csv('data/features.csv')\n",
    "store_df=pd.read_csv('data/stores.csv')\n",
    "sales_df=pd.read_csv('data/train.csv')"
   ]
  },
  {
   "cell_type": "code",
   "execution_count": 66,
   "id": "5c4ab5bf-fc6a-45cc-ae72-cd525d68680b",
   "metadata": {},
   "outputs": [
    {
     "name": "stdout",
     "output_type": "stream",
     "text": [
      "<class 'pandas.core.frame.DataFrame'>\n",
      "RangeIndex: 8190 entries, 0 to 8189\n",
      "Data columns (total 12 columns):\n",
      " #   Column        Non-Null Count  Dtype         \n",
      "---  ------        --------------  -----         \n",
      " 0   Store         8190 non-null   int64         \n",
      " 1   Date          8190 non-null   datetime64[ns]\n",
      " 2   Temperature   8190 non-null   float64       \n",
      " 3   Fuel_Price    8190 non-null   float64       \n",
      " 4   MarkDown1     4032 non-null   float64       \n",
      " 5   MarkDown2     2921 non-null   float64       \n",
      " 6   MarkDown3     3613 non-null   float64       \n",
      " 7   MarkDown4     3464 non-null   float64       \n",
      " 8   MarkDown5     4050 non-null   float64       \n",
      " 9   CPI           7605 non-null   float64       \n",
      " 10  Unemployment  7605 non-null   float64       \n",
      " 11  IsHoliday     8190 non-null   bool          \n",
      "dtypes: bool(1), datetime64[ns](1), float64(9), int64(1)\n",
      "memory usage: 712.0 KB\n",
      "<class 'pandas.core.frame.DataFrame'>\n",
      "RangeIndex: 45 entries, 0 to 44\n",
      "Data columns (total 3 columns):\n",
      " #   Column  Non-Null Count  Dtype \n",
      "---  ------  --------------  ----- \n",
      " 0   Store   45 non-null     int64 \n",
      " 1   Type    45 non-null     object\n",
      " 2   Size    45 non-null     int64 \n",
      "dtypes: int64(2), object(1)\n",
      "memory usage: 1.2+ KB\n",
      "<class 'pandas.core.frame.DataFrame'>\n",
      "RangeIndex: 421570 entries, 0 to 421569\n",
      "Data columns (total 5 columns):\n",
      " #   Column        Non-Null Count   Dtype  \n",
      "---  ------        --------------   -----  \n",
      " 0   Store         421570 non-null  int64  \n",
      " 1   Dept          421570 non-null  int64  \n",
      " 2   Date          421570 non-null  object \n",
      " 3   Weekly_Sales  421570 non-null  float64\n",
      " 4   IsHoliday     421570 non-null  bool   \n",
      "dtypes: bool(1), float64(1), int64(2), object(1)\n",
      "memory usage: 13.3+ MB\n",
      "None None None\n"
     ]
    }
   ],
   "source": [
    "print(features_df.info(),store_df.info(),sales_df.info())"
   ]
  },
  {
   "cell_type": "code",
   "execution_count": null,
   "id": "c44e9057-cb2a-42bc-8a4c-de7b72459732",
   "metadata": {},
   "outputs": [],
   "source": []
  },
  {
   "cell_type": "code",
   "execution_count": 70,
   "id": "fe0c4d45-6e46-4622-a206-a802415713fa",
   "metadata": {},
   "outputs": [],
   "source": [
    "features_df[\"Date\"] = pd.to_datetime(features_df[\"Date\"])\n",
    "sales_df[\"Date\"] = pd.to_datetime(sales_df[\"Date\"])\n",
    "#we cant test\\train on data later than 2012-10-26 so for this excersize it is useless\n",
    "last_Date = sales_df.Date.max()\n",
    "features_df = features_df[features_df[\"Date\"]<=last_Date]"
   ]
  },
  {
   "cell_type": "code",
   "execution_count": 71,
   "id": "5ca3b098-3514-4844-ab69-e1d7f43eebb0",
   "metadata": {},
   "outputs": [
    {
     "name": "stdout",
     "output_type": "stream",
     "text": [
      "<class 'pandas.core.frame.DataFrame'>\n",
      "Int64Index: 6435 entries, 0 to 8150\n",
      "Data columns (total 12 columns):\n",
      " #   Column        Non-Null Count  Dtype         \n",
      "---  ------        --------------  -----         \n",
      " 0   Store         6435 non-null   int64         \n",
      " 1   Date          6435 non-null   datetime64[ns]\n",
      " 2   Temperature   6435 non-null   float64       \n",
      " 3   Fuel_Price    6435 non-null   float64       \n",
      " 4   MarkDown1     2280 non-null   float64       \n",
      " 5   MarkDown2     1637 non-null   float64       \n",
      " 6   MarkDown3     2046 non-null   float64       \n",
      " 7   MarkDown4     1965 non-null   float64       \n",
      " 8   MarkDown5     2295 non-null   float64       \n",
      " 9   CPI           6435 non-null   float64       \n",
      " 10  Unemployment  6435 non-null   float64       \n",
      " 11  IsHoliday     6435 non-null   bool          \n",
      "dtypes: bool(1), datetime64[ns](1), float64(9), int64(1)\n",
      "memory usage: 609.6 KB\n"
     ]
    }
   ],
   "source": [
    "features_df.info()"
   ]
  },
  {
   "cell_type": "code",
   "execution_count": 72,
   "id": "d8f9562a-0186-496b-bf72-116ef4cd6640",
   "metadata": {},
   "outputs": [
    {
     "data": {
      "text/plain": [
       "NaN        4140\n",
       "1064.56       2\n",
       "2743.18       2\n",
       "492.36        1\n",
       "755.80        1\n",
       "           ... \n",
       "3154.77       1\n",
       "1941.32       1\n",
       "2862.32       1\n",
       "1610.18       1\n",
       "858.33        1\n",
       "Name: MarkDown5, Length: 2294, dtype: int64"
      ]
     },
     "execution_count": 72,
     "metadata": {},
     "output_type": "execute_result"
    }
   ],
   "source": [
    "features_df.MarkDown5.value_counts(dropna=False)\n",
    "#seems like theres no 0's in MarkDowns so we wont lose any information turning Nan into 0's but is it the right choice "
   ]
  },
  {
   "cell_type": "code",
   "execution_count": 73,
   "id": "524d5c70-83c6-4d11-a94e-2d08ab72aaee",
   "metadata": {},
   "outputs": [],
   "source": [
    "features_df[\"isNAn\"] = features_df[\"MarkDown4\"].isna()\n",
    "#we will take MarkDown4 as a sample since the Data in other MarkDowns is similiar on other MarkDown columns"
   ]
  },
  {
   "cell_type": "code",
   "execution_count": 74,
   "id": "c4187350-e344-4415-a06e-03421dc99bd7",
   "metadata": {},
   "outputs": [
    {
     "data": {
      "image/png": "[encoded data removed]",
      "text/plain": [
       "<Figure size 432x288 with 1 Axes>"
      ]
     },
     "metadata": {
      "needs_background": "light"
     },
     "output_type": "display_data"
    }
   ],
   "source": [
    "fig, ax = plt.subplots() \n",
    "for i in [1,2,3,4,5]:\n",
    "    features_df[\"isNAn\"] = features_df[\"MarkDown\" + str(i)].isna()\n",
    "    #fig, ax = plt.subplots()\n",
    "    ax.plot(features_df.groupby(\"Date\").isNAn.agg(\"mean\"))"
   ]
  },
  {
   "cell_type": "code",
   "execution_count": 75,
   "id": "defebe9d-d94c-4f2b-9f57-fdf399eef353",
   "metadata": {},
   "outputs": [
    {
     "data": {
      "text/plain": [
       "[<matplotlib.lines.Line2D at 0x258efd6a460>]"
      ]
     },
     "execution_count": 75,
     "metadata": {},
     "output_type": "execute_result"
    },
    {
     "data": {
      "image/png": "[encoded data removed]",
      "text/plain": [
       "<Figure size 432x288 with 1 Axes>"
      ]
     },
     "metadata": {
      "needs_background": "light"
     },
     "output_type": "display_data"
    }
   ],
   "source": [
    "fig, ax = plt.subplots() \n",
    "ax.plot(features_df.groupby(\"Date\").isNAn.agg(\"mean\"))\n",
    "#seems like they started tracking the markdowns only from a certain date thus 0 doesnt have a particular meaning \n",
    "#either take average markdown or not use markdowns(not ideal)\n",
    "#if theres hope to get more markdown Data at the fututre to train on we would have used it but this time its better to use more data"
   ]
  },
  {
   "cell_type": "code",
   "execution_count": 78,
   "id": "1f94ad00-d9f3-45a4-98b6-ece9fde89570",
   "metadata": {},
   "outputs": [],
   "source": [
    "#drop markdowns\n",
    "markdowns = [\"MarkDown1\",\"MarkDown2\",\"MarkDown3\",\"MarkDown4\",\"MarkDown5\",]\n",
    "features_df = features_df.drop (columns = markdowns)"
   ]
  },
  {
   "cell_type": "markdown",
   "id": "7c88a42b-0b8f-4fa8-8e1d-f2e18378e8ea",
   "metadata": {
    "tags": []
   },
   "source": [
    "**after doing immediate changes we will merge our data into one table**"
   ]
  },
  {
   "cell_type": "code",
   "execution_count": 92,
   "id": "acd50dfc-5396-469e-a378-fe914f3870fc",
   "metadata": {},
   "outputs": [
    {
     "data": {
      "text/plain": [
       "[<matplotlib.lines.Line2D at 0x258eff6fdf0>]"
      ]
     },
     "execution_count": 92,
     "metadata": {},
     "output_type": "execute_result"
    },
    {
     "data": {
      "image/png": "[encoded data removed]",
      "text/plain": [
       "<Figure size 432x288 with 1 Axes>"
      ]
     },
     "metadata": {
      "needs_background": "light"
     },
     "output_type": "display_data"
    }
   ],
   "source": [
    "#first look at sales_df departments\n",
    "fig, ax = plt.subplots() \n",
    "ax.plot(sales_df.groupby(\"Store\").Dept.agg(\"nunique\"))\n",
    "#we can see not all stores have the same number or even the same departments\n",
    "#we would want to predict the sales in each department"
   ]
  },
  {
   "cell_type": "code",
   "execution_count": 106,
   "id": "c7a6634d-add8-43b4-a034-2f18bab83c0b",
   "metadata": {},
   "outputs": [
    {
     "data": {
      "text/plain": [
       "143"
      ]
     },
     "execution_count": 106,
     "metadata": {},
     "output_type": "execute_result"
    }
   ],
   "source": [
    "Df=pd.merge(sales_df,features_df,how=\"outer\",on=[\"Store\",\"Date\"])"
   ]
  },
  {
   "cell_type": "code",
   "execution_count": null,
   "id": "de637dd5-02e7-4d92-8eb6-696a16202611",
   "metadata": {},
   "outputs": [],
   "source": []
  }
 ],
 "metadata": {
  "kernelspec": {
   "display_name": "Python 3 (ipykernel)",
   "language": "python",
   "name": "python3"
  },
  "language_info": {
   "codemirror_mode": {
    "name": "ipython",
    "version": 3
   },
   "file_extension": ".py",
   "mimetype": "text/x-python",
   "name": "python",
   "nbconvert_exporter": "python",
   "pygments_lexer": "ipython3",
   "version": "3.9.7"
  }
 },
 "nbformat": 4,
 "nbformat_minor": 5
}
