{
 "cells": [
  {
   "cell_type": "code",
   "execution_count": 16,
   "id": "8e2fdad8-cc2f-4bc8-85ca-655d4ca56dfc",
   "metadata": {},
   "outputs": [],
   "source": [
    "import numpy as np\n",
    "import pandas as pd\n",
    "\n",
    "import src.childs_draw as childs_draw"
   ]
  },
  {
   "cell_type": "code",
   "execution_count": null,
   "id": "02e8a638-7ace-4f49-8da4-b0594d603c4f",
   "metadata": {},
   "outputs": [],
   "source": []
  },
  {
   "cell_type": "code",
   "execution_count": 7,
   "id": "10119524-f1c0-4305-b6f8-49bb09601ebc",
   "metadata": {},
   "outputs": [],
   "source": [
    "df = childs_draw.child_draw_describe(7557, 11, True)"
   ]
  },
  {
   "cell_type": "code",
   "execution_count": 8,
   "id": "762f28ac-3c43-4113-a4e0-5efbd9714a22",
   "metadata": {},
   "outputs": [
    {
     "data": {
      "text/html": [
       "<div>\n",
       "<style scoped>\n",
       "    .dataframe tbody tr th:only-of-type {\n",
       "        vertical-align: middle;\n",
       "    }\n",
       "\n",
       "    .dataframe tbody tr th {\n",
       "        vertical-align: top;\n",
       "    }\n",
       "\n",
       "    .dataframe thead th {\n",
       "        text-align: right;\n",
       "    }\n",
       "</style>\n",
       "<table border=\"1\" class=\"dataframe\">\n",
       "  <thead>\n",
       "    <tr style=\"text-align: right;\">\n",
       "      <th></th>\n",
       "      <th>X</th>\n",
       "      <th>Y</th>\n",
       "      <th>Pressure</th>\n",
       "      <th>TiltX</th>\n",
       "      <th>TiltY</th>\n",
       "      <th>Time</th>\n",
       "      <th>TimeDiff</th>\n",
       "      <th>PressureDiff</th>\n",
       "      <th>XDiff</th>\n",
       "      <th>YDiff</th>\n",
       "      <th>TiltXDiff</th>\n",
       "      <th>TiltYDiff</th>\n",
       "    </tr>\n",
       "  </thead>\n",
       "  <tbody>\n",
       "    <tr>\n",
       "      <th>0</th>\n",
       "      <td>668.965008</td>\n",
       "      <td>642.160065</td>\n",
       "      <td>0.518547</td>\n",
       "      <td>3353.0</td>\n",
       "      <td>-759.0</td>\n",
       "      <td>3.473039</td>\n",
       "      <td>0.015717</td>\n",
       "      <td>0.031739</td>\n",
       "      <td>-1.211225</td>\n",
       "      <td>0.105324</td>\n",
       "      <td>0.0</td>\n",
       "      <td>0.0</td>\n",
       "    </tr>\n",
       "    <tr>\n",
       "      <th>1</th>\n",
       "      <td>667.753782</td>\n",
       "      <td>642.265389</td>\n",
       "      <td>0.550286</td>\n",
       "      <td>3353.0</td>\n",
       "      <td>-759.0</td>\n",
       "      <td>3.488755</td>\n",
       "      <td>0.015631</td>\n",
       "      <td>-0.011475</td>\n",
       "      <td>-2.001155</td>\n",
       "      <td>-1.158563</td>\n",
       "      <td>0.0</td>\n",
       "      <td>0.0</td>\n",
       "    </tr>\n",
       "    <tr>\n",
       "      <th>2</th>\n",
       "      <td>665.752627</td>\n",
       "      <td>641.106825</td>\n",
       "      <td>0.538811</td>\n",
       "      <td>3353.0</td>\n",
       "      <td>-759.0</td>\n",
       "      <td>3.504387</td>\n",
       "      <td>0.015597</td>\n",
       "      <td>0.021485</td>\n",
       "      <td>-0.526620</td>\n",
       "      <td>-1.000577</td>\n",
       "      <td>0.0</td>\n",
       "      <td>0.0</td>\n",
       "    </tr>\n",
       "    <tr>\n",
       "      <th>3</th>\n",
       "      <td>665.226008</td>\n",
       "      <td>640.106248</td>\n",
       "      <td>0.560296</td>\n",
       "      <td>3353.0</td>\n",
       "      <td>-759.0</td>\n",
       "      <td>3.519983</td>\n",
       "      <td>0.015545</td>\n",
       "      <td>0.036378</td>\n",
       "      <td>-0.737268</td>\n",
       "      <td>-2.633099</td>\n",
       "      <td>0.0</td>\n",
       "      <td>0.0</td>\n",
       "    </tr>\n",
       "    <tr>\n",
       "      <th>4</th>\n",
       "      <td>664.488740</td>\n",
       "      <td>637.473149</td>\n",
       "      <td>0.596674</td>\n",
       "      <td>3353.0</td>\n",
       "      <td>-759.0</td>\n",
       "      <td>3.535528</td>\n",
       "      <td>0.015730</td>\n",
       "      <td>0.011475</td>\n",
       "      <td>-0.421296</td>\n",
       "      <td>-3.739000</td>\n",
       "      <td>0.0</td>\n",
       "      <td>0.0</td>\n",
       "    </tr>\n",
       "  </tbody>\n",
       "</table>\n",
       "</div>"
      ],
      "text/plain": [
       "            X           Y  Pressure   TiltX  TiltY      Time  TimeDiff  \\\n",
       "0  668.965008  642.160065  0.518547  3353.0 -759.0  3.473039  0.015717   \n",
       "1  667.753782  642.265389  0.550286  3353.0 -759.0  3.488755  0.015631   \n",
       "2  665.752627  641.106825  0.538811  3353.0 -759.0  3.504387  0.015597   \n",
       "3  665.226008  640.106248  0.560296  3353.0 -759.0  3.519983  0.015545   \n",
       "4  664.488740  637.473149  0.596674  3353.0 -759.0  3.535528  0.015730   \n",
       "\n",
       "   PressureDiff     XDiff     YDiff  TiltXDiff  TiltYDiff  \n",
       "0      0.031739 -1.211225  0.105324        0.0        0.0  \n",
       "1     -0.011475 -2.001155 -1.158563        0.0        0.0  \n",
       "2      0.021485 -0.526620 -1.000577        0.0        0.0  \n",
       "3      0.036378 -0.737268 -2.633099        0.0        0.0  \n",
       "4      0.011475 -0.421296 -3.739000        0.0        0.0  "
      ]
     },
     "execution_count": 8,
     "metadata": {},
     "output_type": "execute_result"
    }
   ],
   "source": [
    "df.head()"
   ]
  },
  {
   "cell_type": "code",
   "execution_count": 120,
   "id": "79e7d72c-eb52-49b3-8d8b-50e6d819bcb0",
   "metadata": {},
   "outputs": [
    {
     "data": {
      "text/plain": [
       "<matplotlib.collections.PathCollection at 0x1815845ad60>"
      ]
     },
     "execution_count": 120,
     "metadata": {},
     "output_type": "execute_result"
    },
    {
     "data": {
      "image/png": "[encoded data removed]",
      "text/plain": [
       "<Figure size 432x288 with 1 Axes>"
      ]
     },
     "metadata": {
      "needs_background": "light"
     },
     "output_type": "display_data"
    }
   ],
   "source": [
    "plt.scatter(df['X'], df['Y'])"
   ]
  },
  {
   "cell_type": "code",
   "execution_count": 32,
   "id": "16785bb7-8295-424b-a0d7-5510ef83abf6",
   "metadata": {},
   "outputs": [
    {
     "data": {
      "text/plain": [
       "[0, 166, 367]"
      ]
     },
     "execution_count": 32,
     "metadata": {},
     "output_type": "execute_result"
    }
   ],
   "source": [
    "limits = [df.head(1).index[0], df.tail(1).index[0]] + df[df.TimeDiff > df.TimeDiff.std()].index.tolist()\n",
    "limits = np.unique(list(sorted(limits))).tolist()\n",
    "limits"
   ]
  },
  {
   "cell_type": "code",
   "execution_count": 39,
   "id": "4d878143-3983-4b25-9544-52b93aff195e",
   "metadata": {},
   "outputs": [],
   "source": [
    "index = 0\n",
    "for i in range(len(limits) - 1):\n",
    "    start = limits[i]\n",
    "    end = limits[i+1]\n",
    "    \n",
    "    sub_df = df.iloc[start:end]\n",
    "    break"
   ]
  },
  {
   "cell_type": "code",
   "execution_count": 127,
   "id": "ee141605-734e-4bac-b640-658a04d9aa96",
   "metadata": {},
   "outputs": [
    {
     "data": {
      "text/plain": [
       "(38, 2.619094892588523)"
      ]
     },
     "execution_count": 127,
     "metadata": {},
     "output_type": "execute_result"
    }
   ],
   "source": [
    "BLOCK = 5\n",
    "\n",
    "counter = 0\n",
    "values = []\n",
    "\n",
    "for i in sub_df.index:\n",
    "    if i + 2 * BLOCK < len(sub_df.index):\n",
    "        x1, y1 = sub_df.iloc[i][['X', 'Y']]\n",
    "        \n",
    "        deg = math.degrees(math.atan(y1/x1))\n",
    "        a = 0\n",
    "        \n",
    "        for j in range(1, BLOCK):\n",
    "            x2, y2 = sub_df.iloc[i+j][['X', 'Y']]\n",
    "            a += math.degrees(math.atan(y2/y1)) - deg\n",
    "                \n",
    "        b = a\n",
    "        \n",
    "        for j in range(5, 2 * BLOCK):\n",
    "            x2, y2 = sub_df.iloc[i+j][['X', 'Y']]\n",
    "            b += math.degrees(math.atan(y2/x2)) - deg\n",
    "        \n",
    "        a = a/BLOCK\n",
    "        b = b/(2 * BLOCK)\n",
    "        \n",
    "        if abs(b - a) > 2:\n",
    "            counter += 1\n",
    "        \n",
    "        values.append(abs(b - a))\n",
    "\n",
    "\n",
    "(counter, np.array(values).max())"
   ]
  },
  {
   "cell_type": "code",
   "execution_count": 117,
   "id": "e6ce290f-7419-4951-963f-cb70dc6b05a3",
   "metadata": {},
   "outputs": [],
   "source": [
    "import matplotlib.pyplot as plt"
   ]
  },
  {
   "cell_type": "code",
   "execution_count": 125,
   "id": "fa549fb4-8e5e-4821-bd33-eeb902ee65bb",
   "metadata": {},
   "outputs": [
    {
     "data": {
      "text/plain": [
       "<matplotlib.collections.PathCollection at 0x18157de69d0>"
      ]
     },
     "execution_count": 125,
     "metadata": {},
     "output_type": "execute_result"
    },
    {
     "data": {
      "image/png": "[encoded data removed]",
      "text/plain": [
       "<Figure size 432x288 with 1 Axes>"
      ]
     },
     "metadata": {
      "needs_background": "light"
     },
     "output_type": "display_data"
    }
   ],
   "source": [
    "plt.scatter(sub_df['X'], sub_df['Y'])\n",
    "plt.scatter(sub_df.iloc[:10]['X'], sub_df.iloc[:10]['Y'])"
   ]
  },
  {
   "cell_type": "code",
   "execution_count": 157,
   "id": "221c719e-eb8c-4d51-bee9-fb9fd3861720",
   "metadata": {},
   "outputs": [
    {
     "data": {
      "text/plain": [
       "<matplotlib.collections.PathCollection at 0x1815f20dbe0>"
      ]
     },
     "execution_count": 157,
     "metadata": {},
     "output_type": "execute_result"
    },
    {
     "data": {
      "image/png": "[encoded data removed]",
      "text/plain": [
       "<Figure size 432x288 with 1 Axes>"
      ]
     },
     "metadata": {
      "needs_background": "light"
     },
     "output_type": "display_data"
    }
   ],
   "source": [
    "BLOCK = 5\n",
    "\n",
    "counter = 0\n",
    "values = []\n",
    "sx = []\n",
    "sy = []\n",
    "\n",
    "for i in sub_df.index:\n",
    "    if i + 2 * BLOCK < len(sub_df.index):\n",
    "        x1, y1 = sub_df.iloc[i][['X', 'Y']]\n",
    "        \n",
    "        deg = math.degrees(math.atan(y1/x1))\n",
    "        a = 0\n",
    "        \n",
    "        for j in range(1, BLOCK):\n",
    "            x2, y2 = sub_df.iloc[i+j][['X', 'Y']]\n",
    "            a += math.degrees(math.atan(y2/x1)) - deg\n",
    "                \n",
    "        b = a\n",
    "        \n",
    "        for j in range(5, 2 * BLOCK):\n",
    "            x2, y2 = sub_df.iloc[i+j][['X', 'Y']]\n",
    "            b += math.degrees(math.atan(y2/x2)) - deg\n",
    "        \n",
    "        a = a/BLOCK\n",
    "        b = b/(2 * BLOCK)\n",
    "        \n",
    "        if abs(b - a) > 0.5:\n",
    "            counter += 1\n",
    "            sx.append(x1)\n",
    "            sy.append(y1)\n",
    "        \n",
    "        values.append(abs(b - a))\n",
    "\n",
    "plt.scatter(sub_df['X'], sub_df['Y'])\n",
    "plt.scatter(sx, sy)"
   ]
  },
  {
   "cell_type": "code",
   "execution_count": 160,
   "id": "79cac0b4-2cab-41ed-a865-0094b489c2cb",
   "metadata": {},
   "outputs": [
    {
     "data": {
      "text/html": [
       "<div>\n",
       "<style scoped>\n",
       "    .dataframe tbody tr th:only-of-type {\n",
       "        vertical-align: middle;\n",
       "    }\n",
       "\n",
       "    .dataframe tbody tr th {\n",
       "        vertical-align: top;\n",
       "    }\n",
       "\n",
       "    .dataframe thead th {\n",
       "        text-align: right;\n",
       "    }\n",
       "</style>\n",
       "<table border=\"1\" class=\"dataframe\">\n",
       "  <thead>\n",
       "    <tr style=\"text-align: right;\">\n",
       "      <th></th>\n",
       "      <th>0</th>\n",
       "      <th>1</th>\n",
       "    </tr>\n",
       "  </thead>\n",
       "  <tbody>\n",
       "    <tr>\n",
       "      <th>0</th>\n",
       "      <td>0.049124</td>\n",
       "      <td>-0.003390</td>\n",
       "    </tr>\n",
       "    <tr>\n",
       "      <th>1</th>\n",
       "      <td>0.015469</td>\n",
       "      <td>-0.064015</td>\n",
       "    </tr>\n",
       "    <tr>\n",
       "      <th>2</th>\n",
       "      <td>-0.043457</td>\n",
       "      <td>-0.148587</td>\n",
       "    </tr>\n",
       "    <tr>\n",
       "      <th>3</th>\n",
       "      <td>-0.107570</td>\n",
       "      <td>-0.214089</td>\n",
       "    </tr>\n",
       "    <tr>\n",
       "      <th>4</th>\n",
       "      <td>-0.168876</td>\n",
       "      <td>-0.274263</td>\n",
       "    </tr>\n",
       "    <tr>\n",
       "      <th>...</th>\n",
       "      <td>...</td>\n",
       "      <td>...</td>\n",
       "    </tr>\n",
       "    <tr>\n",
       "      <th>155</th>\n",
       "      <td>0.013874</td>\n",
       "      <td>0.003080</td>\n",
       "    </tr>\n",
       "    <tr>\n",
       "      <th>156</th>\n",
       "      <td>-0.001519</td>\n",
       "      <td>-0.010788</td>\n",
       "    </tr>\n",
       "    <tr>\n",
       "      <th>157</th>\n",
       "      <td>-0.011556</td>\n",
       "      <td>-0.031656</td>\n",
       "    </tr>\n",
       "    <tr>\n",
       "      <th>158</th>\n",
       "      <td>-0.013119</td>\n",
       "      <td>-0.034765</td>\n",
       "    </tr>\n",
       "    <tr>\n",
       "      <th>159</th>\n",
       "      <td>-0.023163</td>\n",
       "      <td>-0.057579</td>\n",
       "    </tr>\n",
       "  </tbody>\n",
       "</table>\n",
       "<p>160 rows × 2 columns</p>\n",
       "</div>"
      ],
      "text/plain": [
       "            0         1\n",
       "0    0.049124 -0.003390\n",
       "1    0.015469 -0.064015\n",
       "2   -0.043457 -0.148587\n",
       "3   -0.107570 -0.214089\n",
       "4   -0.168876 -0.274263\n",
       "..        ...       ...\n",
       "155  0.013874  0.003080\n",
       "156 -0.001519 -0.010788\n",
       "157 -0.011556 -0.031656\n",
       "158 -0.013119 -0.034765\n",
       "159 -0.023163 -0.057579\n",
       "\n",
       "[160 rows x 2 columns]"
      ]
     },
     "execution_count": 160,
     "metadata": {},
     "output_type": "execute_result"
    },
    {
     "data": {
      "image/png": "[encoded data removed]",
      "text/plain": [
       "<Figure size 432x288 with 1 Axes>"
      ]
     },
     "metadata": {
      "needs_background": "light"
     },
     "output_type": "display_data"
    }
   ],
   "source": [
    "BLOCK = 3\n",
    "\n",
    "counter = 0\n",
    "values = []\n",
    "sx = []\n",
    "sy = []\n",
    "\n",
    "for i in sub_df.index:\n",
    "    if i + 2 * BLOCK < len(sub_df.index):\n",
    "        x1, y1 = sub_df.iloc[i][['X', 'Y']]\n",
    "        \n",
    "        deg = math.degrees(math.atan(y1/x1))\n",
    "        a = 0\n",
    "        \n",
    "        for j in range(1, BLOCK):\n",
    "            x2, y2 = sub_df.iloc[i+j][['X', 'Y']]\n",
    "            a += math.degrees(math.atan(y2/x2)) - deg\n",
    "                \n",
    "        b = a\n",
    "        \n",
    "        for j in range(5, 2 * BLOCK):\n",
    "            x2, y2 = sub_df.iloc[i+j][['X', 'Y']]\n",
    "            b += math.degrees(math.atan(y2/x2)) - deg\n",
    "        \n",
    "        a = a/BLOCK\n",
    "        b = b/(2*BLOCK)\n",
    "        \n",
    "        if abs(b - a) > 0.5:\n",
    "            counter += 1\n",
    "            sx.append(x1)\n",
    "            sy.append(y1)\n",
    "        \n",
    "        values.append([a,b])\n",
    "\n",
    "plt.scatter(sub_df['X'], sub_df['Y'])\n",
    "plt.scatter(sx, sy)\n",
    "counter\n",
    "values = np.array(values)\n",
    "pd.DataFrame(values)"
   ]
  },
  {
   "cell_type": "code",
   "execution_count": 190,
   "id": "e8672643-b2c6-4a10-8af0-6a904d3e43c4",
   "metadata": {},
   "outputs": [
    {
     "data": {
      "text/plain": [
       "4"
      ]
     },
     "execution_count": 190,
     "metadata": {},
     "output_type": "execute_result"
    },
    {
     "data": {
      "image/png": "[encoded data removed]",
      "text/plain": [
       "<Figure size 432x288 with 1 Axes>"
      ]
     },
     "metadata": {
      "needs_background": "light"
     },
     "output_type": "display_data"
    }
   ],
   "source": [
    "BLOCK = 5\n",
    "\n",
    "counter = 0\n",
    "values = []\n",
    "sx = []\n",
    "sy = []\n",
    "\n",
    "def get_angle(x1, y1, x2, y2):\n",
    "    if (x1 == x2):\n",
    "        if y2 >= y1:\n",
    "            return 90\n",
    "        return -90\n",
    "    \n",
    "    return math.degrees(math.atan(y2-y1/x2-x1))\n",
    "\n",
    "i = sub_df.head(1).index[0]\n",
    "while i < sub_df.tail(2 * BLOCK).index[0]:\n",
    "    if i + 2 * BLOCK < len(sub_df.index):\n",
    "        x1, y1 = sub_df.iloc[i][['X', 'Y']]\n",
    "        \n",
    "        a = 0\n",
    "        \n",
    "        for j in range(1, BLOCK):\n",
    "            x2, y2 = sub_df.iloc[i+j][['X', 'Y']]\n",
    "            a += get_angle(x1, y1, x2, y2)\n",
    "                \n",
    "        b = a\n",
    "        \n",
    "        for j in range(5, 2 * BLOCK):\n",
    "            x2, y2 = sub_df.iloc[i+j][['X', 'Y']]\n",
    "            b += get_angle(x1, y1, x2, y2)\n",
    "        \n",
    "        a = a/BLOCK\n",
    "        b = b/(2*BLOCK)\n",
    "        \n",
    "        if abs(b - a) > 10:\n",
    "            counter += 1\n",
    "            sx.append(x1)\n",
    "            sy.append(y1)\n",
    "            \n",
    "        values.append([a,b])\n",
    "    \n",
    "    i += BLOCK\n",
    "\n",
    "plt.scatter(sub_df['X'], sub_df['Y'])\n",
    "plt.scatter(sx, sy)\n",
    "\n",
    "pd.DataFrame(np.array(values))\n",
    "\n",
    "counter"
   ]
  },
  {
   "cell_type": "code",
   "execution_count": 178,
   "id": "36c8e3b4-93e6-4cc4-b89b-ff2b0caf3b31",
   "metadata": {},
   "outputs": [
    {
     "data": {
      "text/plain": [
       "0"
      ]
     },
     "execution_count": 178,
     "metadata": {},
     "output_type": "execute_result"
    }
   ],
   "source": []
  },
  {
   "cell_type": "code",
   "execution_count": 170,
   "id": "6fa18dfb-adc9-4113-ac09-f5b9b17ce9a3",
   "metadata": {},
   "outputs": [
    {
     "data": {
      "text/plain": [
       "int"
      ]
     },
     "execution_count": 170,
     "metadata": {},
     "output_type": "execute_result"
    }
   ],
   "source": []
  },
  {
   "cell_type": "code",
   "execution_count": 89,
   "id": "3751ee77-4f8a-44c7-8a32-39d872538ffb",
   "metadata": {},
   "outputs": [],
   "source": []
  }
 ],
 "metadata": {
  "kernelspec": {
   "display_name": "data-science-walmart-and-more",
   "language": "python",
   "name": "data-science-walmart-and-more"
  },
  "language_info": {
   "codemirror_mode": {
    "name": "ipython",
    "version": 3
   },
   "file_extension": ".py",
   "mimetype": "text/x-python",
   "name": "python",
   "nbconvert_exporter": "python",
   "pygments_lexer": "ipython3",
   "version": "3.9.6"
  }
 },
 "nbformat": 4,
 "nbformat_minor": 5
}
