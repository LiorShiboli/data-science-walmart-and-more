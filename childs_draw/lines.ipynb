{
 "cells": [
  {
   "cell_type": "code",
   "execution_count": 16,
   "id": "8e2fdad8-cc2f-4bc8-85ca-655d4ca56dfc",
   "metadata": {},
   "outputs": [],
   "source": [
    "import os\n",
    "import sys\n",
    "import shutil\n",
    "\n",
    "import time\n",
    "import math\n",
    "\n",
    "import numpy as np\n",
    "import pandas as pd\n",
    "\n",
    "import matplotlib.pyplot as plt\n",
    "\n",
    "import cv2\n",
    "\n",
    "import src.childs_draw as childs_draw"
   ]
  },
  {
   "cell_type": "code",
   "execution_count": null,
   "id": "092fffe8-ac7e-4c0d-bb8b-52ac36b66e47",
   "metadata": {},
   "outputs": [],
   "source": []
  },
  {
   "cell_type": "code",
   "execution_count": 17,
   "id": "02e8a638-7ace-4f49-8da4-b0594d603c4f",
   "metadata": {},
   "outputs": [],
   "source": [
    "if os.path.isdir('./temp'):\n",
    "    shutil.rmtree('./temp')\n",
    "os.mkdir('./temp')\n",
    "\n",
    "childs_draw.set_save_images_folder('./temp')"
   ]
  },
  {
   "cell_type": "code",
   "execution_count": 18,
   "id": "10119524-f1c0-4305-b6f8-49bb09601ebc",
   "metadata": {},
   "outputs": [],
   "source": [
    "df = childs_draw.child_draw_describe(7557, 11, True)"
   ]
  },
  {
   "cell_type": "code",
   "execution_count": 19,
   "id": "762f28ac-3c43-4113-a4e0-5efbd9714a22",
   "metadata": {},
   "outputs": [
    {
     "data": {
      "text/html": [
       "<div>\n",
       "<style scoped>\n",
       "    .dataframe tbody tr th:only-of-type {\n",
       "        vertical-align: middle;\n",
       "    }\n",
       "\n",
       "    .dataframe tbody tr th {\n",
       "        vertical-align: top;\n",
       "    }\n",
       "\n",
       "    .dataframe thead th {\n",
       "        text-align: right;\n",
       "    }\n",
       "</style>\n",
       "<table border=\"1\" class=\"dataframe\">\n",
       "  <thead>\n",
       "    <tr style=\"text-align: right;\">\n",
       "      <th></th>\n",
       "      <th>X</th>\n",
       "      <th>Y</th>\n",
       "      <th>Pressure</th>\n",
       "      <th>TiltX</th>\n",
       "      <th>TiltY</th>\n",
       "      <th>Time</th>\n",
       "      <th>TimeDiff</th>\n",
       "      <th>PressureDiff</th>\n",
       "      <th>XDiff</th>\n",
       "      <th>YDiff</th>\n",
       "      <th>TiltXDiff</th>\n",
       "      <th>TiltYDiff</th>\n",
       "    </tr>\n",
       "  </thead>\n",
       "  <tbody>\n",
       "    <tr>\n",
       "      <th>0</th>\n",
       "      <td>668.965008</td>\n",
       "      <td>642.160065</td>\n",
       "      <td>0.518547</td>\n",
       "      <td>3353.0</td>\n",
       "      <td>-759.0</td>\n",
       "      <td>3.473039</td>\n",
       "      <td>0.015717</td>\n",
       "      <td>0.031739</td>\n",
       "      <td>-1.211225</td>\n",
       "      <td>0.105324</td>\n",
       "      <td>0.0</td>\n",
       "      <td>0.0</td>\n",
       "    </tr>\n",
       "    <tr>\n",
       "      <th>1</th>\n",
       "      <td>667.753782</td>\n",
       "      <td>642.265389</td>\n",
       "      <td>0.550286</td>\n",
       "      <td>3353.0</td>\n",
       "      <td>-759.0</td>\n",
       "      <td>3.488755</td>\n",
       "      <td>0.015631</td>\n",
       "      <td>-0.011475</td>\n",
       "      <td>-2.001155</td>\n",
       "      <td>-1.158563</td>\n",
       "      <td>0.0</td>\n",
       "      <td>0.0</td>\n",
       "    </tr>\n",
       "    <tr>\n",
       "      <th>2</th>\n",
       "      <td>665.752627</td>\n",
       "      <td>641.106825</td>\n",
       "      <td>0.538811</td>\n",
       "      <td>3353.0</td>\n",
       "      <td>-759.0</td>\n",
       "      <td>3.504387</td>\n",
       "      <td>0.015597</td>\n",
       "      <td>0.021485</td>\n",
       "      <td>-0.526620</td>\n",
       "      <td>-1.000577</td>\n",
       "      <td>0.0</td>\n",
       "      <td>0.0</td>\n",
       "    </tr>\n",
       "    <tr>\n",
       "      <th>3</th>\n",
       "      <td>665.226008</td>\n",
       "      <td>640.106248</td>\n",
       "      <td>0.560296</td>\n",
       "      <td>3353.0</td>\n",
       "      <td>-759.0</td>\n",
       "      <td>3.519983</td>\n",
       "      <td>0.015545</td>\n",
       "      <td>0.036378</td>\n",
       "      <td>-0.737268</td>\n",
       "      <td>-2.633099</td>\n",
       "      <td>0.0</td>\n",
       "      <td>0.0</td>\n",
       "    </tr>\n",
       "    <tr>\n",
       "      <th>4</th>\n",
       "      <td>664.488740</td>\n",
       "      <td>637.473149</td>\n",
       "      <td>0.596674</td>\n",
       "      <td>3353.0</td>\n",
       "      <td>-759.0</td>\n",
       "      <td>3.535528</td>\n",
       "      <td>0.015730</td>\n",
       "      <td>0.011475</td>\n",
       "      <td>-0.421296</td>\n",
       "      <td>-3.739000</td>\n",
       "      <td>0.0</td>\n",
       "      <td>0.0</td>\n",
       "    </tr>\n",
       "  </tbody>\n",
       "</table>\n",
       "</div>"
      ],
      "text/plain": [
       "            X           Y  Pressure   TiltX  TiltY      Time  TimeDiff  \\\n",
       "0  668.965008  642.160065  0.518547  3353.0 -759.0  3.473039  0.015717   \n",
       "1  667.753782  642.265389  0.550286  3353.0 -759.0  3.488755  0.015631   \n",
       "2  665.752627  641.106825  0.538811  3353.0 -759.0  3.504387  0.015597   \n",
       "3  665.226008  640.106248  0.560296  3353.0 -759.0  3.519983  0.015545   \n",
       "4  664.488740  637.473149  0.596674  3353.0 -759.0  3.535528  0.015730   \n",
       "\n",
       "   PressureDiff     XDiff     YDiff  TiltXDiff  TiltYDiff  \n",
       "0      0.031739 -1.211225  0.105324        0.0        0.0  \n",
       "1     -0.011475 -2.001155 -1.158563        0.0        0.0  \n",
       "2      0.021485 -0.526620 -1.000577        0.0        0.0  \n",
       "3      0.036378 -0.737268 -2.633099        0.0        0.0  \n",
       "4      0.011475 -0.421296 -3.739000        0.0        0.0  "
      ]
     },
     "execution_count": 19,
     "metadata": {},
     "output_type": "execute_result"
    }
   ],
   "source": [
    "df.head()"
   ]
  },
  {
   "cell_type": "code",
   "execution_count": 20,
   "id": "79e7d72c-eb52-49b3-8d8b-50e6d819bcb0",
   "metadata": {},
   "outputs": [
    {
     "data": {
      "text/plain": [
       "<matplotlib.collections.PathCollection at 0x17905e3bcd0>"
      ]
     },
     "execution_count": 20,
     "metadata": {},
     "output_type": "execute_result"
    },
    {
     "data": {
      "image/png": "[encoded data removed]",
      "text/plain": [
       "<Figure size 432x288 with 1 Axes>"
      ]
     },
     "metadata": {
      "needs_background": "light"
     },
     "output_type": "display_data"
    }
   ],
   "source": [
    "plt.scatter(df['X'], df['Y'])"
   ]
  },
  {
   "cell_type": "code",
   "execution_count": 7,
   "id": "16785bb7-8295-424b-a0d7-5510ef83abf6",
   "metadata": {},
   "outputs": [
    {
     "data": {
      "text/plain": [
       "[0, 166, 367]"
      ]
     },
     "execution_count": 7,
     "metadata": {},
     "output_type": "execute_result"
    }
   ],
   "source": [
    "limits = [df.head(1).index[0], df.tail(1).index[0]] + df[df.TimeDiff > df.TimeDiff.std()].index.tolist()\n",
    "limits = np.unique(list(sorted(limits))).tolist()\n",
    "limits"
   ]
  },
  {
   "cell_type": "code",
   "execution_count": 17,
   "id": "4d878143-3983-4b25-9544-52b93aff195e",
   "metadata": {},
   "outputs": [],
   "source": [
    "index = 0\n",
    "for i in range(len(limits) - 1):\n",
    "    start = limits[i]\n",
    "    end = limits[i+1]\n",
    "    \n",
    "    sub_df = df.iloc[start:end]\n",
    "    break"
   ]
  },
  {
   "cell_type": "code",
   "execution_count": 18,
   "id": "ee141605-734e-4bac-b640-658a04d9aa96",
   "metadata": {},
   "outputs": [
    {
     "data": {
      "text/plain": [
       "(38, 2.619094892588523)"
      ]
     },
     "execution_count": 18,
     "metadata": {},
     "output_type": "execute_result"
    }
   ],
   "source": [
    "BLOCK = 5\n",
    "\n",
    "counter = 0\n",
    "values = []\n",
    "\n",
    "for i in sub_df.index:\n",
    "    if i + 2 * BLOCK < len(sub_df.index):\n",
    "        x1, y1 = sub_df.iloc[i][['X', 'Y']]\n",
    "        \n",
    "        deg = math.degrees(math.atan(y1/x1))\n",
    "        a = 0\n",
    "        \n",
    "        for j in range(1, BLOCK):\n",
    "            x2, y2 = sub_df.iloc[i+j][['X', 'Y']]\n",
    "            a += math.degrees(math.atan(y2/y1)) - deg\n",
    "                \n",
    "        b = a\n",
    "        \n",
    "        for j in range(5, 2 * BLOCK):\n",
    "            x2, y2 = sub_df.iloc[i+j][['X', 'Y']]\n",
    "            b += math.degrees(math.atan(y2/x2)) - deg\n",
    "        \n",
    "        a = a/BLOCK\n",
    "        b = b/(2 * BLOCK)\n",
    "        \n",
    "        if abs(b - a) > 2:\n",
    "            counter += 1\n",
    "        \n",
    "        values.append(abs(b - a))\n",
    "\n",
    "\n",
    "(counter, np.array(values).max())"
   ]
  },
  {
   "cell_type": "code",
   "execution_count": 117,
   "id": "e6ce290f-7419-4951-963f-cb70dc6b05a3",
   "metadata": {},
   "outputs": [],
   "source": [
    "import matplotlib.pyplot as plt"
   ]
  },
  {
   "cell_type": "code",
   "execution_count": 19,
   "id": "fa549fb4-8e5e-4821-bd33-eeb902ee65bb",
   "metadata": {},
   "outputs": [
    {
     "data": {
      "text/plain": [
       "<matplotlib.collections.PathCollection at 0x174707ebeb0>"
      ]
     },
     "execution_count": 19,
     "metadata": {},
     "output_type": "execute_result"
    },
    {
     "data": {
      "image/png": "[encoded data removed]",
      "text/plain": [
       "<Figure size 432x288 with 1 Axes>"
      ]
     },
     "metadata": {
      "needs_background": "light"
     },
     "output_type": "display_data"
    }
   ],
   "source": [
    "plt.scatter(sub_df['X'], sub_df['Y'])\n",
    "plt.scatter(sub_df.iloc[:10]['X'], sub_df.iloc[:10]['Y'])"
   ]
  },
  {
   "cell_type": "code",
   "execution_count": 157,
   "id": "221c719e-eb8c-4d51-bee9-fb9fd3861720",
   "metadata": {},
   "outputs": [
    {
     "data": {
      "text/plain": [
       "<matplotlib.collections.PathCollection at 0x1815f20dbe0>"
      ]
     },
     "execution_count": 157,
     "metadata": {},
     "output_type": "execute_result"
    },
    {
     "data": {
      "image/png": "[encoded data removed]",
      "text/plain": [
       "<Figure size 432x288 with 1 Axes>"
      ]
     },
     "metadata": {
      "needs_background": "light"
     },
     "output_type": "display_data"
    }
   ],
   "source": [
    "BLOCK = 5\n",
    "\n",
    "counter = 0\n",
    "values = []\n",
    "sx = []\n",
    "sy = []\n",
    "\n",
    "for i in sub_df.index:\n",
    "    if i + 2 * BLOCK < len(sub_df.index):\n",
    "        x1, y1 = sub_df.iloc[i][['X', 'Y']]\n",
    "        \n",
    "        deg = math.degrees(math.atan(y1/x1))\n",
    "        a = 0\n",
    "        \n",
    "        for j in range(1, BLOCK):\n",
    "            x2, y2 = sub_df.iloc[i+j][['X', 'Y']]\n",
    "            a += math.degrees(math.atan(y2/x1)) - deg\n",
    "                \n",
    "        b = a\n",
    "        \n",
    "        for j in range(5, 2 * BLOCK):\n",
    "            x2, y2 = sub_df.iloc[i+j][['X', 'Y']]\n",
    "            b += math.degrees(math.atan(y2/x2)) - deg\n",
    "        \n",
    "        a = a/BLOCK\n",
    "        b = b/(2 * BLOCK)\n",
    "        \n",
    "        if abs(b - a) > 0.5:\n",
    "            counter += 1\n",
    "            sx.append(x1)\n",
    "            sy.append(y1)\n",
    "        \n",
    "        values.append(abs(b - a))\n",
    "\n",
    "plt.scatter(sub_df['X'], sub_df['Y'])\n",
    "plt.scatter(sx, sy)"
   ]
  },
  {
   "cell_type": "code",
   "execution_count": 160,
   "id": "79cac0b4-2cab-41ed-a865-0094b489c2cb",
   "metadata": {},
   "outputs": [
    {
     "data": {
      "text/html": [
       "<div>\n",
       "<style scoped>\n",
       "    .dataframe tbody tr th:only-of-type {\n",
       "        vertical-align: middle;\n",
       "    }\n",
       "\n",
       "    .dataframe tbody tr th {\n",
       "        vertical-align: top;\n",
       "    }\n",
       "\n",
       "    .dataframe thead th {\n",
       "        text-align: right;\n",
       "    }\n",
       "</style>\n",
       "<table border=\"1\" class=\"dataframe\">\n",
       "  <thead>\n",
       "    <tr style=\"text-align: right;\">\n",
       "      <th></th>\n",
       "      <th>0</th>\n",
       "      <th>1</th>\n",
       "    </tr>\n",
       "  </thead>\n",
       "  <tbody>\n",
       "    <tr>\n",
       "      <th>0</th>\n",
       "      <td>0.049124</td>\n",
       "      <td>-0.003390</td>\n",
       "    </tr>\n",
       "    <tr>\n",
       "      <th>1</th>\n",
       "      <td>0.015469</td>\n",
       "      <td>-0.064015</td>\n",
       "    </tr>\n",
       "    <tr>\n",
       "      <th>2</th>\n",
       "      <td>-0.043457</td>\n",
       "      <td>-0.148587</td>\n",
       "    </tr>\n",
       "    <tr>\n",
       "      <th>3</th>\n",
       "      <td>-0.107570</td>\n",
       "      <td>-0.214089</td>\n",
       "    </tr>\n",
       "    <tr>\n",
       "      <th>4</th>\n",
       "      <td>-0.168876</td>\n",
       "      <td>-0.274263</td>\n",
       "    </tr>\n",
       "    <tr>\n",
       "      <th>...</th>\n",
       "      <td>...</td>\n",
       "      <td>...</td>\n",
       "    </tr>\n",
       "    <tr>\n",
       "      <th>155</th>\n",
       "      <td>0.013874</td>\n",
       "      <td>0.003080</td>\n",
       "    </tr>\n",
       "    <tr>\n",
       "      <th>156</th>\n",
       "      <td>-0.001519</td>\n",
       "      <td>-0.010788</td>\n",
       "    </tr>\n",
       "    <tr>\n",
       "      <th>157</th>\n",
       "      <td>-0.011556</td>\n",
       "      <td>-0.031656</td>\n",
       "    </tr>\n",
       "    <tr>\n",
       "      <th>158</th>\n",
       "      <td>-0.013119</td>\n",
       "      <td>-0.034765</td>\n",
       "    </tr>\n",
       "    <tr>\n",
       "      <th>159</th>\n",
       "      <td>-0.023163</td>\n",
       "      <td>-0.057579</td>\n",
       "    </tr>\n",
       "  </tbody>\n",
       "</table>\n",
       "<p>160 rows × 2 columns</p>\n",
       "</div>"
      ],
      "text/plain": [
       "            0         1\n",
       "0    0.049124 -0.003390\n",
       "1    0.015469 -0.064015\n",
       "2   -0.043457 -0.148587\n",
       "3   -0.107570 -0.214089\n",
       "4   -0.168876 -0.274263\n",
       "..        ...       ...\n",
       "155  0.013874  0.003080\n",
       "156 -0.001519 -0.010788\n",
       "157 -0.011556 -0.031656\n",
       "158 -0.013119 -0.034765\n",
       "159 -0.023163 -0.057579\n",
       "\n",
       "[160 rows x 2 columns]"
      ]
     },
     "execution_count": 160,
     "metadata": {},
     "output_type": "execute_result"
    },
    {
     "data": {
      "image/png": "[encoded data removed]",
      "text/plain": [
       "<Figure size 432x288 with 1 Axes>"
      ]
     },
     "metadata": {
      "needs_background": "light"
     },
     "output_type": "display_data"
    }
   ],
   "source": [
    "BLOCK = 3\n",
    "\n",
    "counter = 0\n",
    "values = []\n",
    "sx = []\n",
    "sy = []\n",
    "\n",
    "for i in sub_df.index:\n",
    "    if i + 2 * BLOCK < len(sub_df.index):\n",
    "        x1, y1 = sub_df.iloc[i][['X', 'Y']]\n",
    "        \n",
    "        deg = math.degrees(math.atan(y1/x1))\n",
    "        a = 0\n",
    "        \n",
    "        for j in range(1, BLOCK):\n",
    "            x2, y2 = sub_df.iloc[i+j][['X', 'Y']]\n",
    "            a += math.degrees(math.atan(y2/x2)) - deg\n",
    "                \n",
    "        b = a\n",
    "        \n",
    "        for j in range(5, 2 * BLOCK):\n",
    "            x2, y2 = sub_df.iloc[i+j][['X', 'Y']]\n",
    "            b += math.degrees(math.atan(y2/x2)) - deg\n",
    "        \n",
    "        a = a/BLOCK\n",
    "        b = b/(2*BLOCK)\n",
    "        \n",
    "        if abs(b - a) > 0.5:\n",
    "            counter += 1\n",
    "            sx.append(x1)\n",
    "            sy.append(y1)\n",
    "        \n",
    "        values.append([a,b])\n",
    "\n",
    "plt.scatter(sub_df['X'], sub_df['Y'])\n",
    "plt.scatter(sx, sy)\n",
    "counter\n",
    "values = np.array(values)\n",
    "pd.DataFrame(values)"
   ]
  },
  {
   "cell_type": "code",
   "execution_count": 20,
   "id": "e8672643-b2c6-4a10-8af0-6a904d3e43c4",
   "metadata": {},
   "outputs": [
    {
     "data": {
      "text/plain": [
       "4"
      ]
     },
     "execution_count": 20,
     "metadata": {},
     "output_type": "execute_result"
    },
    {
     "data": {
      "image/png": "[encoded data removed]",
      "text/plain": [
       "<Figure size 432x288 with 1 Axes>"
      ]
     },
     "metadata": {
      "needs_background": "light"
     },
     "output_type": "display_data"
    }
   ],
   "source": [
    "BLOCK = 5\n",
    "\n",
    "counter = 0\n",
    "values = []\n",
    "sx = []\n",
    "sy = []\n",
    "\n",
    "def get_angle(x1, y1, x2, y2):\n",
    "    if (x1 == x2):\n",
    "        if y2 >= y1:\n",
    "            return 90\n",
    "        return -90\n",
    "    \n",
    "    return math.degrees(math.atan(y2-y1/x2-x1))\n",
    "\n",
    "i = sub_df.head(1).index[0]\n",
    "while i < sub_df.tail(2 * BLOCK).index[0]:\n",
    "    if i + 2 * BLOCK < len(sub_df.index):\n",
    "        x1, y1 = sub_df.iloc[i][['X', 'Y']]\n",
    "        \n",
    "        a = 0\n",
    "        \n",
    "        for j in range(1, BLOCK):\n",
    "            x2, y2 = sub_df.iloc[i+j][['X', 'Y']]\n",
    "            a += get_angle(x1, y1, x2, y2)\n",
    "                \n",
    "        b = a\n",
    "        \n",
    "        for j in range(5, 2 * BLOCK):\n",
    "            x2, y2 = sub_df.iloc[i+j][['X', 'Y']]\n",
    "            b += get_angle(x1, y1, x2, y2)\n",
    "        \n",
    "        a = a/BLOCK\n",
    "        b = b/(2*BLOCK)\n",
    "        \n",
    "        if abs(b - a) > 10:\n",
    "            counter += 1\n",
    "            sx.append(x1)\n",
    "            sy.append(y1)\n",
    "            \n",
    "        values.append([a,b])\n",
    "    \n",
    "    i += BLOCK\n",
    "\n",
    "plt.scatter(sub_df['X'], sub_df['Y'])\n",
    "plt.scatter(sx, sy)\n",
    "\n",
    "pd.DataFrame(np.array(values))\n",
    "\n",
    "counter"
   ]
  },
  {
   "cell_type": "code",
   "execution_count": 191,
   "id": "36c8e3b4-93e6-4cc4-b89b-ff2b0caf3b31",
   "metadata": {},
   "outputs": [],
   "source": [
    "# need Delta X"
   ]
  },
  {
   "cell_type": "code",
   "execution_count": 21,
   "id": "6fa18dfb-adc9-4113-ac09-f5b9b17ce9a3",
   "metadata": {},
   "outputs": [
    {
     "data": {
      "image/png": "[encoded data removed]",
      "text/plain": [
       "<Figure size 432x288 with 1 Axes>"
      ]
     },
     "metadata": {
      "needs_background": "light"
     },
     "output_type": "display_data"
    }
   ],
   "source": [
    "def get_angle(x1, y1, x2, y2):\n",
    "    if (x1 == x2):\n",
    "        if y2 >= y1:\n",
    "            return 90\n",
    "        return -90\n",
    "    \n",
    "    return math.degrees(math.atan(y2-y1/x2-x1))\n",
    "\n",
    "def get_distance(x1, y1, x2, y2):\n",
    "    return ((x2-x1)**2 + (y2-y1)**2) ** 0.5\n",
    "\n",
    "def get_next_block(df: pd.DataFrame, current, distance: float):\n",
    "    if current not in df.index.tolist():\n",
    "        return None\n",
    "    \n",
    "    x2, y2 = x1, y1 = df.iloc[current][['X', 'Y']]\n",
    "    \n",
    "    i = current\n",
    "    while get_distance(x1, y1, x2, y2) < distance:\n",
    "        i += 1\n",
    "        if i not in df.index.tolist():\n",
    "            return i - 1\n",
    "        \n",
    "        x2, y2 = df.iloc[i][['X', 'Y']]\n",
    "    \n",
    "    return i\n",
    "\n",
    "DELTA_XY = 3\n",
    "\n",
    "sx = []\n",
    "sy = []\n",
    "\n",
    "start_index = sub_df.head(1).index[0]\n",
    "\n",
    "end_index = get_next_block(sub_df, start_index, DELTA_XY)\n",
    "\n",
    "while start_index < end_index:\n",
    "    x1, y1 = sub_df.iloc[start_index][['X', 'Y']]\n",
    "    sx.append(x1)\n",
    "    sy.append(y1)\n",
    "    \n",
    "    start_index = end_index\n",
    "    end_index = get_next_block(sub_df, start_index, DELTA_XY)\n",
    "\n",
    "plt.scatter(sub_df['X'], sub_df['Y'])\n",
    "plt.scatter(sx, sy)\n",
    "\n",
    "None"
   ]
  },
  {
   "cell_type": "code",
   "execution_count": 41,
   "id": "53e5f081-9767-4721-8111-2c2754225dd2",
   "metadata": {},
   "outputs": [
    {
     "data": {
      "image/png": "[encoded data removed]",
      "text/plain": [
       "<Figure size 432x288 with 1 Axes>"
      ]
     },
     "metadata": {
      "needs_background": "light"
     },
     "output_type": "display_data"
    },
    {
     "data": {
      "image/png": "[encoded data removed]",
      "text/plain": [
       "<Figure size 432x288 with 1 Axes>"
      ]
     },
     "metadata": {
      "needs_background": "light"
     },
     "output_type": "display_data"
    }
   ],
   "source": [
    "def get_angle(x1, y1, x2, y2):\n",
    "    if (x1 == x2):\n",
    "        if y2 >= y1:\n",
    "            return 90\n",
    "        return -90\n",
    "    \n",
    "    return math.degrees(math.atan(y2-y1/x2-x1))\n",
    "\n",
    "def get_distance(x1, y1, x2, y2):\n",
    "    return ((x2-x1)**2 + (y2-y1)**2) ** 0.5\n",
    "\n",
    "def get_next_block(df: pd.DataFrame, current, distance: float):\n",
    "    if current not in df.index.tolist():\n",
    "        return None\n",
    "    \n",
    "    x2, y2 = x1, y1 = df.iloc[current][['X', 'Y']]\n",
    "    \n",
    "    i = current\n",
    "    while get_distance(x1, y1, x2, y2) < distance:\n",
    "        i += 1\n",
    "        if i not in df.index.tolist():\n",
    "            return i - 1\n",
    "        \n",
    "        x2, y2 = df.iloc[i][['X', 'Y']]\n",
    "    \n",
    "    return i\n",
    "\n",
    "DELTA_XY = 9\n",
    "BLOCK = 1\n",
    "\n",
    "sx, sy = [], []\n",
    "sx2, sy2 = [], []\n",
    "\n",
    "start_index = sub_df.head(1).index[0]\n",
    "\n",
    "end_index = get_next_block(sub_df, start_index, DELTA_XY)\n",
    "\n",
    "while start_index < end_index:\n",
    "    x1, y1 = sub_df.iloc[start_index][['X', 'Y']]\n",
    "    sx.append(x1)\n",
    "    sy.append(y1)\n",
    "    \n",
    "    start_index = end_index\n",
    "    end_index = get_next_block(sub_df, start_index, DELTA_XY)\n",
    "\n",
    "# sx2 sy2\n",
    "start_index = sub_df.head(1).index[0]\n",
    "\n",
    "end_index = start_index\n",
    "counter = BLOCK\n",
    "while counter > 0:\n",
    "    end_index = get_next_block(sub_df, end_index, DELTA_XY)\n",
    "    counter -= 1\n",
    "\n",
    "while start_index < end_index and end_index != None:\n",
    "    x1, y1 = sub_df.iloc[start_index][['X', 'Y']]\n",
    "    sx2.append(x1)\n",
    "    sy2.append(y1)\n",
    "    \n",
    "    start_index = end_index\n",
    "    \n",
    "    counter = BLOCK\n",
    "    while counter > 0 and end_index != None:\n",
    "        end_index = get_next_block(sub_df, end_index, DELTA_XY)\n",
    "        counter -= 1\n",
    "\n",
    "\n",
    "plt.scatter(sub_df['X'], sub_df['Y'])\n",
    "plt.scatter(sx, sy)\n",
    "plt.show()\n",
    "\n",
    "plt.scatter(sub_df['X'], sub_df['Y'])\n",
    "plt.scatter(sx2, sy2)\n",
    "plt.show()\n",
    "\n",
    "None"
   ]
  },
  {
   "cell_type": "code",
   "execution_count": 42,
   "id": "3eb2160e-c44a-4dae-af30-58a2a99b4ede",
   "metadata": {},
   "outputs": [
    {
     "data": {
      "image/png": "[encoded data removed]",
      "text/plain": [
       "<Figure size 432x288 with 1 Axes>"
      ]
     },
     "metadata": {
      "needs_background": "light"
     },
     "output_type": "display_data"
    }
   ],
   "source": [
    "def get_angle(x1, y1, x2, y2):\n",
    "    if (x1 == x2):\n",
    "        if y2 >= y1:\n",
    "            return 90\n",
    "        return -90\n",
    "    \n",
    "    return math.degrees(math.atan(y2-y1/x2-x1))\n",
    "\n",
    "def get_distance(x1, y1, x2, y2):\n",
    "    return ((x2-x1)**2 + (y2-y1)**2) ** 0.5\n",
    "\n",
    "def get_next_block(df: pd.DataFrame, current, distance: float):\n",
    "    if current not in df.index.tolist():\n",
    "        return None\n",
    "    \n",
    "    x2, y2 = x1, y1 = df.iloc[current][['X', 'Y']]\n",
    "    \n",
    "    i = current\n",
    "    while get_distance(x1, y1, x2, y2) < distance:\n",
    "        i += 1\n",
    "        if i not in df.index.tolist():\n",
    "            return i - 1\n",
    "        \n",
    "        x2, y2 = df.iloc[i][['X', 'Y']]\n",
    "    \n",
    "    return i\n",
    "\n",
    "DELTA_XY = 9\n",
    "\n",
    "sx, sy = [], []\n",
    "\n",
    "start_index = sub_df.head(1).index[0]\n",
    "\n",
    "end_index = get_next_block(sub_df, start_index, DELTA_XY)\n",
    "\n",
    "while start_index < end_index:\n",
    "    x1, y1 = sub_df.iloc[start_index][['X', 'Y']]\n",
    "    sx.append(x1)\n",
    "    sy.append(y1)\n",
    "    \n",
    "    start_index = end_index\n",
    "    end_index = get_next_block(sub_df, start_index, DELTA_XY)\n",
    "\n",
    "plt.scatter(sub_df['X'], sub_df['Y'])\n",
    "plt.scatter(sx, sy)\n",
    "plt.show()\n",
    "\n",
    "None"
   ]
  },
  {
   "cell_type": "code",
   "execution_count": 54,
   "id": "84030a3b-a428-4d3d-b03d-6de3546338c1",
   "metadata": {},
   "outputs": [
    {
     "data": {
      "image/png": "[encoded data removed]",
      "text/plain": [
       "<Figure size 432x288 with 1 Axes>"
      ]
     },
     "metadata": {
      "needs_background": "light"
     },
     "output_type": "display_data"
    }
   ],
   "source": [
    "def get_angle(x1, y1, x2, y2):\n",
    "    if (x1 == x2):\n",
    "        if y2 >= y1:\n",
    "            return 90\n",
    "        return -90\n",
    "    \n",
    "    return math.degrees(math.atan(y2-y1/x2-x1))\n",
    "\n",
    "def get_distance(x1, y1, x2, y2):\n",
    "    return math.sqrt(math.pow(x2-x1, 2) + math.pow(y2-y1, 2))\n",
    "\n",
    "def get_next_block(df: pd.DataFrame, current, distance: float):\n",
    "    if current not in df.index.tolist():\n",
    "        return None\n",
    "    \n",
    "    x2, y2 = x1, y1 = df.iloc[current][['X', 'Y']]\n",
    "    \n",
    "    i = current\n",
    "    while get_distance(x1, y1, x2, y2) < distance:\n",
    "        i += 1\n",
    "        if i not in df.index.tolist():\n",
    "            return i - 1\n",
    "        \n",
    "        x2, y2 = df.iloc[i][['X', 'Y']]\n",
    "    \n",
    "    return i\n",
    "\n",
    "DELTA_XY = 20\n",
    "\n",
    "start_index = sub_df.head(1).index[0]\n",
    "\n",
    "si = [start_index]\n",
    "\n",
    "end_index = get_next_block(sub_df, start_index, DELTA_XY)\n",
    "\n",
    "while start_index < end_index:\n",
    "    si.append(end_index)\n",
    "    x1, y1 = sub_df.iloc[start_index][['X', 'Y']]\n",
    "    \n",
    "    start_index = end_index\n",
    "    end_index = get_next_block(sub_df, start_index, DELTA_XY)\n",
    "\n",
    "si.append(sub_df.tail(1).index[0])\n",
    "\n",
    "si = np.unique(np.array(si)).tolist()\n",
    "\n",
    "plt.scatter(sub_df['X'], sub_df['Y'])\n",
    "plt.scatter(sub_df.iloc[si]['X'], sub_df.iloc[si]['Y'])\n",
    "plt.show()\n",
    "\n",
    "None"
   ]
  },
  {
   "cell_type": "code",
   "execution_count": 56,
   "id": "2ba50000-73b6-4033-b213-d3b1f0d3b841",
   "metadata": {},
   "outputs": [
    {
     "data": {
      "image/png": "[encoded data removed]",
      "text/plain": [
       "<Figure size 432x288 with 1 Axes>"
      ]
     },
     "metadata": {
      "needs_background": "light"
     },
     "output_type": "display_data"
    }
   ],
   "source": [
    "counter = 0\n",
    "values = []\n",
    "\n",
    "plt.scatter(sub_df['X'], sub_df['Y'])\n",
    "\n",
    "for i in range(len(si)-2):\n",
    "    \n",
    "    plt.scatter(sub_df.iloc[si[i]]['X'], sub_df.iloc[si[i]]['Y'])    "
   ]
  },
  {
   "cell_type": "code",
   "execution_count": 70,
   "id": "c421d12e-708a-4038-84c8-457098f507ab",
   "metadata": {},
   "outputs": [
    {
     "data": {
      "text/plain": [
       "5"
      ]
     },
     "execution_count": 70,
     "metadata": {},
     "output_type": "execute_result"
    },
    {
     "data": {
      "image/png": "[encoded data removed]",
      "text/plain": [
       "<Figure size 432x288 with 1 Axes>"
      ]
     },
     "metadata": {
      "needs_background": "light"
     },
     "output_type": "display_data"
    }
   ],
   "source": [
    "counter = 0\n",
    "values = []\n",
    "\n",
    "con_x, con_y = [], []\n",
    "\n",
    "for i in range(len(si)-2):\n",
    "    x1, y1 = sub_df.iloc[si[i]][['X', 'Y']]\n",
    "        \n",
    "    deg = math.degrees(math.atan(y1/x1))\n",
    "    a = 0\n",
    "    \n",
    "    way = sub_df.iloc[si[i]:si[i+1]].index\n",
    "    for row_i in way:\n",
    "        row = sub_df.iloc[row_i]\n",
    "        \n",
    "        x2, y2 = row[['X', 'Y']]\n",
    "        a += math.degrees(math.atan(y2/x2)) - deg\n",
    "    \n",
    "    a /= len(way)\n",
    "    \n",
    "    way = sub_df.iloc[si[i]:si[i+2]].index\n",
    "    for row_i in way:\n",
    "        row = sub_df.iloc[row_i]\n",
    "        \n",
    "        x2, y2 = row[['X', 'Y']]\n",
    "        b += math.degrees(math.atan(y2/x2)) - deg\n",
    "    \n",
    "    b /= len(way)\n",
    "            \n",
    "    if abs(b - a) > 0.5:\n",
    "        counter += 1\n",
    "        con_x.append(x1)\n",
    "        con_y.append(y1)\n",
    "        \n",
    "    values.append([a,b])\n",
    "\n",
    "plt.scatter(sub_df['X'], sub_df['Y'])\n",
    "plt.scatter(con_x, con_y)\n",
    "\n",
    "counter"
   ]
  },
  {
   "cell_type": "code",
   "execution_count": 71,
   "id": "3751ee77-4f8a-44c7-8a32-39d872538ffb",
   "metadata": {},
   "outputs": [
    {
     "data": {
      "text/plain": [
       "5"
      ]
     },
     "execution_count": 71,
     "metadata": {},
     "output_type": "execute_result"
    },
    {
     "data": {
      "image/png": "[encoded data removed]",
      "text/plain": [
       "<Figure size 432x288 with 1 Axes>"
      ]
     },
     "metadata": {
      "needs_background": "light"
     },
     "output_type": "display_data"
    }
   ],
   "source": [
    "def get_angle(x1, y1, x2, y2):\n",
    "    if (x1 == x2):\n",
    "        if y2 >= y1:\n",
    "            return 90\n",
    "        return -90\n",
    "    \n",
    "    return math.degrees(math.atan(y2-y1/x2-x1))\n",
    "\n",
    "def get_distance(x1, y1, x2, y2):\n",
    "    return math.sqrt(math.pow(x2-x1, 2) + math.pow(y2-y1, 2))\n",
    "\n",
    "def get_next_block(df: pd.DataFrame, current, distance: float):\n",
    "    if current not in df.index.tolist():\n",
    "        return None\n",
    "    \n",
    "    x2, y2 = x1, y1 = df.iloc[current][['X', 'Y']]\n",
    "    \n",
    "    i = current\n",
    "    while get_distance(x1, y1, x2, y2) < distance:\n",
    "        i += 1\n",
    "        if i not in df.index.tolist():\n",
    "            return i - 1\n",
    "        \n",
    "        x2, y2 = df.iloc[i][['X', 'Y']]\n",
    "    \n",
    "    return i\n",
    "\n",
    "DELTA_XY = 20\n",
    "\n",
    "start_index = sub_df.head(1).index[0]\n",
    "\n",
    "si = [start_index]\n",
    "\n",
    "end_index = get_next_block(sub_df, start_index, DELTA_XY)\n",
    "\n",
    "while start_index < end_index:\n",
    "    si.append(end_index)\n",
    "    x1, y1 = sub_df.iloc[start_index][['X', 'Y']]\n",
    "    \n",
    "    start_index = end_index\n",
    "    end_index = get_next_block(sub_df, start_index, DELTA_XY)\n",
    "\n",
    "si.append(sub_df.tail(1).index[0])\n",
    "\n",
    "si = np.unique(np.array(si)).tolist()\n",
    "\n",
    "counter = 0\n",
    "values = []\n",
    "\n",
    "con_x, con_y = [], []\n",
    "\n",
    "for i in range(len(si)-2):\n",
    "    x1, y1 = sub_df.iloc[si[i]][['X', 'Y']]\n",
    "        \n",
    "    deg = math.degrees(math.atan(y1/x1))\n",
    "    a = 0\n",
    "    \n",
    "    way = sub_df.iloc[si[i]:si[i+1]].index\n",
    "    for row_i in way:\n",
    "        row = sub_df.iloc[row_i]\n",
    "        \n",
    "        x2, y2 = row[['X', 'Y']]\n",
    "        a += math.degrees(math.atan(y2/x2)) - deg\n",
    "    \n",
    "    a /= len(way)\n",
    "    \n",
    "    way = sub_df.iloc[si[i]:si[i+2]].index\n",
    "    for row_i in way:\n",
    "        row = sub_df.iloc[row_i]\n",
    "        \n",
    "        x2, y2 = row[['X', 'Y']]\n",
    "        b += math.degrees(math.atan(y2/x2)) - deg\n",
    "    \n",
    "    b /= len(way)\n",
    "            \n",
    "    if abs(b - a) > 0.5:\n",
    "        counter += 1\n",
    "        con_x.append(x1)\n",
    "        con_y.append(y1)\n",
    "        \n",
    "    values.append([a,b])\n",
    "\n",
    "plt.scatter(sub_df['X'], sub_df['Y'])\n",
    "plt.scatter(con_x, con_y)\n",
    "\n",
    "counter"
   ]
  },
  {
   "cell_type": "code",
   "execution_count": 73,
   "id": "8a138995-0603-4c42-96d8-e789307f9a81",
   "metadata": {},
   "outputs": [
    {
     "data": {
      "text/plain": [
       "5"
      ]
     },
     "execution_count": 73,
     "metadata": {},
     "output_type": "execute_result"
    },
    {
     "data": {
      "image/png": "[encoded data removed]",
      "text/plain": [
       "<Figure size 432x288 with 1 Axes>"
      ]
     },
     "metadata": {
      "needs_background": "light"
     },
     "output_type": "display_data"
    }
   ],
   "source": [
    "# functions\n",
    "def get_angle(x1, y1, x2, y2):\n",
    "    if (x1 == x2):\n",
    "        if y2 >= y1:\n",
    "            return 90\n",
    "        return -90\n",
    "    \n",
    "    return math.degrees(math.atan(y2-y1/x2-x1))\n",
    "\n",
    "def get_distance(x1, y1, x2, y2):\n",
    "    return math.sqrt(math.pow(x2-x1, 2) + math.pow(y2-y1, 2))\n",
    "\n",
    "def get_next_block(df: pd.DataFrame, current, distance: float):\n",
    "    if current not in df.index.tolist():\n",
    "        return None\n",
    "    \n",
    "    x2, y2 = x1, y1 = df.iloc[current][['X', 'Y']]\n",
    "    \n",
    "    i = current\n",
    "    while get_distance(x1, y1, x2, y2) < distance:\n",
    "        i += 1\n",
    "        if i not in df.index.tolist():\n",
    "            return i - 1\n",
    "        \n",
    "        x2, y2 = df.iloc[i][['X', 'Y']]\n",
    "    \n",
    "    return i\n",
    "\n",
    "# Flags\n",
    "DELTA_XY = 20\n",
    "\n",
    "# savers\n",
    "counter = 0\n",
    "\n",
    "con_x, con_y = [], []\n",
    "\n",
    "# Step 1\n",
    "start_index = sub_df.head(1).index[0]\n",
    "\n",
    "si = [start_index]\n",
    "\n",
    "end_index = get_next_block(sub_df, start_index, DELTA_XY)\n",
    "\n",
    "while start_index < end_index:\n",
    "    si.append(end_index)\n",
    "    x1, y1 = sub_df.iloc[start_index][['X', 'Y']]\n",
    "    \n",
    "    start_index = end_index\n",
    "    end_index = get_next_block(sub_df, start_index, DELTA_XY)\n",
    "\n",
    "si.append(sub_df.tail(1).index[0])\n",
    "\n",
    "si = np.unique(np.array(si)).tolist()\n",
    "\n",
    "# Step 2\n",
    "for i in range(len(si)-2):\n",
    "    x1, y1 = sub_df.iloc[si[i]][['X', 'Y']]\n",
    "        \n",
    "    deg = math.degrees(math.atan(y1/x1))\n",
    "    a = 0\n",
    "    \n",
    "    way = sub_df.iloc[si[i]:si[i+1]].index\n",
    "    for row_i in way:\n",
    "        row = sub_df.iloc[row_i]\n",
    "        \n",
    "        x2, y2 = row[['X', 'Y']]\n",
    "        a += math.degrees(math.atan(y2/x2)) - deg\n",
    "    \n",
    "    a /= len(way)\n",
    "    \n",
    "    way = sub_df.iloc[si[i]:si[i+2]].index\n",
    "    for row_i in way:\n",
    "        row = sub_df.iloc[row_i]\n",
    "        \n",
    "        x2, y2 = row[['X', 'Y']]\n",
    "        b += math.degrees(math.atan(y2/x2)) - deg\n",
    "    \n",
    "    b /= len(way)\n",
    "            \n",
    "    if abs(b - a) > 0.5:\n",
    "        counter += 1\n",
    "        con_x.append(x1)\n",
    "        con_y.append(y1)\n",
    "    \n",
    "    \n",
    "plt.scatter(sub_df['X'], sub_df['Y'])\n",
    "plt.scatter(con_x, con_y)\n",
    "\n",
    "counter"
   ]
  },
  {
   "cell_type": "code",
   "execution_count": 76,
   "id": "63b06bfa-40f1-4d96-95ac-92a4b3c10c63",
   "metadata": {},
   "outputs": [
    {
     "data": {
      "text/plain": [
       "5"
      ]
     },
     "execution_count": 76,
     "metadata": {},
     "output_type": "execute_result"
    },
    {
     "data": {
      "image/png": "[encoded data removed]",
      "text/plain": [
       "<Figure size 432x288 with 1 Axes>"
      ]
     },
     "metadata": {
      "needs_background": "light"
     },
     "output_type": "display_data"
    }
   ],
   "source": [
    "# functions\n",
    "def get_angle(x1, y1, x2, y2):\n",
    "    if (x1 == x2):\n",
    "        if y2 >= y1:\n",
    "            return 90\n",
    "        return -90\n",
    "    \n",
    "    return math.degrees(math.atan(y2-y1/x2-x1))\n",
    "\n",
    "def get_distance(x1, y1, x2, y2):\n",
    "    return math.sqrt(math.pow(x2-x1, 2) + math.pow(y2-y1, 2))\n",
    "\n",
    "def get_next_block(df: pd.DataFrame, current, distance: float):\n",
    "    if current not in df.index.tolist():\n",
    "        return None\n",
    "    \n",
    "    x2, y2 = x1, y1 = df.iloc[current][['X', 'Y']]\n",
    "    \n",
    "    i = current\n",
    "    while get_distance(x1, y1, x2, y2) < distance:\n",
    "        i += 1\n",
    "        if i not in df.index.tolist():\n",
    "            return i - 1\n",
    "        \n",
    "        x2, y2 = df.iloc[i][['X', 'Y']]\n",
    "    \n",
    "    return i\n",
    "\n",
    "# Flags\n",
    "DELTA_XY = 20\n",
    "ANGLE_DIFF = 0.5\n",
    "\n",
    "# savers\n",
    "counter = 0\n",
    "\n",
    "con_x, con_y = [], []\n",
    "\n",
    "# Step 1\n",
    "start_index = sub_df.head(1).index[0]\n",
    "\n",
    "si = [start_index]\n",
    "\n",
    "end_index = get_next_block(sub_df, start_index, DELTA_XY)\n",
    "\n",
    "while start_index < end_index:\n",
    "    si.append(end_index)\n",
    "    x1, y1 = sub_df.iloc[start_index][['X', 'Y']]\n",
    "    \n",
    "    start_index = end_index\n",
    "    end_index = get_next_block(sub_df, start_index, DELTA_XY)\n",
    "\n",
    "si.append(sub_df.tail(1).index[0])\n",
    "\n",
    "si = np.unique(np.array(si)).tolist()\n",
    "\n",
    "# Step 2\n",
    "for i in range(len(si)-2):\n",
    "    x1, y1 = sub_df.iloc[si[i]][['X', 'Y']]\n",
    "        \n",
    "    deg = math.degrees(math.atan(y1/x1))\n",
    "    a = 0\n",
    "    \n",
    "    way = sub_df.iloc[si[i]:si[i+1]].index\n",
    "    for row_i in way:\n",
    "        row = sub_df.iloc[row_i]\n",
    "        \n",
    "        x2, y2 = row[['X', 'Y']]\n",
    "        a += math.degrees(math.atan(y2/x2)) - deg\n",
    "    \n",
    "    a /= len(way)\n",
    "    \n",
    "    way = sub_df.iloc[si[i]:si[i+2]].index\n",
    "    for row_i in way:\n",
    "        row = sub_df.iloc[row_i]\n",
    "        \n",
    "        x2, y2 = row[['X', 'Y']]\n",
    "        b += math.degrees(math.atan(y2/x2)) - deg\n",
    "    \n",
    "    b /= len(way)\n",
    "            \n",
    "    if abs(b - a) > ANGLE_DIFF:\n",
    "        counter += 1\n",
    "        con_x.append(x1)\n",
    "        con_y.append(y1)\n",
    "    \n",
    "    \n",
    "plt.scatter(sub_df['X'], sub_df['Y'])\n",
    "plt.scatter(con_x, con_y)\n",
    "\n",
    "counter"
   ]
  },
  {
   "cell_type": "code",
   "execution_count": 84,
   "id": "7db73a69-7eb7-48ba-ad41-a4d12ad98eb2",
   "metadata": {},
   "outputs": [
    {
     "data": {
      "text/plain": [
       "5"
      ]
     },
     "execution_count": 84,
     "metadata": {},
     "output_type": "execute_result"
    },
    {
     "data": {
      "image/png": "[encoded data removed]",
      "text/plain": [
       "<Figure size 432x288 with 1 Axes>"
      ]
     },
     "metadata": {
      "needs_background": "light"
     },
     "output_type": "display_data"
    }
   ],
   "source": [
    "# functions\n",
    "def get_angle(x1, y1, x2, y2):\n",
    "    if (x1 == x2):\n",
    "        if y2 >= y1:\n",
    "            return 90\n",
    "        return -90\n",
    "    \n",
    "    return math.degrees(math.atan(y2-y1/x2-x1))\n",
    "\n",
    "def get_distance(x1, y1, x2, y2):\n",
    "    return math.sqrt(math.pow(x2-x1, 2) + math.pow(y2-y1, 2))\n",
    "\n",
    "def get_next_block(df: pd.DataFrame, current, distance: float):\n",
    "    if current not in df.index.tolist():\n",
    "        return None\n",
    "    \n",
    "    x2, y2 = x1, y1 = df.iloc[current][['X', 'Y']]\n",
    "    \n",
    "    i = current\n",
    "    while get_distance(x1, y1, x2, y2) < distance:\n",
    "        i += 1\n",
    "        if i not in df.index.tolist():\n",
    "            return i - 1\n",
    "        \n",
    "        x2, y2 = df.iloc[i][['X', 'Y']]\n",
    "    \n",
    "    return i\n",
    "\n",
    "# Flags\n",
    "DELTA_XY = 20\n",
    "ANGLE_DIFF = 0.5\n",
    "\n",
    "# savers\n",
    "counter = 0\n",
    "\n",
    "con_x, con_y = [], []\n",
    "\n",
    "# Step 1\n",
    "start_index = sub_df.head(1).index[0]\n",
    "\n",
    "si = [start_index]\n",
    "\n",
    "end_index = get_next_block(sub_df, start_index, DELTA_XY)\n",
    "\n",
    "while start_index < end_index:\n",
    "    si.append(end_index)\n",
    "    x1, y1 = sub_df.iloc[start_index][['X', 'Y']]\n",
    "    \n",
    "    start_index = end_index\n",
    "    end_index = get_next_block(sub_df, start_index, DELTA_XY)\n",
    "\n",
    "si.append(sub_df.tail(1).index[0])\n",
    "\n",
    "si = np.unique(np.array(si)).tolist()\n",
    "\n",
    "# Step 2\n",
    "for i in range(len(si)-2):\n",
    "    x1, y1 = sub_df.iloc[si[i]][['X', 'Y']]\n",
    "        \n",
    "    deg = math.degrees(math.atan(y1/x1))\n",
    "    a = 0\n",
    "    \n",
    "    way = sub_df.iloc[si[i]:si[i+1]].index\n",
    "    for row_i in way:\n",
    "        row = sub_df.iloc[row_i]\n",
    "        \n",
    "        x2, y2 = row[['X', 'Y']]\n",
    "        a += math.degrees(math.atan(y2/x2)) - deg\n",
    "    \n",
    "    a /= len(way)\n",
    "    \n",
    "    way = sub_df.iloc[si[i]:si[i+2]].index\n",
    "    for row_i in way:\n",
    "        row = sub_df.iloc[row_i]\n",
    "        \n",
    "        x2, y2 = row[['X', 'Y']]\n",
    "        b += math.degrees(math.atan(y2/x2)) - deg\n",
    "    \n",
    "    b /= len(way)\n",
    "            \n",
    "    if abs(b - a) > ANGLE_DIFF:\n",
    "        counter += 1\n",
    "        con_x.append(x1)\n",
    "        con_y.append(y1)\n",
    "    \n",
    "    \n",
    "plt.scatter(sub_df['X'], sub_df['Y']) # all\n",
    "plt.scatter(sub_df.iloc[si]['X'], sub_df.iloc[si]['Y']) # blocks\n",
    "plt.scatter(con_x, con_y) # counted\n",
    "\n",
    "counter"
   ]
  },
  {
   "cell_type": "code",
   "execution_count": 90,
   "id": "843a4f41-7b15-42b6-ba05-8ae121aa21ad",
   "metadata": {},
   "outputs": [
    {
     "name": "stdout",
     "output_type": "stream",
     "text": [
      "0 165\n",
      "7 165\n",
      "10 165\n",
      "13 165\n",
      "17 165\n",
      "26 165\n",
      "43 165\n",
      "50 165\n",
      "55 165\n",
      "63 165\n",
      "70 165\n",
      "84 165\n",
      "118 165\n",
      "131 165\n",
      "142 165\n",
      "165 165\n"
     ]
    },
    {
     "data": {
      "image/png": "[encoded data removed]",
      "text/plain": [
       "<Figure size 432x288 with 1 Axes>"
      ]
     },
     "metadata": {
      "needs_background": "light"
     },
     "output_type": "display_data"
    },
    {
     "name": "stdout",
     "output_type": "stream",
     "text": [
      "5\n",
      "166 366\n",
      "167 366\n",
      "168 366\n",
      "169 366\n",
      "170 366\n",
      "171 366\n",
      "172 366\n",
      "173 366\n",
      "174 366\n",
      "175 366\n",
      "176 366\n",
      "177 366\n",
      "178 366\n",
      "179 366\n",
      "180 366\n",
      "181 366\n",
      "182 366\n",
      "183 366\n",
      "184 366\n",
      "185 366\n",
      "186 366\n",
      "187 366\n",
      "188 366\n",
      "189 366\n",
      "190 366\n",
      "191 366\n",
      "192 366\n",
      "193 366\n",
      "194 366\n",
      "195 366\n",
      "196 366\n",
      "197 366\n",
      "198 366\n",
      "199 366\n",
      "200 366\n",
      "201 366\n"
     ]
    },
    {
     "ename": "IndexError",
     "evalue": "single positional indexer is out-of-bounds",
     "output_type": "error",
     "traceback": [
      "\u001b[1;31m---------------------------------------------------------------------------\u001b[0m",
      "\u001b[1;31mIndexError\u001b[0m                                Traceback (most recent call last)",
      "Input \u001b[1;32mIn [90]\u001b[0m, in \u001b[0;36m<cell line: 100>\u001b[1;34m()\u001b[0m\n\u001b[0;32m    102\u001b[0m end \u001b[38;5;241m=\u001b[39m limits[i\u001b[38;5;241m+\u001b[39m\u001b[38;5;241m1\u001b[39m]\n\u001b[0;32m    104\u001b[0m sub_df \u001b[38;5;241m=\u001b[39m df\u001b[38;5;241m.\u001b[39miloc[start:end]\n\u001b[1;32m--> 106\u001b[0m sub_counter \u001b[38;5;241m=\u001b[39m \u001b[43mcount_lines_in_sub_draw\u001b[49m\u001b[43m(\u001b[49m\u001b[43msub_df\u001b[49m\u001b[43m)\u001b[49m\n\u001b[0;32m    107\u001b[0m \u001b[38;5;28mprint\u001b[39m(sub_counter)\n\u001b[0;32m    109\u001b[0m counter \u001b[38;5;241m+\u001b[39m\u001b[38;5;241m=\u001b[39m sub_counter\n",
      "Input \u001b[1;32mIn [90]\u001b[0m, in \u001b[0;36mcount_lines_in_sub_draw\u001b[1;34m(sub_df)\u001b[0m\n\u001b[0;32m     50\u001b[0m     x1, y1 \u001b[38;5;241m=\u001b[39m sub_df\u001b[38;5;241m.\u001b[39miloc[start_index][[\u001b[38;5;124m'\u001b[39m\u001b[38;5;124mX\u001b[39m\u001b[38;5;124m'\u001b[39m, \u001b[38;5;124m'\u001b[39m\u001b[38;5;124mY\u001b[39m\u001b[38;5;124m'\u001b[39m]]\n\u001b[0;32m     52\u001b[0m     start_index \u001b[38;5;241m=\u001b[39m end_index\n\u001b[1;32m---> 53\u001b[0m     end_index \u001b[38;5;241m=\u001b[39m \u001b[43mget_next_block\u001b[49m\u001b[43m(\u001b[49m\u001b[43msub_df\u001b[49m\u001b[43m,\u001b[49m\u001b[43m \u001b[49m\u001b[43mstart_index\u001b[49m\u001b[43m,\u001b[49m\u001b[43m \u001b[49m\u001b[43mDELTA_XY\u001b[49m\u001b[43m)\u001b[49m\n\u001b[0;32m     55\u001b[0m si\u001b[38;5;241m.\u001b[39mappend(sub_df\u001b[38;5;241m.\u001b[39mtail(\u001b[38;5;241m1\u001b[39m)\u001b[38;5;241m.\u001b[39mindex[\u001b[38;5;241m0\u001b[39m])\n\u001b[0;32m     57\u001b[0m si \u001b[38;5;241m=\u001b[39m np\u001b[38;5;241m.\u001b[39munique(np\u001b[38;5;241m.\u001b[39marray(si))\u001b[38;5;241m.\u001b[39mtolist()\n",
      "Input \u001b[1;32mIn [90]\u001b[0m, in \u001b[0;36mget_next_block\u001b[1;34m(sub_df, current, distance)\u001b[0m\n\u001b[0;32m     15\u001b[0m     \u001b[38;5;28;01mreturn\u001b[39;00m \u001b[38;5;28;01mNone\u001b[39;00m\n\u001b[0;32m     17\u001b[0m \u001b[38;5;28mprint\u001b[39m(current, sub_df\u001b[38;5;241m.\u001b[39mtail(\u001b[38;5;241m1\u001b[39m)\u001b[38;5;241m.\u001b[39mindex[\u001b[38;5;241m0\u001b[39m])\n\u001b[1;32m---> 19\u001b[0m x2, y2 \u001b[38;5;241m=\u001b[39m x1, y1 \u001b[38;5;241m=\u001b[39m \u001b[43msub_df\u001b[49m\u001b[38;5;241;43m.\u001b[39;49m\u001b[43miloc\u001b[49m\u001b[43m[\u001b[49m\u001b[43mcurrent\u001b[49m\u001b[43m]\u001b[49m[[\u001b[38;5;124m'\u001b[39m\u001b[38;5;124mX\u001b[39m\u001b[38;5;124m'\u001b[39m, \u001b[38;5;124m'\u001b[39m\u001b[38;5;124mY\u001b[39m\u001b[38;5;124m'\u001b[39m]]\n\u001b[0;32m     21\u001b[0m i \u001b[38;5;241m=\u001b[39m current\n\u001b[0;32m     22\u001b[0m \u001b[38;5;28;01mwhile\u001b[39;00m get_distance(x1, y1, x2, y2) \u001b[38;5;241m<\u001b[39m distance:\n",
      "File \u001b[1;32mD:\\Projects\\Python\\data-science-walmart-and-more\\venv\\lib\\site-packages\\pandas\\core\\indexing.py:967\u001b[0m, in \u001b[0;36m_LocationIndexer.__getitem__\u001b[1;34m(self, key)\u001b[0m\n\u001b[0;32m    964\u001b[0m axis \u001b[38;5;241m=\u001b[39m \u001b[38;5;28mself\u001b[39m\u001b[38;5;241m.\u001b[39maxis \u001b[38;5;129;01mor\u001b[39;00m \u001b[38;5;241m0\u001b[39m\n\u001b[0;32m    966\u001b[0m maybe_callable \u001b[38;5;241m=\u001b[39m com\u001b[38;5;241m.\u001b[39mapply_if_callable(key, \u001b[38;5;28mself\u001b[39m\u001b[38;5;241m.\u001b[39mobj)\n\u001b[1;32m--> 967\u001b[0m \u001b[38;5;28;01mreturn\u001b[39;00m \u001b[38;5;28;43mself\u001b[39;49m\u001b[38;5;241;43m.\u001b[39;49m\u001b[43m_getitem_axis\u001b[49m\u001b[43m(\u001b[49m\u001b[43mmaybe_callable\u001b[49m\u001b[43m,\u001b[49m\u001b[43m \u001b[49m\u001b[43maxis\u001b[49m\u001b[38;5;241;43m=\u001b[39;49m\u001b[43maxis\u001b[49m\u001b[43m)\u001b[49m\n",
      "File \u001b[1;32mD:\\Projects\\Python\\data-science-walmart-and-more\\venv\\lib\\site-packages\\pandas\\core\\indexing.py:1520\u001b[0m, in \u001b[0;36m_iLocIndexer._getitem_axis\u001b[1;34m(self, key, axis)\u001b[0m\n\u001b[0;32m   1517\u001b[0m     \u001b[38;5;28;01mraise\u001b[39;00m \u001b[38;5;167;01mTypeError\u001b[39;00m(\u001b[38;5;124m\"\u001b[39m\u001b[38;5;124mCannot index by location index with a non-integer key\u001b[39m\u001b[38;5;124m\"\u001b[39m)\n\u001b[0;32m   1519\u001b[0m \u001b[38;5;66;03m# validate the location\u001b[39;00m\n\u001b[1;32m-> 1520\u001b[0m \u001b[38;5;28;43mself\u001b[39;49m\u001b[38;5;241;43m.\u001b[39;49m\u001b[43m_validate_integer\u001b[49m\u001b[43m(\u001b[49m\u001b[43mkey\u001b[49m\u001b[43m,\u001b[49m\u001b[43m \u001b[49m\u001b[43maxis\u001b[49m\u001b[43m)\u001b[49m\n\u001b[0;32m   1522\u001b[0m \u001b[38;5;28;01mreturn\u001b[39;00m \u001b[38;5;28mself\u001b[39m\u001b[38;5;241m.\u001b[39mobj\u001b[38;5;241m.\u001b[39m_ixs(key, axis\u001b[38;5;241m=\u001b[39maxis)\n",
      "File \u001b[1;32mD:\\Projects\\Python\\data-science-walmart-and-more\\venv\\lib\\site-packages\\pandas\\core\\indexing.py:1452\u001b[0m, in \u001b[0;36m_iLocIndexer._validate_integer\u001b[1;34m(self, key, axis)\u001b[0m\n\u001b[0;32m   1450\u001b[0m len_axis \u001b[38;5;241m=\u001b[39m \u001b[38;5;28mlen\u001b[39m(\u001b[38;5;28mself\u001b[39m\u001b[38;5;241m.\u001b[39mobj\u001b[38;5;241m.\u001b[39m_get_axis(axis))\n\u001b[0;32m   1451\u001b[0m \u001b[38;5;28;01mif\u001b[39;00m key \u001b[38;5;241m>\u001b[39m\u001b[38;5;241m=\u001b[39m len_axis \u001b[38;5;129;01mor\u001b[39;00m key \u001b[38;5;241m<\u001b[39m \u001b[38;5;241m-\u001b[39mlen_axis:\n\u001b[1;32m-> 1452\u001b[0m     \u001b[38;5;28;01mraise\u001b[39;00m \u001b[38;5;167;01mIndexError\u001b[39;00m(\u001b[38;5;124m\"\u001b[39m\u001b[38;5;124msingle positional indexer is out-of-bounds\u001b[39m\u001b[38;5;124m\"\u001b[39m)\n",
      "\u001b[1;31mIndexError\u001b[0m: single positional indexer is out-of-bounds"
     ]
    }
   ],
   "source": [
    "# functions\n",
    "def get_angle(x1, y1, x2, y2):\n",
    "    if (x1 == x2):\n",
    "        if y2 >= y1:\n",
    "            return 90\n",
    "        return -90\n",
    "    \n",
    "    return math.degrees(math.atan(y2-y1/x2-x1))\n",
    "\n",
    "def get_distance(x1, y1, x2, y2):\n",
    "    return math.sqrt(math.pow(x2-x1, 2) + math.pow(y2-y1, 2))\n",
    "\n",
    "def get_next_block(sub_df: pd.DataFrame, current, distance: float):\n",
    "    if current not in sub_df.index.tolist():\n",
    "        return None\n",
    "        \n",
    "    x2, y2 = x1, y1 = sub_df.iloc[current][['X', 'Y']]\n",
    "    \n",
    "    i = current\n",
    "    while get_distance(x1, y1, x2, y2) < distance:\n",
    "        i += 1\n",
    "        if i not in sub_df.index.tolist():\n",
    "            return i - 1\n",
    "        \n",
    "        x2, y2 = df.iloc[i][['X', 'Y']]\n",
    "    \n",
    "    return i\n",
    "\n",
    "# Flags\n",
    "DELTA_XY = 20\n",
    "ANGLE_DIFF = 0.5\n",
    "\n",
    "def count_lines_in_sub_draw(sub_df):\n",
    "    # savers\n",
    "    counter = 0\n",
    "\n",
    "    con_x, con_y = [], []\n",
    "\n",
    "    # Step 1\n",
    "    start_index = sub_df.head(1).index[0]\n",
    "\n",
    "    si = [start_index]\n",
    "\n",
    "    end_index = get_next_block(sub_df, start_index, DELTA_XY)\n",
    "\n",
    "    while start_index < end_index:\n",
    "        si.append(end_index)\n",
    "        x1, y1 = sub_df.iloc[start_index][['X', 'Y']]\n",
    "\n",
    "        start_index = end_index\n",
    "        end_index = get_next_block(sub_df, start_index, DELTA_XY)\n",
    "\n",
    "    si.append(sub_df.tail(1).index[0])\n",
    "\n",
    "    si = np.unique(np.array(si)).tolist()\n",
    "\n",
    "    # Step 2\n",
    "    for i in range(len(si)-2):\n",
    "        x1, y1 = sub_df.iloc[si[i]][['X', 'Y']]\n",
    "\n",
    "        deg = math.degrees(math.atan(y1/x1))\n",
    "        a = b = 0\n",
    "\n",
    "        way = sub_df.iloc[si[i]:si[i+1]].index\n",
    "        for row_i in way:\n",
    "            row = sub_df.iloc[row_i]\n",
    "\n",
    "            x2, y2 = row[['X', 'Y']]\n",
    "            a += math.degrees(math.atan(y2/x2)) - deg\n",
    "\n",
    "        a /= len(way)\n",
    "\n",
    "        way = sub_df.iloc[si[i]:si[i+2]].index\n",
    "        for row_i in way:\n",
    "            row = sub_df.iloc[row_i]\n",
    "\n",
    "            x2, y2 = row[['X', 'Y']]\n",
    "            b += math.degrees(math.atan(y2/x2)) - deg\n",
    "\n",
    "        b /= len(way)\n",
    "\n",
    "        if abs(b - a) > ANGLE_DIFF:\n",
    "            counter += 1\n",
    "            con_x.append(x1)\n",
    "            con_y.append(y1)\n",
    "\n",
    "\n",
    "    plt.scatter(sub_df['X'], sub_df['Y']) # all\n",
    "    plt.scatter(sub_df.iloc[si]['X'], sub_df.iloc[si]['Y']) # blocks\n",
    "    plt.scatter(con_x, con_y) # counted\n",
    "    plt.show()\n",
    "\n",
    "    return counter\n",
    "\n",
    "counter = 0\n",
    "index = 0\n",
    "\n",
    "for i in range(len(limits) - 1):\n",
    "    start = limits[i]\n",
    "    end = limits[i+1]\n",
    "    \n",
    "    sub_df = df.iloc[start:end]\n",
    "    \n",
    "    sub_counter = count_lines_in_sub_draw(sub_df)\n",
    "    print(sub_counter)\n",
    "        \n",
    "    counter += sub_counter\n",
    "\n",
    "counter"
   ]
  },
  {
   "cell_type": "code",
   "execution_count": 123,
   "id": "e28f20b2-f022-49ba-9546-1df425d0fe74",
   "metadata": {},
   "outputs": [
    {
     "data": {
      "image/png": "[encoded data removed]",
      "text/plain": [
       "<Figure size 432x288 with 1 Axes>"
      ]
     },
     "metadata": {
      "needs_background": "light"
     },
     "output_type": "display_data"
    },
    {
     "name": "stdout",
     "output_type": "stream",
     "text": [
      "sub_counter: 5\n"
     ]
    },
    {
     "data": {
      "image/png": "[encoded data removed]",
      "text/plain": [
       "<Figure size 432x288 with 1 Axes>"
      ]
     },
     "metadata": {
      "needs_background": "light"
     },
     "output_type": "display_data"
    },
    {
     "name": "stdout",
     "output_type": "stream",
     "text": [
      "sub_counter: 0\n"
     ]
    },
    {
     "data": {
      "text/plain": [
       "5"
      ]
     },
     "execution_count": 123,
     "metadata": {},
     "output_type": "execute_result"
    }
   ],
   "source": [
    "# functions\n",
    "def get_angle(x1, y1, x2, y2):\n",
    "    if (x1 == x2):\n",
    "        if y2 >= y1:\n",
    "            return 90\n",
    "        return -90\n",
    "    \n",
    "    return math.degrees(math.atan(y2-y1/x2-x1))\n",
    "\n",
    "def get_distance(x1, y1, x2, y2):\n",
    "    return math.sqrt(math.pow(x2-x1, 2) + math.pow(y2-y1, 2))\n",
    "\n",
    "def get_next_block(sub_df: pd.DataFrame, current, distance: float):\n",
    "    if current not in sub_df.index.tolist():\n",
    "        return None\n",
    "            \n",
    "    x2, y2 = x1, y1 = sub_df.iloc[current][['X', 'Y']]\n",
    "    \n",
    "    for i in sub_df.iloc[current:].tail(-1).index:\n",
    "        x2, y2 = df.iloc[i][['X', 'Y']]\n",
    "        if get_distance(x1, y1, x2, y2) >= distance:\n",
    "            return i\n",
    "    return sub_df.tail(1).index[0]\n",
    "\n",
    "# Flags\n",
    "DELTA_XY = 20\n",
    "ANGLE_DIFF = 0.5\n",
    "\n",
    "def count_lines_in_sub_draw(sub_df):\n",
    "    # savers\n",
    "    counter = 0\n",
    "\n",
    "    con_x, con_y = [], []\n",
    "\n",
    "    # Step 1\n",
    "    start_index = sub_df.head(1).index[0]\n",
    "\n",
    "    si = [start_index]\n",
    "\n",
    "    end_index = get_next_block(sub_df, start_index, DELTA_XY)\n",
    "    \n",
    "    while start_index < end_index:\n",
    "        si.append(end_index)\n",
    "        x1, y1 = sub_df.iloc[start_index][['X', 'Y']]\n",
    "\n",
    "        start_index = end_index\n",
    "        end_index = get_next_block(sub_df, start_index, DELTA_XY)\n",
    "\n",
    "    si.append(sub_df.tail(1).index[0])\n",
    "\n",
    "    si = np.unique(np.array(si)).tolist()\n",
    "\n",
    "    # Step 2\n",
    "    for i in range(len(si)-2):\n",
    "        x1, y1 = sub_df.iloc[si[i]][['X', 'Y']]\n",
    "\n",
    "        deg = math.degrees(math.atan(y1/x1))\n",
    "        a = b = 0\n",
    "\n",
    "        way = sub_df.iloc[si[i]:si[i+1]].index\n",
    "        for row_i in way:\n",
    "            row = sub_df.iloc[row_i]\n",
    "\n",
    "            x2, y2 = row[['X', 'Y']]\n",
    "            a += math.degrees(math.atan(y2/x2)) - deg\n",
    "\n",
    "        a /= len(way)\n",
    "\n",
    "        way = sub_df.iloc[si[i]:si[i+2]].index\n",
    "        for row_i in way:\n",
    "            row = sub_df.iloc[row_i]\n",
    "\n",
    "            x2, y2 = row[['X', 'Y']]\n",
    "            b += math.degrees(math.atan(y2/x2)) - deg\n",
    "\n",
    "        b /= len(way)\n",
    "\n",
    "        if abs(b - a) > ANGLE_DIFF:\n",
    "            counter += 1\n",
    "            con_x.append(x1)\n",
    "            con_y.append(y1)\n",
    "\n",
    "\n",
    "    plt.scatter(sub_df['X'], sub_df['Y']) # all\n",
    "    plt.scatter(sub_df.iloc[si]['X'], sub_df.iloc[si]['Y']) # blocks\n",
    "    plt.scatter(con_x, con_y) # counted\n",
    "    plt.show()\n",
    "\n",
    "    return counter\n",
    "\n",
    "counter = 0\n",
    "index = 0\n",
    "\n",
    "for i in range(len(limits) - 1):\n",
    "    start = limits[i]\n",
    "    end = limits[i+1]\n",
    "    \n",
    "    sub_df = df.iloc[start:end].copy()\n",
    "    sub_df.index = range(len(sub_df.index))\n",
    "        \n",
    "    sub_counter = count_lines_in_sub_draw(sub_df)\n",
    "    print('sub_counter: ' + str(sub_counter))\n",
    "        \n",
    "    counter += sub_counter\n",
    "\n",
    "counter"
   ]
  },
  {
   "cell_type": "code",
   "execution_count": 131,
   "id": "4e7a872d-58fd-4278-898c-e0f332916d5b",
   "metadata": {},
   "outputs": [
    {
     "data": {
      "image/png": "[encoded data removed]",
      "text/plain": [
       "<Figure size 432x288 with 1 Axes>"
      ]
     },
     "metadata": {
      "needs_background": "light"
     },
     "output_type": "display_data"
    },
    {
     "name": "stdout",
     "output_type": "stream",
     "text": [
      "sub_counter: 3\n"
     ]
    },
    {
     "data": {
      "image/png": "[encoded data removed]",
      "text/plain": [
       "<Figure size 432x288 with 1 Axes>"
      ]
     },
     "metadata": {
      "needs_background": "light"
     },
     "output_type": "display_data"
    },
    {
     "name": "stdout",
     "output_type": "stream",
     "text": [
      "sub_counter: 0\n"
     ]
    },
    {
     "data": {
      "text/plain": [
       "3"
      ]
     },
     "execution_count": 131,
     "metadata": {},
     "output_type": "execute_result"
    }
   ],
   "source": [
    "# Make it simple - Need to fix\n",
    "\n",
    "# functions\n",
    "def get_angle(x1, y1, x2, y2):\n",
    "    if (x1 == x2):\n",
    "        if y2 >= y1:\n",
    "            return 90\n",
    "        return -90\n",
    "    \n",
    "    return math.degrees(math.atan(y2-y1/x2-x1))\n",
    "\n",
    "def get_distance(x1, y1, x2, y2):\n",
    "    return math.sqrt(math.pow(x2-x1, 2) + math.pow(y2-y1, 2))\n",
    "\n",
    "def get_next_block(sub_df: pd.DataFrame, current, distance: float):\n",
    "    if current not in sub_df.index.tolist():\n",
    "        return None\n",
    "            \n",
    "    x2, y2 = x1, y1 = sub_df.iloc[current][['X', 'Y']]\n",
    "    \n",
    "    for i in range(current+1, len(sub_df)):\n",
    "        x2, y2 = df.iloc[i][['X', 'Y']]\n",
    "        if get_distance(x1, y1, x2, y2) >= distance:\n",
    "            return i\n",
    "    return len(sub_df) - 1\n",
    "\n",
    "# Flags\n",
    "DELTA_XY = 20\n",
    "ANGLE_DIFF = 0.5\n",
    "\n",
    "def count_lines_in_sub_draw(sub_df):\n",
    "    # savers\n",
    "    counter = 0\n",
    "\n",
    "    con_x, con_y = [], []\n",
    "\n",
    "    # Step 1\n",
    "    si = [0]\n",
    "    start_index = 0\n",
    "\n",
    "    end_index = get_next_block(sub_df, start_index, DELTA_XY)\n",
    "    \n",
    "    while start_index < end_index:\n",
    "        si.append(end_index)\n",
    "        x1, y1 = sub_df.iloc[start_index][['X', 'Y']]\n",
    "\n",
    "        start_index = end_index\n",
    "        end_index = get_next_block(sub_df, start_index, DELTA_XY)\n",
    "\n",
    "    si.append(sub_df.tail(1).index[0])\n",
    "\n",
    "    si = np.unique(np.array(si)).tolist()\n",
    "\n",
    "    # Step 2\n",
    "    for i in range(len(si)-2):\n",
    "        x1, y1 = sub_df.iloc[si[i]][['X', 'Y']]\n",
    "\n",
    "        deg = math.degrees(math.atan(y1/x1))\n",
    "        a = b = 0\n",
    "        \n",
    "        way = range(si[i], si[i+1] + 1)\n",
    "\n",
    "        for row_i in way:\n",
    "            row = sub_df.iloc[row_i]\n",
    "\n",
    "            x2, y2 = row[['X', 'Y']]\n",
    "            a += math.degrees(math.atan(y2/x2)) - deg\n",
    "\n",
    "        a /= len(way)\n",
    "\n",
    "        way = range(si[i], si[i+2] + 1)\n",
    "        for row_i in way:\n",
    "            row = sub_df.iloc[row_i]\n",
    "\n",
    "            x2, y2 = row[['X', 'Y']]\n",
    "            b += math.degrees(math.atan(y2/x2)) - deg\n",
    "\n",
    "        b /= len(way)\n",
    "\n",
    "        if abs(b - a) > ANGLE_DIFF:\n",
    "            counter += 1\n",
    "            con_x.append(x1)\n",
    "            con_y.append(y1)\n",
    "\n",
    "\n",
    "    plt.scatter(sub_df['X'], sub_df['Y']) # all\n",
    "    plt.scatter(sub_df.iloc[si]['X'], sub_df.iloc[si]['Y']) # blocks\n",
    "    plt.scatter(con_x, con_y) # counted\n",
    "    plt.show()\n",
    "\n",
    "    return counter\n",
    "\n",
    "counter = 0\n",
    "index = 0\n",
    "\n",
    "for i in range(len(limits) - 1):\n",
    "    start = limits[i]\n",
    "    end = limits[i+1]\n",
    "    \n",
    "    sub_df = df.iloc[start:end].copy()\n",
    "    sub_df.index = range(len(sub_df.index))\n",
    "    \n",
    "    sub_df = sub_df.iloc[1:]\n",
    "    sub_df.index = range(len(sub_df.index))\n",
    "        \n",
    "    sub_counter = count_lines_in_sub_draw(sub_df)\n",
    "    print('sub_counter: ' + str(sub_counter))\n",
    "        \n",
    "    counter += sub_counter\n",
    "\n",
    "counter"
   ]
  },
  {
   "cell_type": "markdown",
   "id": "8bb973b1-61a0-456a-81cd-a4af28a9c056",
   "metadata": {},
   "source": [
    "Need to fix"
   ]
  },
  {
   "cell_type": "code",
   "execution_count": 48,
   "id": "3c49b4a5-9b6e-412f-8834-71efda1ffddd",
   "metadata": {},
   "outputs": [
    {
     "data": {
      "image/png": "[encoded data removed]",
      "text/plain": [
       "<Figure size 432x288 with 1 Axes>"
      ]
     },
     "metadata": {
      "needs_background": "light"
     },
     "output_type": "display_data"
    },
    {
     "name": "stdout",
     "output_type": "stream",
     "text": [
      "sub_counter: 5\n"
     ]
    },
    {
     "data": {
      "image/png": "[encoded data removed]",
      "text/plain": [
       "<Figure size 432x288 with 1 Axes>"
      ]
     },
     "metadata": {
      "needs_background": "light"
     },
     "output_type": "display_data"
    },
    {
     "name": "stdout",
     "output_type": "stream",
     "text": [
      "sub_counter: 1\n"
     ]
    },
    {
     "data": {
      "text/plain": [
       "6"
      ]
     },
     "execution_count": 48,
     "metadata": {},
     "output_type": "execute_result"
    }
   ],
   "source": [
    "# Make it simple - Need to fix\n",
    "\n",
    "# functions\n",
    "def get_angle(x1, y1, x2, y2):\n",
    "    if (x1 == x2):\n",
    "        if y2 >= y1:\n",
    "            return 90\n",
    "        return -90\n",
    "    \n",
    "    return math.degrees(math.atan(y2-y1/x2-x1))\n",
    "\n",
    "def get_distance(x1, y1, x2, y2):\n",
    "    return math.sqrt(math.pow(x2-x1, 2) + math.pow(y2-y1, 2))\n",
    "\n",
    "def get_next_block(sub_df: pd.DataFrame, current, distance: float):\n",
    "    if current not in sub_df.index.tolist():\n",
    "        return None\n",
    "            \n",
    "    x1, y1 = sub_df.iloc[current][['X', 'Y']]\n",
    "    \n",
    "    for i in range(current+1, len(sub_df)):\n",
    "        x2, y2 = sub_df.iloc[i][['X', 'Y']]\n",
    "    \n",
    "        if get_distance(x1, y1, x2, y2) >= distance:\n",
    "            return i\n",
    "    return len(sub_df) - 1\n",
    "\n",
    "# Flags\n",
    "DELTA_XY = 20\n",
    "ANGLE_DIFF = 0.5\n",
    "\n",
    "def count_lines_in_sub_draw(sub_df):\n",
    "    # savers\n",
    "    counter = 0\n",
    "\n",
    "    con_x, con_y = [], []\n",
    "\n",
    "    # Step 1\n",
    "    si = [0]\n",
    "    start_index = 0\n",
    "\n",
    "    end_index = get_next_block(sub_df, start_index, DELTA_XY)\n",
    "    \n",
    "    while start_index < end_index:\n",
    "        si.append(end_index)\n",
    "                \n",
    "        start_index = end_index\n",
    "        end_index = get_next_block(sub_df, start_index, DELTA_XY)\n",
    "\n",
    "    si.append(sub_df.tail(1).index[0])\n",
    "\n",
    "    si = np.unique(np.array(si)).tolist()\n",
    "\n",
    "    # Step 2\n",
    "    for i in range(len(si)-2):\n",
    "        x1, y1 = sub_df.iloc[si[i]][['X', 'Y']]\n",
    "\n",
    "        deg = math.degrees(math.atan(y1/x1))\n",
    "        a = b = 0\n",
    "        \n",
    "        way = range(si[i], si[i+1] + 1)\n",
    "\n",
    "        for row_i in way:\n",
    "            row = sub_df.iloc[row_i]\n",
    "\n",
    "            x2, y2 = row[['X', 'Y']]\n",
    "            a += math.degrees(math.atan(y2/x2)) - deg\n",
    "\n",
    "        a /= len(way)\n",
    "\n",
    "        way = range(si[i], si[i+2] + 1)\n",
    "        for row_i in way:\n",
    "            row = sub_df.iloc[row_i]\n",
    "\n",
    "            x2, y2 = row[['X', 'Y']]\n",
    "            b += math.degrees(math.atan(y2/x2)) - deg\n",
    "\n",
    "        b /= len(way)\n",
    "\n",
    "        if abs(b - a) > ANGLE_DIFF:\n",
    "            counter += 1\n",
    "            con_x.append(x1)\n",
    "            con_y.append(y1)\n",
    "\n",
    "\n",
    "    plt.scatter(sub_df['X'], sub_df['Y']) # all\n",
    "    plt.scatter(sub_df.iloc[si]['X'], sub_df.iloc[si]['Y']) # blocks\n",
    "    plt.scatter(con_x, con_y) # counted\n",
    "    plt.show()\n",
    "\n",
    "    return counter\n",
    "\n",
    "counter = 0\n",
    "\n",
    "limits = [df.head(1).index[0], df.tail(1).index[0]] + df[df.TimeDiff > df.TimeDiff.std()].index.tolist()\n",
    "limits = np.unique(list(sorted(limits))).tolist()\n",
    "\n",
    "index = 0\n",
    "\n",
    "for i in range(len(limits) - 1):\n",
    "    start = limits[i]\n",
    "    end = limits[i+1]\n",
    "    \n",
    "    sub_df = df.iloc[start:end].copy()\n",
    "    sub_df.index = range(len(sub_df.index))\n",
    "    \n",
    "    sub_df = sub_df.iloc[1:]\n",
    "    sub_df.index = range(len(sub_df.index))\n",
    "        \n",
    "    sub_counter = count_lines_in_sub_draw(sub_df)\n",
    "    print('sub_counter: ' + str(sub_counter))\n",
    "        \n",
    "    counter += sub_counter\n",
    "\n",
    "counter"
   ]
  },
  {
   "cell_type": "code",
   "execution_count": 135,
   "id": "2abb8655-0347-4ada-ba75-577b48e791aa",
   "metadata": {},
   "outputs": [
    {
     "data": {
      "text/html": [
       "<div>\n",
       "<style scoped>\n",
       "    .dataframe tbody tr th:only-of-type {\n",
       "        vertical-align: middle;\n",
       "    }\n",
       "\n",
       "    .dataframe tbody tr th {\n",
       "        vertical-align: top;\n",
       "    }\n",
       "\n",
       "    .dataframe thead th {\n",
       "        text-align: right;\n",
       "    }\n",
       "</style>\n",
       "<table border=\"1\" class=\"dataframe\">\n",
       "  <thead>\n",
       "    <tr style=\"text-align: right;\">\n",
       "      <th></th>\n",
       "      <th>X</th>\n",
       "      <th>Y</th>\n",
       "      <th>Pressure</th>\n",
       "      <th>TiltX</th>\n",
       "      <th>TiltY</th>\n",
       "      <th>Time</th>\n",
       "      <th>TimeDiff</th>\n",
       "      <th>PressureDiff</th>\n",
       "      <th>XDiff</th>\n",
       "      <th>YDiff</th>\n",
       "      <th>TiltXDiff</th>\n",
       "      <th>TiltYDiff</th>\n",
       "    </tr>\n",
       "  </thead>\n",
       "  <tbody>\n",
       "    <tr>\n",
       "      <th>0</th>\n",
       "      <td>726.419217</td>\n",
       "      <td>659.643839</td>\n",
       "      <td>0.091783</td>\n",
       "      <td>4325.0</td>\n",
       "      <td>-378.0</td>\n",
       "      <td>6.407096</td>\n",
       "      <td>0.015619</td>\n",
       "      <td>0.017334</td>\n",
       "      <td>0.000000</td>\n",
       "      <td>0.000000</td>\n",
       "      <td>0.0</td>\n",
       "      <td>0.0</td>\n",
       "    </tr>\n",
       "    <tr>\n",
       "      <th>1</th>\n",
       "      <td>726.419217</td>\n",
       "      <td>659.643839</td>\n",
       "      <td>0.109117</td>\n",
       "      <td>4325.0</td>\n",
       "      <td>-378.0</td>\n",
       "      <td>6.422715</td>\n",
       "      <td>0.015732</td>\n",
       "      <td>0.059083</td>\n",
       "      <td>-0.052662</td>\n",
       "      <td>0.263310</td>\n",
       "      <td>-122.0</td>\n",
       "      <td>16.0</td>\n",
       "    </tr>\n",
       "    <tr>\n",
       "      <th>2</th>\n",
       "      <td>726.366555</td>\n",
       "      <td>659.907149</td>\n",
       "      <td>0.168200</td>\n",
       "      <td>4203.0</td>\n",
       "      <td>-362.0</td>\n",
       "      <td>6.438447</td>\n",
       "      <td>0.015518</td>\n",
       "      <td>0.071778</td>\n",
       "      <td>-0.052662</td>\n",
       "      <td>0.315972</td>\n",
       "      <td>-116.0</td>\n",
       "      <td>15.0</td>\n",
       "    </tr>\n",
       "    <tr>\n",
       "      <th>3</th>\n",
       "      <td>726.313893</td>\n",
       "      <td>660.223120</td>\n",
       "      <td>0.239979</td>\n",
       "      <td>4087.0</td>\n",
       "      <td>-347.0</td>\n",
       "      <td>6.453965</td>\n",
       "      <td>0.015622</td>\n",
       "      <td>0.042481</td>\n",
       "      <td>0.000000</td>\n",
       "      <td>0.315972</td>\n",
       "      <td>0.0</td>\n",
       "      <td>0.0</td>\n",
       "    </tr>\n",
       "    <tr>\n",
       "      <th>4</th>\n",
       "      <td>726.313893</td>\n",
       "      <td>660.539092</td>\n",
       "      <td>0.282460</td>\n",
       "      <td>4087.0</td>\n",
       "      <td>-347.0</td>\n",
       "      <td>6.469587</td>\n",
       "      <td>0.019627</td>\n",
       "      <td>0.034913</td>\n",
       "      <td>0.210648</td>\n",
       "      <td>0.526620</td>\n",
       "      <td>0.0</td>\n",
       "      <td>0.0</td>\n",
       "    </tr>\n",
       "    <tr>\n",
       "      <th>...</th>\n",
       "      <td>...</td>\n",
       "      <td>...</td>\n",
       "      <td>...</td>\n",
       "      <td>...</td>\n",
       "      <td>...</td>\n",
       "      <td>...</td>\n",
       "      <td>...</td>\n",
       "      <td>...</td>\n",
       "      <td>...</td>\n",
       "      <td>...</td>\n",
       "      <td>...</td>\n",
       "      <td>...</td>\n",
       "    </tr>\n",
       "    <tr>\n",
       "      <th>195</th>\n",
       "      <td>710.673288</td>\n",
       "      <td>658.906571</td>\n",
       "      <td>0.748287</td>\n",
       "      <td>3730.0</td>\n",
       "      <td>-885.0</td>\n",
       "      <td>8.565296</td>\n",
       "      <td>0.000000</td>\n",
       "      <td>-0.004883</td>\n",
       "      <td>0.315972</td>\n",
       "      <td>-0.052662</td>\n",
       "      <td>0.0</td>\n",
       "      <td>0.0</td>\n",
       "    </tr>\n",
       "    <tr>\n",
       "      <th>196</th>\n",
       "      <td>710.989260</td>\n",
       "      <td>658.853909</td>\n",
       "      <td>0.743404</td>\n",
       "      <td>3730.0</td>\n",
       "      <td>-885.0</td>\n",
       "      <td>8.565296</td>\n",
       "      <td>0.015665</td>\n",
       "      <td>-0.008545</td>\n",
       "      <td>0.315972</td>\n",
       "      <td>-0.052662</td>\n",
       "      <td>0.0</td>\n",
       "      <td>0.0</td>\n",
       "    </tr>\n",
       "    <tr>\n",
       "      <th>197</th>\n",
       "      <td>711.305232</td>\n",
       "      <td>658.801247</td>\n",
       "      <td>0.734859</td>\n",
       "      <td>3730.0</td>\n",
       "      <td>-885.0</td>\n",
       "      <td>8.580961</td>\n",
       "      <td>0.000000</td>\n",
       "      <td>-0.027588</td>\n",
       "      <td>0.895253</td>\n",
       "      <td>-0.157986</td>\n",
       "      <td>5.0</td>\n",
       "      <td>38.0</td>\n",
       "    </tr>\n",
       "    <tr>\n",
       "      <th>198</th>\n",
       "      <td>712.200485</td>\n",
       "      <td>658.643261</td>\n",
       "      <td>0.707271</td>\n",
       "      <td>3735.0</td>\n",
       "      <td>-847.0</td>\n",
       "      <td>8.580961</td>\n",
       "      <td>0.015581</td>\n",
       "      <td>-0.014160</td>\n",
       "      <td>0.315972</td>\n",
       "      <td>0.000000</td>\n",
       "      <td>0.0</td>\n",
       "      <td>0.0</td>\n",
       "    </tr>\n",
       "    <tr>\n",
       "      <th>199</th>\n",
       "      <td>712.516457</td>\n",
       "      <td>658.643261</td>\n",
       "      <td>0.693111</td>\n",
       "      <td>3735.0</td>\n",
       "      <td>-847.0</td>\n",
       "      <td>8.596542</td>\n",
       "      <td>0.000000</td>\n",
       "      <td>-0.045899</td>\n",
       "      <td>1.211225</td>\n",
       "      <td>-0.157986</td>\n",
       "      <td>4.0</td>\n",
       "      <td>37.0</td>\n",
       "    </tr>\n",
       "  </tbody>\n",
       "</table>\n",
       "<p>200 rows × 12 columns</p>\n",
       "</div>"
      ],
      "text/plain": [
       "              X           Y  Pressure   TiltX  TiltY      Time  TimeDiff  \\\n",
       "0    726.419217  659.643839  0.091783  4325.0 -378.0  6.407096  0.015619   \n",
       "1    726.419217  659.643839  0.109117  4325.0 -378.0  6.422715  0.015732   \n",
       "2    726.366555  659.907149  0.168200  4203.0 -362.0  6.438447  0.015518   \n",
       "3    726.313893  660.223120  0.239979  4087.0 -347.0  6.453965  0.015622   \n",
       "4    726.313893  660.539092  0.282460  4087.0 -347.0  6.469587  0.019627   \n",
       "..          ...         ...       ...     ...    ...       ...       ...   \n",
       "195  710.673288  658.906571  0.748287  3730.0 -885.0  8.565296  0.000000   \n",
       "196  710.989260  658.853909  0.743404  3730.0 -885.0  8.565296  0.015665   \n",
       "197  711.305232  658.801247  0.734859  3730.0 -885.0  8.580961  0.000000   \n",
       "198  712.200485  658.643261  0.707271  3735.0 -847.0  8.580961  0.015581   \n",
       "199  712.516457  658.643261  0.693111  3735.0 -847.0  8.596542  0.000000   \n",
       "\n",
       "     PressureDiff     XDiff     YDiff  TiltXDiff  TiltYDiff  \n",
       "0        0.017334  0.000000  0.000000        0.0        0.0  \n",
       "1        0.059083 -0.052662  0.263310     -122.0       16.0  \n",
       "2        0.071778 -0.052662  0.315972     -116.0       15.0  \n",
       "3        0.042481  0.000000  0.315972        0.0        0.0  \n",
       "4        0.034913  0.210648  0.526620        0.0        0.0  \n",
       "..            ...       ...       ...        ...        ...  \n",
       "195     -0.004883  0.315972 -0.052662        0.0        0.0  \n",
       "196     -0.008545  0.315972 -0.052662        0.0        0.0  \n",
       "197     -0.027588  0.895253 -0.157986        5.0       38.0  \n",
       "198     -0.014160  0.315972  0.000000        0.0        0.0  \n",
       "199     -0.045899  1.211225 -0.157986        4.0       37.0  \n",
       "\n",
       "[200 rows x 12 columns]"
      ]
     },
     "execution_count": 135,
     "metadata": {},
     "output_type": "execute_result"
    }
   ],
   "source": [
    "sub_df"
   ]
  },
  {
   "cell_type": "code",
   "execution_count": 11,
   "id": "b5bbc37d-557e-403b-b16d-90854752c031",
   "metadata": {},
   "outputs": [
    {
     "data": {
      "image/png": "[encoded data removed]",
      "text/plain": [
       "<Figure size 432x288 with 1 Axes>"
      ]
     },
     "metadata": {
      "needs_background": "light"
     },
     "output_type": "display_data"
    },
    {
     "name": "stdout",
     "output_type": "stream",
     "text": [
      "sub_counter: 4\n"
     ]
    },
    {
     "data": {
      "image/png": "[encoded data removed]",
      "text/plain": [
       "<Figure size 432x288 with 1 Axes>"
      ]
     },
     "metadata": {
      "needs_background": "light"
     },
     "output_type": "display_data"
    },
    {
     "name": "stdout",
     "output_type": "stream",
     "text": [
      "sub_counter: 2\n"
     ]
    },
    {
     "data": {
      "text/plain": [
       "6"
      ]
     },
     "execution_count": 11,
     "metadata": {},
     "output_type": "execute_result"
    }
   ],
   "source": [
    "# Make it simple - Need to fix\n",
    "\n",
    "# functions\n",
    "def get_angle(x1, y1, x2, y2):\n",
    "    if (x1 == x2):\n",
    "        if y2 >= y1:\n",
    "            return 90\n",
    "        return -90\n",
    "    \n",
    "    return math.degrees(math.atan(y2-y1/x2-x1))\n",
    "\n",
    "def get_distance(x1, y1, x2, y2):\n",
    "    return math.sqrt(math.pow(x2-x1, 2) + math.pow(y2-y1, 2))\n",
    "\n",
    "def get_next_block(sub_df: pd.DataFrame, current, distance: float):\n",
    "    if current not in sub_df.index.tolist():\n",
    "        return None\n",
    "            \n",
    "    x1, y1 = sub_df.iloc[current][['X', 'Y']]\n",
    "    \n",
    "    for i in range(current+1, len(sub_df)):\n",
    "        x2, y2 = sub_df.iloc[i][['X', 'Y']]\n",
    "        \n",
    "        distance -= get_distance(x1, y1, x2, y2)\n",
    "        \n",
    "        x1, y1 = x2, y2\n",
    "        \n",
    "        if distance <= 0:\n",
    "            return i\n",
    "    return len(sub_df) - 1\n",
    "\n",
    "# Flags\n",
    "DELTA_XY = 20\n",
    "ANGLE_DIFF = 0.5\n",
    "\n",
    "def count_lines_in_sub_draw(sub_df):\n",
    "    # savers\n",
    "    counter = 0\n",
    "\n",
    "    con_x, con_y = [], []\n",
    "\n",
    "    # Step 1\n",
    "    si = [0]\n",
    "    start_index = 0\n",
    "\n",
    "    end_index = get_next_block(sub_df, start_index, DELTA_XY)\n",
    "    \n",
    "    while start_index < end_index:\n",
    "        si.append(end_index)\n",
    "                \n",
    "        start_index = end_index\n",
    "        end_index = get_next_block(sub_df, start_index, DELTA_XY)\n",
    "\n",
    "    si.append(sub_df.tail(1).index[0])\n",
    "\n",
    "    si = np.unique(np.array(si)).tolist()\n",
    "\n",
    "    # Step 2\n",
    "    for i in range(len(si)-2):\n",
    "        x1, y1 = sub_df.iloc[si[i]][['X', 'Y']]\n",
    "\n",
    "        deg = math.degrees(math.atan(y1/x1))\n",
    "        a = b = 0\n",
    "        \n",
    "        way = range(si[i], si[i+1] + 1)\n",
    "\n",
    "        for row_i in way:\n",
    "            row = sub_df.iloc[row_i]\n",
    "\n",
    "            x2, y2 = row[['X', 'Y']]\n",
    "            a += math.degrees(math.atan(y2/x2)) - deg\n",
    "\n",
    "        a /= len(way)\n",
    "\n",
    "        way = range(si[i], si[i+2] + 1)\n",
    "        for row_i in way:\n",
    "            row = sub_df.iloc[row_i]\n",
    "\n",
    "            x2, y2 = row[['X', 'Y']]\n",
    "            b += math.degrees(math.atan(y2/x2)) - deg\n",
    "\n",
    "        b /= len(way)\n",
    "\n",
    "        if abs(b - a) > ANGLE_DIFF:\n",
    "            counter += 1\n",
    "            con_x.append(x1)\n",
    "            con_y.append(y1)\n",
    "\n",
    "\n",
    "    plt.scatter(sub_df['X'], sub_df['Y']) # all\n",
    "    plt.scatter(sub_df.iloc[si]['X'], sub_df.iloc[si]['Y']) # blocks\n",
    "    plt.scatter(con_x, con_y) # counted\n",
    "    plt.show()\n",
    "\n",
    "    return counter\n",
    "\n",
    "counter = 0\n",
    "\n",
    "limits = [df.head(1).index[0], df.tail(1).index[0]] + df[df.TimeDiff > df.TimeDiff.std()].index.tolist()\n",
    "limits = np.unique(list(sorted(limits))).tolist()\n",
    "\n",
    "index = 0\n",
    "\n",
    "for i in range(len(limits) - 1):\n",
    "    start = limits[i]\n",
    "    end = limits[i+1]\n",
    "    \n",
    "    sub_df = df.iloc[start:end].copy()\n",
    "    sub_df.index = range(len(sub_df.index))\n",
    "    \n",
    "    sub_df = sub_df.iloc[1:]\n",
    "    sub_df.index = range(len(sub_df.index))\n",
    "        \n",
    "    sub_counter = count_lines_in_sub_draw(sub_df)\n",
    "    print('sub_counter: ' + str(sub_counter))\n",
    "        \n",
    "    counter += sub_counter\n",
    "\n",
    "counter"
   ]
  },
  {
   "cell_type": "code",
   "execution_count": 59,
   "id": "631f4e24-172f-48ca-8b8a-52f9c6e8467e",
   "metadata": {},
   "outputs": [
    {
     "name": "stdout",
     "output_type": "stream",
     "text": [
      "0.6701479523980339\n"
     ]
    },
    {
     "data": {
      "image/png": "[encoded data removed]",
      "text/plain": [
       "<Figure size 432x288 with 1 Axes>"
      ]
     },
     "metadata": {
      "needs_background": "light"
     },
     "output_type": "display_data"
    },
    {
     "data": {
      "image/png": "[encoded data removed]",
      "text/plain": [
       "<Figure size 432x288 with 1 Axes>"
      ]
     },
     "metadata": {
      "needs_background": "light"
     },
     "output_type": "display_data"
    },
    {
     "name": "stdout",
     "output_type": "stream",
     "text": [
      "sub_counter: 1\n"
     ]
    },
    {
     "data": {
      "image/png": "[encoded data removed]",
      "text/plain": [
       "<Figure size 432x288 with 1 Axes>"
      ]
     },
     "metadata": {
      "needs_background": "light"
     },
     "output_type": "display_data"
    },
    {
     "data": {
      "image/png": "[encoded data removed]",
      "text/plain": [
       "<Figure size 432x288 with 1 Axes>"
      ]
     },
     "metadata": {
      "needs_background": "light"
     },
     "output_type": "display_data"
    },
    {
     "name": "stdout",
     "output_type": "stream",
     "text": [
      "sub_counter: 0\n"
     ]
    },
    {
     "data": {
      "text/plain": [
       "1"
      ]
     },
     "execution_count": 59,
     "metadata": {},
     "output_type": "execute_result"
    }
   ],
   "source": [
    "# Make it simple - Need to fix\n",
    "\n",
    "# functions\n",
    "def get_angle(x1, y1, x2, y2):\n",
    "    if (x1 == x2):\n",
    "        if y2 >= y1:\n",
    "            return 90\n",
    "        return -90\n",
    "    \n",
    "    return math.degrees(math.atan(y2-y1/x2-x1))\n",
    "\n",
    "def get_distance(x1, y1, x2, y2):\n",
    "    return math.sqrt(math.pow(x2-x1, 2) + math.pow(y2-y1, 2))\n",
    "\n",
    "def get_next_block(sub_df: pd.DataFrame, current, distance: float):\n",
    "    if current not in sub_df.index.tolist():\n",
    "        return None\n",
    "            \n",
    "    x1, y1 = sub_df.iloc[current][['X', 'Y']]\n",
    "    \n",
    "    for i in range(current+1, len(sub_df)):\n",
    "        x2, y2 = sub_df.iloc[i][['X', 'Y']]\n",
    "        \n",
    "        distance -= get_distance(x1, y1, x2, y2)\n",
    "        \n",
    "        x1, y1 = x2, y2\n",
    "        \n",
    "        if distance <= 0:\n",
    "            return i\n",
    "    return len(sub_df) - 1\n",
    "\n",
    "# Flags\n",
    "DELTA_XY = 40\n",
    "DIRECT_COUNT_RATIO = 10\n",
    "MAX_DIFF = 0.5\n",
    "\n",
    "def count_lines_in_sub_draw(sub_df):\n",
    "    # savers\n",
    "    counter = 0\n",
    "\n",
    "    con_x, con_y = [], []\n",
    "\n",
    "    # Step 1\n",
    "    start_index = 0\n",
    "\n",
    "    start_index = 0\n",
    "    ls = sub_df.index.tolist()\n",
    "    \n",
    "    max_diffs = []\n",
    "    \n",
    "    # Step 2\n",
    "    while start_index < len(ls):\n",
    "        end_index = get_next_block(sub_df, start_index, DELTA_XY)\n",
    "                \n",
    "        if start_index < end_index:\n",
    "            x1, y1 = sub_df.iloc[ls[start_index]][['X', 'Y']]\n",
    "            x2, y2 = sub_df.iloc[ls[end_index]][['X', 'Y']]\n",
    "            \n",
    "            points = sub_df.iloc[ls[start_index:end_index]][['X', 'Y']]\n",
    "            \n",
    "            direct_line_size = DIRECT_COUNT_RATIO * len(points.index)\n",
    "            direct_line_x = np.linspace(x1, x2, num=direct_line_size).tolist()\n",
    "            direct_line_y = np.linspace(y1, y2, num=direct_line_size).tolist()\n",
    "            \n",
    "            \n",
    "            max_diff = 0\n",
    "            for point_i in points.index:\n",
    "                x,y = points.loc[point_i][['X', 'Y']]\n",
    "                \n",
    "                min_diff_point = get_distance(x1, y1, x, y)\n",
    "                \n",
    "                for di in range(direct_line_size):\n",
    "                    \n",
    "                    dis = get_distance(x1, y1, direct_line_x[di], direct_line_y[di])\n",
    "                    if dis > 0:\n",
    "                        if min_diff_point == 0:\n",
    "                            min_diff_point = dis\n",
    "                        else:\n",
    "                            min_diff_point = min([min_diff_point, dis])\n",
    "\n",
    "                max_diff = max([max_diff, min_diff_point])\n",
    "            \n",
    "            max_diffs.append(max_diff)\n",
    "            plt.scatter(direct_line_x, direct_line_y)\n",
    "            \n",
    "            if max_diff > MAX_DIFF:\n",
    "                counter += 1\n",
    "                con_x.append(x1)\n",
    "                con_y.append(y1)\n",
    "                start_index = end_index\n",
    "                print(max_diff)\n",
    "            else:\n",
    "                start_index += 1\n",
    "                start_index = end_index\n",
    "        else:\n",
    "            start_index += 1\n",
    "\n",
    "\n",
    "    plt.scatter(sub_df['X'], sub_df['Y']) # all\n",
    "    plt.scatter(con_x, con_y) # counted\n",
    "    plt.show()\n",
    "    \n",
    "    plt.plot(max_diffs)\n",
    "    plt.show()\n",
    "\n",
    "    return counter\n",
    "\n",
    "counter = 0\n",
    "\n",
    "limits = [df.head(1).index[0], df.tail(1).index[0]] + df[df.TimeDiff > df.TimeDiff.std()].index.tolist()\n",
    "limits = np.unique(list(sorted(limits))).tolist()\n",
    "\n",
    "index = 0\n",
    "\n",
    "for i in range(len(limits) - 1):\n",
    "    start = limits[i]\n",
    "    end = limits[i+1]\n",
    "    \n",
    "    sub_df = df.iloc[start:end].copy()\n",
    "    sub_df.index = range(len(sub_df.index))\n",
    "    \n",
    "    sub_df = sub_df.iloc[1:]\n",
    "    sub_df.index = range(len(sub_df.index))\n",
    "        \n",
    "    sub_counter = count_lines_in_sub_draw(sub_df)\n",
    "    print('sub_counter: ' + str(sub_counter))\n",
    "        \n",
    "    counter += sub_counter\n",
    "\n",
    "counter"
   ]
  },
  {
   "cell_type": "code",
   "execution_count": 63,
   "id": "f5c63199-bc2c-4dfe-aaf6-ecd8780bc23c",
   "metadata": {},
   "outputs": [
    {
     "data": {
      "image/png": "[encoded data removed]",
      "text/plain": [
       "<Figure size 432x288 with 1 Axes>"
      ]
     },
     "metadata": {
      "needs_background": "light"
     },
     "output_type": "display_data"
    },
    {
     "data": {
      "image/png": "[encoded data removed]",
      "text/plain": [
       "<Figure size 432x288 with 1 Axes>"
      ]
     },
     "metadata": {
      "needs_background": "light"
     },
     "output_type": "display_data"
    },
    {
     "name": "stdout",
     "output_type": "stream",
     "text": [
      "sub_counter: 2\n"
     ]
    },
    {
     "data": {
      "image/png": "[encoded data removed]",
      "text/plain": [
       "<Figure size 432x288 with 1 Axes>"
      ]
     },
     "metadata": {
      "needs_background": "light"
     },
     "output_type": "display_data"
    },
    {
     "data": {
      "image/png": "[encoded data removed]",
      "text/plain": [
       "<Figure size 432x288 with 1 Axes>"
      ]
     },
     "metadata": {
      "needs_background": "light"
     },
     "output_type": "display_data"
    },
    {
     "name": "stdout",
     "output_type": "stream",
     "text": [
      "sub_counter: 2\n"
     ]
    },
    {
     "data": {
      "text/plain": [
       "4"
      ]
     },
     "execution_count": 63,
     "metadata": {},
     "output_type": "execute_result"
    }
   ],
   "source": [
    "# Make it simple - Need to fix\n",
    "\n",
    "# functions\n",
    "def get_angle(x1, y1, x2, y2):\n",
    "    if (x1 == x2):\n",
    "        if y2 >= y1:\n",
    "            return 90\n",
    "        return -90\n",
    "    \n",
    "    return math.degrees(math.atan(y2-y1/x2-x1))\n",
    "\n",
    "def get_distance(x1, y1, x2, y2):\n",
    "    return math.sqrt(math.pow(x2-x1, 2) + math.pow(y2-y1, 2))\n",
    "\n",
    "def get_next_block(sub_df: pd.DataFrame, current, distance: float):\n",
    "    if current not in sub_df.index.tolist():\n",
    "        return None\n",
    "            \n",
    "    x1, y1 = sub_df.iloc[current][['X', 'Y']]\n",
    "    \n",
    "    for i in range(current+1, len(sub_df)):\n",
    "        x2, y2 = sub_df.iloc[i][['X', 'Y']]\n",
    "        \n",
    "        distance -= get_distance(x1, y1, x2, y2)\n",
    "        \n",
    "        x1, y1 = x2, y2\n",
    "        \n",
    "        if distance <= 0:\n",
    "            return i\n",
    "    return len(sub_df) - 1\n",
    "\n",
    "# Flags\n",
    "DELTA_XY = 40\n",
    "DIRECT_COUNT_RATIO = 10\n",
    "MAX_DIFF = 10\n",
    "\n",
    "def count_lines_in_sub_draw(sub_df):\n",
    "    # savers\n",
    "    counter = 0\n",
    "\n",
    "    con_x, con_y = [], []\n",
    "\n",
    "    # Step 1\n",
    "    start_index = 0\n",
    "\n",
    "    start_index = 0\n",
    "    ls = sub_df.index.tolist()\n",
    "    \n",
    "    max_diffs = []\n",
    "    \n",
    "    # Step 2\n",
    "    while start_index < len(ls):\n",
    "        end_index = get_next_block(sub_df, start_index, DELTA_XY)\n",
    "                \n",
    "        if start_index < end_index:\n",
    "            x1, y1 = sub_df.iloc[ls[start_index]][['X', 'Y']]\n",
    "            x2, y2 = sub_df.iloc[ls[end_index]][['X', 'Y']]\n",
    "            \n",
    "            points = sub_df.iloc[ls[start_index:end_index]][['X', 'Y']]\n",
    "            \n",
    "            direct_line_size = DIRECT_COUNT_RATIO * len(points.index)\n",
    "            direct_line_x = np.linspace(x1, x2, num=direct_line_size).tolist()\n",
    "            direct_line_y = np.linspace(y1, y2, num=direct_line_size).tolist()\n",
    "            \n",
    "            \n",
    "            max_diff = 0\n",
    "            for point_i in points.index:\n",
    "                x,y = points.loc[point_i][['X', 'Y']]\n",
    "                \n",
    "                min_diff_point = get_distance(x, y, x1, y1)\n",
    "                \n",
    "                for di in range(direct_line_size):\n",
    "                    \n",
    "                    dis = get_distance(x, y, direct_line_x[di], direct_line_y[di])\n",
    "                    if dis > 0:\n",
    "                        if min_diff_point == 0:\n",
    "                            min_diff_point = dis\n",
    "                        else:\n",
    "                            min_diff_point = min([min_diff_point, dis])\n",
    "\n",
    "                max_diff = max([max_diff, min_diff_point])\n",
    "            \n",
    "            max_diffs.append(max_diff)\n",
    "            \n",
    "            if max_diff > MAX_DIFF:\n",
    "                counter += 1\n",
    "                con_x.append(x1)\n",
    "                con_y.append(y1)\n",
    "                start_index = end_index\n",
    "                plt.scatter(direct_line_x, direct_line_y)\n",
    "            else:\n",
    "                start_index += 1\n",
    "        else:\n",
    "            start_index += 1\n",
    "\n",
    "\n",
    "    plt.scatter(sub_df['X'], sub_df['Y']) # all\n",
    "    plt.scatter(con_x, con_y) # counted\n",
    "    plt.show()\n",
    "    \n",
    "    plt.plot(max_diffs)\n",
    "    plt.show()\n",
    "\n",
    "    return counter\n",
    "\n",
    "counter = 0\n",
    "\n",
    "limits = [df.head(1).index[0], df.tail(1).index[0]] + df[df.TimeDiff > df.TimeDiff.std()].index.tolist()\n",
    "limits = np.unique(list(sorted(limits))).tolist()\n",
    "\n",
    "index = 0\n",
    "\n",
    "for i in range(len(limits) - 1):\n",
    "    start = limits[i]\n",
    "    end = limits[i+1]\n",
    "    \n",
    "    sub_df = df.iloc[start:end].copy()\n",
    "    sub_df.index = range(len(sub_df.index))\n",
    "    \n",
    "    sub_df = sub_df.iloc[1:]\n",
    "    sub_df.index = range(len(sub_df.index))\n",
    "        \n",
    "    sub_counter = count_lines_in_sub_draw(sub_df)\n",
    "    print('sub_counter: ' + str(sub_counter))\n",
    "        \n",
    "    counter += sub_counter\n",
    "\n",
    "counter"
   ]
  },
  {
   "cell_type": "code",
   "execution_count": 70,
   "id": "4ac5b9d8-9d40-44bd-9d67-b880754e7328",
   "metadata": {},
   "outputs": [
    {
     "data": {
      "image/png": "[encoded data removed]",
      "text/plain": [
       "<Figure size 432x288 with 1 Axes>"
      ]
     },
     "metadata": {
      "needs_background": "light"
     },
     "output_type": "display_data"
    },
    {
     "name": "stdout",
     "output_type": "stream",
     "text": [
      "sub_counter: 3\n"
     ]
    },
    {
     "data": {
      "image/png": "[encoded data removed]",
      "text/plain": [
       "<Figure size 432x288 with 1 Axes>"
      ]
     },
     "metadata": {
      "needs_background": "light"
     },
     "output_type": "display_data"
    },
    {
     "name": "stdout",
     "output_type": "stream",
     "text": [
      "sub_counter: 3\n"
     ]
    },
    {
     "data": {
      "text/plain": [
       "6"
      ]
     },
     "execution_count": 70,
     "metadata": {},
     "output_type": "execute_result"
    }
   ],
   "source": [
    "# Make it simple - Need to fix\n",
    "\n",
    "# functions\n",
    "def get_angle(x1, y1, x2, y2):\n",
    "    if (x1 == x2):\n",
    "        if y2 >= y1:\n",
    "            return 90\n",
    "        return -90\n",
    "    \n",
    "    return math.degrees(math.atan(y2-y1/x2-x1))\n",
    "\n",
    "def get_distance(x1, y1, x2, y2):\n",
    "    return math.sqrt(math.pow(x2-x1, 2) + math.pow(y2-y1, 2))\n",
    "\n",
    "def get_next_block(sub_df: pd.DataFrame, current, distance: float):\n",
    "    if current not in sub_df.index.tolist():\n",
    "        return None\n",
    "            \n",
    "    x1, y1 = sub_df.iloc[current][['X', 'Y']]\n",
    "    \n",
    "    for i in range(current+1, len(sub_df)):\n",
    "        x2, y2 = sub_df.iloc[i][['X', 'Y']]\n",
    "        \n",
    "        distance -= get_distance(x1, y1, x2, y2)\n",
    "        \n",
    "        x1, y1 = x2, y2\n",
    "        \n",
    "        if distance <= 0:\n",
    "            return i\n",
    "    return len(sub_df) - 1\n",
    "\n",
    "# Flags\n",
    "DELTA_XY = 40\n",
    "DIRECT_COUNT_RATIO = 10\n",
    "MAX_DIFF = 10\n",
    "\n",
    "def count_lines_in_sub_draw(sub_df):\n",
    "    # savers\n",
    "    counter = 1\n",
    "\n",
    "    cons_x, cons_y = [], []\n",
    "    con_direct_lines_x, con_direct_lines_y = [], []\n",
    "    \n",
    "    # Step 1\n",
    "    start_index = 0\n",
    "\n",
    "    start_index = 0\n",
    "    ls = sub_df.index.tolist()\n",
    "        \n",
    "    # Step 2\n",
    "    while start_index < len(ls):\n",
    "        end_index = get_next_block(sub_df, start_index, DELTA_XY)\n",
    "                \n",
    "        if start_index < end_index:\n",
    "            x1, y1 = sub_df.iloc[ls[start_index]][['X', 'Y']]\n",
    "            x2, y2 = sub_df.iloc[ls[end_index]][['X', 'Y']]\n",
    "            \n",
    "            points = sub_df.iloc[ls[start_index:end_index]][['X', 'Y']]\n",
    "            \n",
    "            direct_line_size = DIRECT_COUNT_RATIO * len(points.index)\n",
    "            direct_line_x = np.linspace(x1, x2, num=direct_line_size).tolist()\n",
    "            direct_line_y = np.linspace(y1, y2, num=direct_line_size).tolist()\n",
    "            \n",
    "            max_diff = 0\n",
    "            con_x, con_y = x1, y1\n",
    "            for point_i in points.index:\n",
    "                x,y = points.loc[point_i][['X', 'Y']]\n",
    "                \n",
    "                min_diff_point = get_distance(x, y, x1, y1)\n",
    "                \n",
    "                for di in range(direct_line_size):\n",
    "                    \n",
    "                    dis = get_distance(x, y, direct_line_x[di], direct_line_y[di])\n",
    "                    if dis > 0:\n",
    "                        if min_diff_point == 0:\n",
    "                            min_diff_point = dis\n",
    "                        else:\n",
    "                            min_diff_point = min([min_diff_point, dis])\n",
    "                \n",
    "                max_diff = max([max_diff, min_diff_point])\n",
    "                if max_diff == min_diff_point:\n",
    "                    con_x, con_y = x, y\n",
    "                \n",
    "            if max_diff > MAX_DIFF:\n",
    "                counter += 1\n",
    "                cons_x.append(con_x)\n",
    "                cons_y.append(con_y)\n",
    "                start_index = end_index\n",
    "                con_direct_lines_x.append(direct_line_x)\n",
    "                con_direct_lines_y.append(direct_line_y)\n",
    "            else:\n",
    "                start_index += 1\n",
    "        else:\n",
    "            start_index += 1\n",
    "\n",
    "\n",
    "    plt.scatter(sub_df['X'], sub_df['Y']) # all\n",
    "    for i in range(len(cons_x)):\n",
    "        plt.scatter([cons_x[i]] + con_direct_lines_x[i], [cons_y[i]] + con_direct_lines_y[i])\n",
    "    plt.show()\n",
    "\n",
    "    return counter\n",
    "\n",
    "counter = 0\n",
    "\n",
    "limits = [df.head(1).index[0], df.tail(1).index[0]] + df[df.TimeDiff > df.TimeDiff.std()].index.tolist()\n",
    "limits = np.unique(list(sorted(limits))).tolist()\n",
    "\n",
    "index = 0\n",
    "\n",
    "for i in range(len(limits) - 1):\n",
    "    start = limits[i]\n",
    "    end = limits[i+1]\n",
    "    \n",
    "    sub_df = df.iloc[start:end].copy()\n",
    "    sub_df.index = range(len(sub_df.index))\n",
    "    \n",
    "    sub_df = sub_df.iloc[1:]\n",
    "    sub_df.index = range(len(sub_df.index))\n",
    "        \n",
    "    sub_counter = count_lines_in_sub_draw(sub_df)\n",
    "    print('sub_counter: ' + str(sub_counter))\n",
    "        \n",
    "    counter += sub_counter\n",
    "\n",
    "counter"
   ]
  },
  {
   "cell_type": "code",
   "execution_count": null,
   "id": "3af4d0c0-81a2-4ae6-ada1-928acb0c822e",
   "metadata": {},
   "outputs": [],
   "source": []
  },
  {
   "cell_type": "code",
   "execution_count": null,
   "id": "84fba4b4-450d-4006-920e-685b1a4ee856",
   "metadata": {},
   "outputs": [],
   "source": []
  },
  {
   "cell_type": "code",
   "execution_count": null,
   "id": "1e9120b4-3d02-4e69-bf56-37c755c509d7",
   "metadata": {},
   "outputs": [],
   "source": []
  }
 ],
 "metadata": {
  "kernelspec": {
   "display_name": "data-science-walmart-and-more",
   "language": "python",
   "name": "data-science-walmart-and-more"
  },
  "language_info": {
   "codemirror_mode": {
    "name": "ipython",
    "version": 3
   },
   "file_extension": ".py",
   "mimetype": "text/x-python",
   "name": "python",
   "nbconvert_exporter": "python",
   "pygments_lexer": "ipython3",
   "version": "3.9.6"
  }
 },
 "nbformat": 4,
 "nbformat_minor": 5
}
