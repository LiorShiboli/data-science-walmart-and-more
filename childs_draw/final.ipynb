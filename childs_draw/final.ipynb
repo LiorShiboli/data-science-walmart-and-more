{
 "cells": [
  {
   "cell_type": "code",
   "execution_count": 4,
   "id": "fd6c419e-fc12-4e0d-9b59-110a92312af3",
   "metadata": {},
   "outputs": [],
   "source": [
    "import os\n",
    "import shutil\n",
    "\n",
    "import pandas as pd\n",
    "\n",
    "import src.childs_draw as childs_draw"
   ]
  },
  {
   "cell_type": "code",
   "execution_count": 5,
   "id": "71095608-3a5c-4af9-bf6f-73220294afea",
   "metadata": {},
   "outputs": [],
   "source": [
    "if os.path.isdir('./temp'):\n",
    "    shutil.rmtree('./temp')\n",
    "os.mkdir('./temp')\n",
    "\n",
    "childs_draw.set_save_images_folder('./temp')"
   ]
  },
  {
   "cell_type": "code",
   "execution_count": 3,
   "id": "1e7747e5-760c-47df-aff2-30869d5c0e45",
   "metadata": {},
   "outputs": [
    {
     "data": {
      "text/plain": [
       "{'Hands Up': 4,\n",
       " 'Lines Count': None,\n",
       " 'Exist Closed Shapes': True,\n",
       " 'Closed Shapes Count': 1}"
      ]
     },
     "execution_count": 3,
     "metadata": {},
     "output_type": "execute_result"
    }
   ],
   "source": [
    "res = childs_draw.child_draw_describe(7557, 12, True)\n",
    "res"
   ]
  },
  {
   "cell_type": "code",
   "execution_count": 4,
   "id": "f8c09efa-f536-4271-9dac-9a066c4779f7",
   "metadata": {},
   "outputs": [
    {
     "data": {
      "text/plain": [
       "{'Hands Up': 4,\n",
       " 'Lines Count': None,\n",
       " 'Exist Closed Shapes': True,\n",
       " 'Closed Shapes Count': 1}"
      ]
     },
     "execution_count": 4,
     "metadata": {},
     "output_type": "execute_result"
    }
   ],
   "source": [
    "childs_draw.child_draw_describe(7554, 10, True)\n",
    "res"
   ]
  },
  {
   "cell_type": "code",
   "execution_count": 5,
   "id": "9ae0e4f2-88a6-4410-b77b-821dddf139c1",
   "metadata": {},
   "outputs": [
    {
     "data": {
      "text/plain": [
       "{'Hands Up': 13,\n",
       " 'Lines Count': None,\n",
       " 'Exist Closed Shapes': False,\n",
       " 'Closed Shapes Count': 0}"
      ]
     },
     "execution_count": 5,
     "metadata": {},
     "output_type": "execute_result"
    }
   ],
   "source": [
    "res = childs_draw.child_draw_describe(7557, 14, True)\n",
    "res"
   ]
  },
  {
   "cell_type": "code",
   "execution_count": 6,
   "id": "b84b80c2-2ab5-4e53-bd3b-e0cf2abb312b",
   "metadata": {},
   "outputs": [
    {
     "data": {
      "text/plain": [
       "{'Hands Up': 7,\n",
       " 'Lines Count': None,\n",
       " 'Exist Closed Shapes': True,\n",
       " 'Closed Shapes Count': 21}"
      ]
     },
     "execution_count": 6,
     "metadata": {},
     "output_type": "execute_result"
    }
   ],
   "source": [
    "res = childs_draw.child_draw_describe(7554, 14, True)\n",
    "res"
   ]
  },
  {
   "cell_type": "code",
   "execution_count": 20,
   "id": "f69b9090-8242-4cb1-b7f3-52354e4015fc",
   "metadata": {},
   "outputs": [],
   "source": [
    "def test_child(child_id: int):\n",
    "    if os.path.isdir('./temp'):\n",
    "        shutil.rmtree('./temp')\n",
    "    os.mkdir('./temp')\n",
    "\n",
    "    childs_draw.set_save_images_folder('./temp')\n",
    "    \n",
    "    arr = []\n",
    "    for i in range(1, 21 + 1):\n",
    "        print(\"child_draw_describe \", i)\n",
    "        res = childs_draw.child_draw_describe(child_id, i, True)\n",
    "        arr.append(res)\n",
    "    \n",
    "    res = pd.DataFrame(arr)\n",
    "    res.index = range(1, 21 + 1)\n",
    "    \n",
    "    return res"
   ]
  },
  {
   "cell_type": "code",
   "execution_count": 21,
   "id": "c3ea3b3e-334b-46ae-b507-18f80d749b7f",
   "metadata": {},
   "outputs": [
    {
     "name": "stdout",
     "output_type": "stream",
     "text": [
      "child_draw_describe  1\n",
      "child_draw_describe  2\n",
      "child_draw_describe  3\n",
      "child_draw_describe  4\n",
      "child_draw_describe  5\n",
      "child_draw_describe  6\n",
      "child_draw_describe  7\n",
      "child_draw_describe  8\n",
      "child_draw_describe  9\n",
      "child_draw_describe  10\n",
      "child_draw_describe  11\n",
      "child_draw_describe  12\n",
      "child_draw_describe  13\n",
      "child_draw_describe  14\n",
      "child_draw_describe  15\n",
      "child_draw_describe  16\n",
      "child_draw_describe  17\n",
      "child_draw_describe  18\n",
      "child_draw_describe  19\n",
      "child_draw_describe  20\n",
      "child_draw_describe  21\n"
     ]
    },
    {
     "data": {
      "text/html": [
       "<div>\n",
       "<style scoped>\n",
       "    .dataframe tbody tr th:only-of-type {\n",
       "        vertical-align: middle;\n",
       "    }\n",
       "\n",
       "    .dataframe tbody tr th {\n",
       "        vertical-align: top;\n",
       "    }\n",
       "\n",
       "    .dataframe thead th {\n",
       "        text-align: right;\n",
       "    }\n",
       "</style>\n",
       "<table border=\"1\" class=\"dataframe\">\n",
       "  <thead>\n",
       "    <tr style=\"text-align: right;\">\n",
       "      <th></th>\n",
       "      <th>Hands Up</th>\n",
       "      <th>Lines Count</th>\n",
       "      <th>Exist Closed Shapes</th>\n",
       "      <th>Closed Shapes Count</th>\n",
       "    </tr>\n",
       "  </thead>\n",
       "  <tbody>\n",
       "    <tr>\n",
       "      <th>1</th>\n",
       "      <td>92</td>\n",
       "      <td>None</td>\n",
       "      <td>False</td>\n",
       "      <td>0</td>\n",
       "    </tr>\n",
       "    <tr>\n",
       "      <th>2</th>\n",
       "      <td>177</td>\n",
       "      <td>None</td>\n",
       "      <td>False</td>\n",
       "      <td>0</td>\n",
       "    </tr>\n",
       "    <tr>\n",
       "      <th>3</th>\n",
       "      <td>154</td>\n",
       "      <td>None</td>\n",
       "      <td>False</td>\n",
       "      <td>0</td>\n",
       "    </tr>\n",
       "    <tr>\n",
       "      <th>4</th>\n",
       "      <td>280</td>\n",
       "      <td>None</td>\n",
       "      <td>True</td>\n",
       "      <td>1</td>\n",
       "    </tr>\n",
       "    <tr>\n",
       "      <th>5</th>\n",
       "      <td>2</td>\n",
       "      <td>None</td>\n",
       "      <td>False</td>\n",
       "      <td>0</td>\n",
       "    </tr>\n",
       "    <tr>\n",
       "      <th>6</th>\n",
       "      <td>802</td>\n",
       "      <td>None</td>\n",
       "      <td>False</td>\n",
       "      <td>0</td>\n",
       "    </tr>\n",
       "    <tr>\n",
       "      <th>7</th>\n",
       "      <td>9</td>\n",
       "      <td>None</td>\n",
       "      <td>False</td>\n",
       "      <td>0</td>\n",
       "    </tr>\n",
       "    <tr>\n",
       "      <th>8</th>\n",
       "      <td>2</td>\n",
       "      <td>None</td>\n",
       "      <td>False</td>\n",
       "      <td>0</td>\n",
       "    </tr>\n",
       "    <tr>\n",
       "      <th>9</th>\n",
       "      <td>5</td>\n",
       "      <td>None</td>\n",
       "      <td>True</td>\n",
       "      <td>17</td>\n",
       "    </tr>\n",
       "    <tr>\n",
       "      <th>10</th>\n",
       "      <td>7</td>\n",
       "      <td>None</td>\n",
       "      <td>False</td>\n",
       "      <td>0</td>\n",
       "    </tr>\n",
       "    <tr>\n",
       "      <th>11</th>\n",
       "      <td>5</td>\n",
       "      <td>None</td>\n",
       "      <td>True</td>\n",
       "      <td>1</td>\n",
       "    </tr>\n",
       "    <tr>\n",
       "      <th>12</th>\n",
       "      <td>3</td>\n",
       "      <td>None</td>\n",
       "      <td>True</td>\n",
       "      <td>1</td>\n",
       "    </tr>\n",
       "    <tr>\n",
       "      <th>13</th>\n",
       "      <td>4</td>\n",
       "      <td>None</td>\n",
       "      <td>True</td>\n",
       "      <td>2</td>\n",
       "    </tr>\n",
       "    <tr>\n",
       "      <th>14</th>\n",
       "      <td>7</td>\n",
       "      <td>None</td>\n",
       "      <td>True</td>\n",
       "      <td>21</td>\n",
       "    </tr>\n",
       "    <tr>\n",
       "      <th>15</th>\n",
       "      <td>5</td>\n",
       "      <td>None</td>\n",
       "      <td>True</td>\n",
       "      <td>8</td>\n",
       "    </tr>\n",
       "    <tr>\n",
       "      <th>16</th>\n",
       "      <td>3</td>\n",
       "      <td>None</td>\n",
       "      <td>True</td>\n",
       "      <td>5</td>\n",
       "    </tr>\n",
       "    <tr>\n",
       "      <th>17</th>\n",
       "      <td>1</td>\n",
       "      <td>None</td>\n",
       "      <td>True</td>\n",
       "      <td>8</td>\n",
       "    </tr>\n",
       "    <tr>\n",
       "      <th>18</th>\n",
       "      <td>12</td>\n",
       "      <td>None</td>\n",
       "      <td>True</td>\n",
       "      <td>24</td>\n",
       "    </tr>\n",
       "    <tr>\n",
       "      <th>19</th>\n",
       "      <td>7</td>\n",
       "      <td>None</td>\n",
       "      <td>True</td>\n",
       "      <td>17</td>\n",
       "    </tr>\n",
       "    <tr>\n",
       "      <th>20</th>\n",
       "      <td>3</td>\n",
       "      <td>None</td>\n",
       "      <td>False</td>\n",
       "      <td>0</td>\n",
       "    </tr>\n",
       "    <tr>\n",
       "      <th>21</th>\n",
       "      <td>5</td>\n",
       "      <td>None</td>\n",
       "      <td>True</td>\n",
       "      <td>2</td>\n",
       "    </tr>\n",
       "  </tbody>\n",
       "</table>\n",
       "</div>"
      ],
      "text/plain": [
       "    Hands Up Lines Count  Exist Closed Shapes  Closed Shapes Count\n",
       "1         92        None                False                    0\n",
       "2        177        None                False                    0\n",
       "3        154        None                False                    0\n",
       "4        280        None                 True                    1\n",
       "5          2        None                False                    0\n",
       "6        802        None                False                    0\n",
       "7          9        None                False                    0\n",
       "8          2        None                False                    0\n",
       "9          5        None                 True                   17\n",
       "10         7        None                False                    0\n",
       "11         5        None                 True                    1\n",
       "12         3        None                 True                    1\n",
       "13         4        None                 True                    2\n",
       "14         7        None                 True                   21\n",
       "15         5        None                 True                    8\n",
       "16         3        None                 True                    5\n",
       "17         1        None                 True                    8\n",
       "18        12        None                 True                   24\n",
       "19         7        None                 True                   17\n",
       "20         3        None                False                    0\n",
       "21         5        None                 True                    2"
      ]
     },
     "execution_count": 21,
     "metadata": {},
     "output_type": "execute_result"
    }
   ],
   "source": [
    "res = test_child(7554)\n",
    "res"
   ]
  },
  {
   "cell_type": "code",
   "execution_count": 42,
   "id": "4c993b7b-bbf3-468f-97a5-041b9b8fc1fe",
   "metadata": {},
   "outputs": [
    {
     "ename": "AttributeError",
     "evalue": "module 'src.a' has no attribute 'sum'",
     "output_type": "error",
     "traceback": [
      "\u001b[1;31m---------------------------------------------------------------------------\u001b[0m",
      "\u001b[1;31mAttributeError\u001b[0m                            Traceback (most recent call last)",
      "Input \u001b[1;32mIn [42]\u001b[0m, in \u001b[0;36m<cell line: 2>\u001b[1;34m()\u001b[0m\n\u001b[0;32m      1\u001b[0m \u001b[38;5;28;01mimport\u001b[39;00m \u001b[38;5;21;01msrc\u001b[39;00m\u001b[38;5;21;01m.\u001b[39;00m\u001b[38;5;21;01ma\u001b[39;00m \u001b[38;5;28;01mas\u001b[39;00m \u001b[38;5;21;01ma\u001b[39;00m\n\u001b[1;32m----> 2\u001b[0m \u001b[43ma\u001b[49m\u001b[38;5;241;43m.\u001b[39;49m\u001b[43msum\u001b[49m\n",
      "\u001b[1;31mAttributeError\u001b[0m: module 'src.a' has no attribute 'sum'"
     ]
    }
   ],
   "source": [
    "import src.a as a\n",
    "a.test"
   ]
  },
  {
   "cell_type": "code",
   "execution_count": null,
   "id": "d6fa13db-d052-4d69-b4bf-8dfd2e431c18",
   "metadata": {},
   "outputs": [],
   "source": []
  }
 ],
 "metadata": {
  "kernelspec": {
   "display_name": "Python 3 (ipykernel)",
   "language": "python",
   "name": "python3"
  },
  "language_info": {
   "codemirror_mode": {
    "name": "ipython",
    "version": 3
   },
   "file_extension": ".py",
   "mimetype": "text/x-python",
   "name": "python",
   "nbconvert_exporter": "python",
   "pygments_lexer": "ipython3",
   "version": "3.9.6"
  }
 },
 "nbformat": 4,
 "nbformat_minor": 5
}
