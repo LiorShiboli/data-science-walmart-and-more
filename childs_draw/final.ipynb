{
 "cells": [
  {
   "cell_type": "code",
   "execution_count": 1,
   "id": "fd6c419e-fc12-4e0d-9b59-110a92312af3",
   "metadata": {},
   "outputs": [],
   "source": [
    "import os\n",
    "import shutil\n",
    "\n",
    "import src.childs_draw as childs_draw"
   ]
  },
  {
   "cell_type": "code",
   "execution_count": 2,
   "id": "71095608-3a5c-4af9-bf6f-73220294afea",
   "metadata": {},
   "outputs": [],
   "source": [
    "if os.path.isdir('./temp'):\n",
    "    shutil.rmtree('./temp')\n",
    "os.mkdir('./temp')\n",
    "\n",
    "childs_draw.set_save_images_folder('./temp')"
   ]
  },
  {
   "cell_type": "code",
   "execution_count": 3,
   "id": "1e7747e5-760c-47df-aff2-30869d5c0e45",
   "metadata": {},
   "outputs": [
    {
     "ename": "NameError",
     "evalue": "name 'open_shapes_count' is not defined",
     "output_type": "error",
     "traceback": [
      "\u001b[1;31m---------------------------------------------------------------------------\u001b[0m",
      "\u001b[1;31mNameError\u001b[0m                                 Traceback (most recent call last)",
      "Input \u001b[1;32mIn [3]\u001b[0m, in \u001b[0;36m<cell line: 1>\u001b[1;34m()\u001b[0m\n\u001b[1;32m----> 1\u001b[0m res \u001b[38;5;241m=\u001b[39m \u001b[43mchilds_draw\u001b[49m\u001b[38;5;241;43m.\u001b[39;49m\u001b[43mchild_draw_describe\u001b[49m\u001b[43m(\u001b[49m\u001b[38;5;241;43m7557\u001b[39;49m\u001b[43m,\u001b[49m\u001b[43m \u001b[49m\u001b[38;5;241;43m12\u001b[39;49m\u001b[43m,\u001b[49m\u001b[43m \u001b[49m\u001b[38;5;28;43;01mTrue\u001b[39;49;00m\u001b[43m)\u001b[49m\n\u001b[0;32m      2\u001b[0m res\n",
      "File \u001b[1;32mD:\\Projects\\Python\\data-science-walmart-and-more\\childs_draw\\src\\childs_draw.py:256\u001b[0m, in \u001b[0;36mchild_draw_describe\u001b[1;34m(folder_id, image_id, save_images_enabled)\u001b[0m\n\u001b[0;32m    253\u001b[0m         trace_img \u001b[38;5;241m=\u001b[39m red_spider(trace_img, points)\n\u001b[0;32m    254\u001b[0m         save_trace_image(trace_img)\n\u001b[1;32m--> 256\u001b[0m     results[\u001b[38;5;124m'\u001b[39m\u001b[38;5;124mClosed Shapes Count\u001b[39m\u001b[38;5;124m'\u001b[39m] \u001b[38;5;241m=\u001b[39m \u001b[43mopen_shapes_count\u001b[49m\n\u001b[0;32m    258\u001b[0m \u001b[38;5;28;01mreturn\u001b[39;00m results\n",
      "\u001b[1;31mNameError\u001b[0m: name 'open_shapes_count' is not defined"
     ]
    }
   ],
   "source": [
    "res = childs_draw.child_draw_describe(7557, 12, True)\n",
    "res"
   ]
  },
  {
   "cell_type": "code",
   "execution_count": null,
   "id": "f8c09efa-f536-4271-9dac-9a066c4779f7",
   "metadata": {},
   "outputs": [],
   "source": [
    "childs_draw.child_draw_describe(7554, 10, True)\n",
    "res"
   ]
  },
  {
   "cell_type": "code",
   "execution_count": null,
   "id": "9ae0e4f2-88a6-4410-b77b-821dddf139c1",
   "metadata": {},
   "outputs": [],
   "source": [
    "res = childs_draw.child_draw_describe(7557, 14, True)\n",
    "res"
   ]
  },
  {
   "cell_type": "code",
   "execution_count": null,
   "id": "b84b80c2-2ab5-4e53-bd3b-e0cf2abb312b",
   "metadata": {},
   "outputs": [],
   "source": [
    "res = childs_draw.child_draw_describe(7554, 14, True)\n",
    "res"
   ]
  },
  {
   "cell_type": "code",
   "execution_count": null,
   "id": "f69b9090-8242-4cb1-b7f3-52354e4015fc",
   "metadata": {},
   "outputs": [],
   "source": []
  }
 ],
 "metadata": {
  "kernelspec": {
   "display_name": "Python 3 (ipykernel)",
   "language": "python",
   "name": "python3"
  },
  "language_info": {
   "codemirror_mode": {
    "name": "ipython",
    "version": 3
   },
   "file_extension": ".py",
   "mimetype": "text/x-python",
   "name": "python",
   "nbconvert_exporter": "python",
   "pygments_lexer": "ipython3",
   "version": "3.9.6"
  }
 },
 "nbformat": 4,
 "nbformat_minor": 5
}
