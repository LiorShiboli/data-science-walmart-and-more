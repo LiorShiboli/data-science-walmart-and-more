{
 "cells": [
  {
   "cell_type": "code",
   "execution_count": 1,
   "id": "fd6c419e-fc12-4e0d-9b59-110a92312af3",
   "metadata": {},
   "outputs": [],
   "source": [
    "import os\n",
    "import shutil\n",
    "\n",
    "import src.childs_draw as childs_draw"
   ]
  },
  {
   "cell_type": "code",
   "execution_count": 2,
   "id": "71095608-3a5c-4af9-bf6f-73220294afea",
   "metadata": {},
   "outputs": [],
   "source": [
    "if os.path.isdir('./temp'):\n",
    "    shutil.rmtree('./temp')\n",
    "os.mkdir('./temp')\n",
    "\n",
    "childs_draw.set_save_images_folder('./temp')"
   ]
  },
  {
   "cell_type": "code",
   "execution_count": 3,
   "id": "1e7747e5-760c-47df-aff2-30869d5c0e45",
   "metadata": {},
   "outputs": [
    {
     "data": {
      "text/plain": [
       "{'Hands Up': 4,\n",
       " 'Lines Count': None,\n",
       " 'Exist Closed Shapes': True,\n",
       " 'Closed Shapes Count': 1}"
      ]
     },
     "execution_count": 3,
     "metadata": {},
     "output_type": "execute_result"
    }
   ],
   "source": [
    "res = childs_draw.child_draw_describe(7557, 12, True)\n",
    "res"
   ]
  },
  {
   "cell_type": "code",
   "execution_count": 4,
   "id": "f8c09efa-f536-4271-9dac-9a066c4779f7",
   "metadata": {},
   "outputs": [
    {
     "data": {
      "text/plain": [
       "{'Hands Up': 4,\n",
       " 'Lines Count': None,\n",
       " 'Exist Closed Shapes': True,\n",
       " 'Closed Shapes Count': 1}"
      ]
     },
     "execution_count": 4,
     "metadata": {},
     "output_type": "execute_result"
    }
   ],
   "source": [
    "childs_draw.child_draw_describe(7554, 10, True)\n",
    "res"
   ]
  },
  {
   "cell_type": "code",
   "execution_count": 5,
   "id": "9ae0e4f2-88a6-4410-b77b-821dddf139c1",
   "metadata": {},
   "outputs": [
    {
     "data": {
      "text/plain": [
       "{'Hands Up': 13,\n",
       " 'Lines Count': None,\n",
       " 'Exist Closed Shapes': False,\n",
       " 'Closed Shapes Count': 0}"
      ]
     },
     "execution_count": 5,
     "metadata": {},
     "output_type": "execute_result"
    }
   ],
   "source": [
    "res = childs_draw.child_draw_describe(7557, 14, True)\n",
    "res"
   ]
  },
  {
   "cell_type": "code",
   "execution_count": 6,
   "id": "b84b80c2-2ab5-4e53-bd3b-e0cf2abb312b",
   "metadata": {},
   "outputs": [
    {
     "data": {
      "text/plain": [
       "{'Hands Up': 7,\n",
       " 'Lines Count': None,\n",
       " 'Exist Closed Shapes': True,\n",
       " 'Closed Shapes Count': 21}"
      ]
     },
     "execution_count": 6,
     "metadata": {},
     "output_type": "execute_result"
    }
   ],
   "source": [
    "res = childs_draw.child_draw_describe(7554, 14, True)\n",
    "res"
   ]
  },
  {
   "cell_type": "code",
   "execution_count": null,
   "id": "f69b9090-8242-4cb1-b7f3-52354e4015fc",
   "metadata": {},
   "outputs": [],
   "source": []
  }
 ],
 "metadata": {
  "kernelspec": {
   "display_name": "Python 3 (ipykernel)",
   "language": "python",
   "name": "python3"
  },
  "language_info": {
   "codemirror_mode": {
    "name": "ipython",
    "version": 3
   },
   "file_extension": ".py",
   "mimetype": "text/x-python",
   "name": "python",
   "nbconvert_exporter": "python",
   "pygments_lexer": "ipython3",
   "version": "3.9.6"
  }
 },
 "nbformat": 4,
 "nbformat_minor": 5
}
