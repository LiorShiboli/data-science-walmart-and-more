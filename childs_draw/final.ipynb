{
 "cells": [
  {
   "cell_type": "code",
   "execution_count": 1,
   "id": "fd6c419e-fc12-4e0d-9b59-110a92312af3",
   "metadata": {},
   "outputs": [],
   "source": [
    "import src.childs_draw as childs_draw"
   ]
  },
  {
   "cell_type": "code",
   "execution_count": 2,
   "id": "1e7747e5-760c-47df-aff2-30869d5c0e45",
   "metadata": {},
   "outputs": [
    {
     "data": {
      "text/plain": [
       "{'Hands Up': None,\n",
       " 'Lines Count': None,\n",
       " 'Exist Open Shapes': True,\n",
       " 'Open Shapes Count': 1}"
      ]
     },
     "execution_count": 2,
     "metadata": {},
     "output_type": "execute_result"
    }
   ],
   "source": [
    "res = childs_draw.child_draw_describe(7557, 12, True)\n",
    "res"
   ]
  }
 ],
 "metadata": {
  "kernelspec": {
   "display_name": "Python 3 (ipykernel)",
   "language": "python",
   "name": "python3"
  },
  "language_info": {
   "codemirror_mode": {
    "name": "ipython",
    "version": 3
   },
   "file_extension": ".py",
   "mimetype": "text/x-python",
   "name": "python",
   "nbconvert_exporter": "python",
   "pygments_lexer": "ipython3",
   "version": "3.9.6"
  }
 },
 "nbformat": 4,
 "nbformat_minor": 5
}
