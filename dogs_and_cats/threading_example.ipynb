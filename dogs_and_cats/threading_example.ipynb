{
 "cells": [
  {
   "cell_type": "code",
   "execution_count": 2,
   "id": "41e78663-46ee-4fdd-b6cf-a3d974a888a6",
   "metadata": {},
   "outputs": [],
   "source": [
    "import threading\n",
    "import time  "
   ]
  },
  {
   "cell_type": "code",
   "execution_count": 9,
   "id": "5fdb5415-f2c9-4116-b80e-8bedc9e81fe1",
   "metadata": {},
   "outputs": [
    {
     "name": "stdout",
     "output_type": "stream",
     "text": [
      "worker1 Starting\n",
      "worker1 loop: 0\n",
      "worker2 Starting\n",
      "worker2 loop: 0\n",
      "worker1 loop: 1\n",
      "worker2 loop: 1\n",
      "worker1 loop: 2\n",
      "worker2 loop: 2\n",
      "worker1 loop: 3\n",
      "worker2 loop: 3\n",
      "worker1 loop: 4\n",
      "worker2 loop: 4\n",
      "worker1 loop: 5\n",
      "worker2 loop: 5\n",
      "worker1 loop: 6\n",
      "worker2 loop: 6\n",
      "worker1 loop: 7\n",
      "worker2 loop: 7\n",
      "worker1 loop: 8\n",
      "worker2 loop: 8\n",
      "worker1 loop: 9\n",
      "worker2 loop: 9\n",
      "worker1 Exiting\n",
      "worker2 Exiting\n"
     ]
    }
   ],
   "source": [
    "import threading\n",
    "import time  \n",
    "\n",
    "def worker1():\n",
    "    print(threading.current_thread().getName(), 'Starting')\n",
    "    for i in range(10):\n",
    "        print(threading.current_thread().getName(), 'loop:', i)\n",
    "        time.sleep(0.5)\n",
    "    print(threading.current_thread().getName(), 'Exiting')\n",
    "\n",
    "\n",
    "def worker2():\n",
    "    print(threading.current_thread().getName(), 'Starting')\n",
    "    time.sleep(0.25)\n",
    "    for i in range(10):\n",
    "        print(threading.current_thread().getName(), 'loop:', i)\n",
    "        time.sleep(0.5)\n",
    "    print(threading.current_thread().getName(), 'Exiting')\n",
    "    \n",
    "w1 = threading.Thread(name='worker1', target=worker1)\n",
    "w2 = threading.Thread(name='worker2', target=worker2)\n",
    "\n",
    "w1.start()\n",
    "w2.start()\n",
    "\n",
    "w1.join()\n",
    "w2.join()"
   ]
  }
 ],
 "metadata": {
  "kernelspec": {
   "display_name": "Python 3 (ipykernel)",
   "language": "python",
   "name": "python3"
  },
  "language_info": {
   "codemirror_mode": {
    "name": "ipython",
    "version": 3
   },
   "file_extension": ".py",
   "mimetype": "text/x-python",
   "name": "python",
   "nbconvert_exporter": "python",
   "pygments_lexer": "ipython3",
   "version": "3.9.6"
  }
 },
 "nbformat": 4,
 "nbformat_minor": 5
}
