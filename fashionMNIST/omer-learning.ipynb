{
 "cells": [
  {
   "cell_type": "code",
   "execution_count": 1,
   "id": "4ef7a869-69e6-4a36-beb2-6de07d53124d",
   "metadata": {},
   "outputs": [],
   "source": [
    "import os\n",
    "import sys\n",
    "import time\n",
    "\n",
    "import numpy as np\n",
    "import pandas as pd\n",
    "\n",
    "import matplotlib.pyplot as plt\n",
    "\n",
    "import tensorflow as tf\n",
    "import tensorflow.keras.datasets\n",
    "\n",
    "import sklearn"
   ]
  },
  {
   "cell_type": "code",
   "execution_count": 2,
   "id": "704441c1-63fe-4cfd-b164-fcd1f6e5d6ad",
   "metadata": {},
   "outputs": [],
   "source": [
    "# Functions\n",
    "from sklearn.model_selection import train_test_split\n",
    "from sklearn.experimental import enable_halving_search_cv\n",
    "\n",
    "# Tools\n",
    "from sklearn.model_selection import HalvingRandomSearchCV\n",
    "from sklearn.model_selection import RandomizedSearchCV, GridSearchCV\n",
    "\n",
    "# ML Models\n",
    "from sklearn.linear_model import LogisticRegression\n",
    "from sklearn.ensemble import RandomForestClassifier"
   ]
  },
  {
   "cell_type": "code",
   "execution_count": 3,
   "id": "32f211e9-cce8-4016-8d9c-285f3a6ebc6d",
   "metadata": {},
   "outputs": [],
   "source": [
    "fashion_mnist = tf.keras.datasets.fashion_mnist\n",
    "(train_images, train_labels), (test_images, test_labels) = fashion_mnist.load_data()"
   ]
  },
  {
   "cell_type": "code",
   "execution_count": 4,
   "id": "5b0242c6-e52e-414f-b75d-3171885465ee",
   "metadata": {},
   "outputs": [],
   "source": [
    "X_final_train_images, X_final_test_images, y_final_train, y_final_test = train_test_split(train_images, train_labels, test_size=0.3, random_state=42)"
   ]
  },
  {
   "cell_type": "code",
   "execution_count": 5,
   "id": "f09246bb-9fd2-48de-9658-3e732ee33670",
   "metadata": {},
   "outputs": [
    {
     "data": {
      "image/png": "[encoded data removed]",
      "text/plain": [
       "<Figure size 432x288 with 1 Axes>"
      ]
     },
     "metadata": {
      "needs_background": "light"
     },
     "output_type": "display_data"
    },
    {
     "data": {
      "image/png": "[encoded data removed]",
      "text/plain": [
       "<Figure size 432x288 with 1 Axes>"
      ]
     },
     "metadata": {
      "needs_background": "light"
     },
     "output_type": "display_data"
    },
    {
     "name": "stdout",
     "output_type": "stream",
     "text": [
      "1\n"
     ]
    }
   ],
   "source": [
    "# origin\n",
    "plt.imshow(X_final_train_images[0])\n",
    "plt.show()\n",
    "\n",
    "# grayscale \n",
    "plt.imshow(X_final_train_images[0], cmap='gray')\n",
    "plt.show()\n",
    "\n",
    "print(y_final_train[0])\n",
    "\n",
    "def print_sample(img):\n",
    "    plt.imshow(img, cmap='gray')\n",
    "    plt.show()"
   ]
  },
  {
   "cell_type": "code",
   "execution_count": 6,
   "id": "69e2cd8e-0978-429c-99ad-759f4b4a1fe1",
   "metadata": {},
   "outputs": [],
   "source": [
    "X_train_images, X_test_images, y_train, y_test = train_test_split(X_final_train_images, y_final_train, test_size=0.3, random_state=11)"
   ]
  },
  {
   "cell_type": "code",
   "execution_count": 7,
   "id": "5b272b2d-063b-469a-bd3b-e964642968b8",
   "metadata": {},
   "outputs": [],
   "source": [
    "X_train = X_train_images.reshape(X_train_images.shape[0], 784)\n",
    "X_test = X_test_images.reshape(X_test_images.shape[0], 784)"
   ]
  },
  {
   "cell_type": "code",
   "execution_count": 8,
   "id": "167272e3-88a4-4562-99bf-eefaf69917ee",
   "metadata": {},
   "outputs": [
    {
     "data": {
      "text/plain": [
       "0.8743650793650793"
      ]
     },
     "execution_count": 8,
     "metadata": {},
     "output_type": "execute_result"
    }
   ],
   "source": [
    "# Try first random forast\n",
    "rfc = RandomForestClassifier(random_state=11)\n",
    "\n",
    "rfc.fit(X_train, y_train)\n",
    "\n",
    "rfc.score(X_test, y_test)\n",
    "# 87.43%"
   ]
  },
  {
   "cell_type": "code",
   "execution_count": 10,
   "id": "225bb9e9-46e3-4390-8b4f-b57f0b3e5653",
   "metadata": {},
   "outputs": [
    {
     "name": "stdout",
     "output_type": "stream",
     "text": [
      "40740 : 1260\n"
     ]
    }
   ],
   "source": [
    "#X_train_images, X_test_images, y_train, y_test = train_test_split(X_final_train_images, y_final_train, test_size=0.95, random_state=11)\n",
    "#X_train_images, X_test_images, y_train, y_test = train_test_split(X_train_images, y_train, test_size=0.3, random_state=11)\n",
    "X_train_images, X_test_images, y_train, y_test = train_test_split(X_final_train_images, y_final_train, test_size=0.03, random_state=11)\n",
    "\n",
    "print(len(X_train_images), \":\", len(X_test_images))"
   ]
  },
  {
   "cell_type": "code",
   "execution_count": 11,
   "id": "de2c48d3-44ed-4113-91ca-e74e16c79885",
   "metadata": {},
   "outputs": [],
   "source": [
    "X_train = X_train_images.reshape(X_train_images.shape[0], 784)\n",
    "X_test = X_test_images.reshape(X_test_images.shape[0], 784)"
   ]
  },
  {
   "cell_type": "code",
   "execution_count": 30,
   "id": "a7935d6a-1bfa-4ade-9a19-8f7ed967b7da",
   "metadata": {},
   "outputs": [
    {
     "data": {
      "text/plain": [
       "0.8510582010582011"
      ]
     },
     "execution_count": 30,
     "metadata": {},
     "output_type": "execute_result"
    }
   ],
   "source": [
    "# Try first random forast\n",
    "rfc = RandomForestClassifier(random_state=11)\n",
    "\n",
    "rfc.fit(X_train, y_train)\n",
    "\n",
    "rfc.score(X_test, y_test)\n",
    "# 85.10% in 10 sec"
   ]
  },
  {
   "cell_type": "code",
   "execution_count": 77,
   "id": "3ddeb712-6081-4ae3-8e6d-be14d121da57",
   "metadata": {},
   "outputs": [],
   "source": [
    "SEPERATES_COUNT = 5\n",
    "\n",
    "seperates = np.linspace(0, 255, SEPERATES_COUNT).tolist()\n",
    "\n",
    "X_train_df = pd.DataFrame(X_train)\n",
    "X_test_df = pd.DataFrame(X_test)\n",
    "\n",
    "def add_seperates_sum(arr: np.array):\n",
    "    for i in range(1, SEPERATES_COUNT):\n",
    "        arr['sep_' + str(i)] = ((seperates[i-1] <= arr) & (arr <= seperates[i])).sum()\n",
    "    \n",
    "    return arr\n",
    "\n",
    "X_train_df = X_train_df.apply(add_seperates_sum, axis=1)\n",
    "X_test_df = X_test_df.apply(add_seperates_sum, axis=1)"
   ]
  },
  {
   "cell_type": "code",
   "execution_count": 78,
   "id": "2c7351de-f8ae-4141-8307-13091984dbc3",
   "metadata": {},
   "outputs": [
    {
     "name": "stderr",
     "output_type": "stream",
     "text": [
      "c:\\users\\omer2\\appdata\\local\\programs\\python\\python39\\lib\\site-packages\\sklearn\\utils\\validation.py:1675: FutureWarning: Feature names only support names that are all strings. Got feature names with dtypes: ['int', 'str']. An error will be raised in 1.2.\n",
      "  warnings.warn(\n",
      "c:\\users\\omer2\\appdata\\local\\programs\\python\\python39\\lib\\site-packages\\sklearn\\utils\\validation.py:1675: FutureWarning: Feature names only support names that are all strings. Got feature names with dtypes: ['int', 'str']. An error will be raised in 1.2.\n",
      "  warnings.warn(\n"
     ]
    },
    {
     "data": {
      "text/plain": [
       "0.8507936507936508"
      ]
     },
     "execution_count": 78,
     "metadata": {},
     "output_type": "execute_result"
    }
   ],
   "source": [
    "rfc = RandomForestClassifier(random_state=11)\n",
    "\n",
    "rfc.fit(X_train_df, y_train)\n",
    "\n",
    "rfc.score(X_test_df, y_test)\n",
    "# Not work"
   ]
  },
  {
   "cell_type": "code",
   "execution_count": 97,
   "id": "8a6e4916-889d-415c-ad85-9f8273c9b0a5",
   "metadata": {},
   "outputs": [],
   "source": [
    "X_train_df = pd.DataFrame(X_train)\n",
    "X_test_df = pd.DataFrame(X_test)\n",
    "\n",
    "def add_seperates_sum(arr: np.array):\n",
    "    arr['zero'] = (arr == 0).sum()\n",
    "\n",
    "    return arr\n",
    "\n",
    "X_train_df = X_train_df.apply(add_seperates_sum, axis=1)\n",
    "X_test_df = X_test_df.apply(add_seperates_sum, axis=1)"
   ]
  },
  {
   "cell_type": "code",
   "execution_count": 96,
   "id": "ace0acdc-de82-484c-a767-d1e0b98f0937",
   "metadata": {},
   "outputs": [
    {
     "name": "stderr",
     "output_type": "stream",
     "text": [
      "c:\\users\\omer2\\appdata\\local\\programs\\python\\python39\\lib\\site-packages\\sklearn\\utils\\validation.py:1675: FutureWarning: Feature names only support names that are all strings. Got feature names with dtypes: ['int', 'str']. An error will be raised in 1.2.\n",
      "  warnings.warn(\n",
      "c:\\users\\omer2\\appdata\\local\\programs\\python\\python39\\lib\\site-packages\\sklearn\\utils\\validation.py:1675: FutureWarning: Feature names only support names that are all strings. Got feature names with dtypes: ['int', 'str']. An error will be raised in 1.2.\n",
      "  warnings.warn(\n"
     ]
    },
    {
     "data": {
      "text/plain": [
       "0.8547619047619047"
      ]
     },
     "execution_count": 96,
     "metadata": {},
     "output_type": "execute_result"
    }
   ],
   "source": [
    "rfc = RandomForestClassifier(random_state=11)\n",
    "\n",
    "rfc.fit(X_train_df, y_train)\n",
    "\n",
    "rfc.score(X_test_df, y_test)\n",
    "# 85.47%"
   ]
  },
  {
   "cell_type": "code",
   "execution_count": 12,
   "id": "abe2e072-eeb1-4cb3-8dae-5f0bbcf8e55a",
   "metadata": {},
   "outputs": [
    {
     "data": {
      "image/png": "[encoded data removed]",
      "text/plain": [
       "<Figure size 432x288 with 1 Axes>"
      ]
     },
     "metadata": {
      "needs_background": "light"
     },
     "output_type": "display_data"
    },
    {
     "name": "stdout",
     "output_type": "stream",
     "text": [
      "316\n",
      "468\n"
     ]
    },
    {
     "data": {
      "image/png": "[encoded data removed]",
      "text/plain": [
       "<Figure size 432x288 with 1 Axes>"
      ]
     },
     "metadata": {
      "needs_background": "light"
     },
     "output_type": "display_data"
    }
   ],
   "source": [
    "img = X_train_images[0]\n",
    "\n",
    "print_sample(img)\n",
    "\n",
    "print((img == 0).sum())\n",
    "print((img != 0).sum())\n",
    "\n",
    "img = ((img == 0) == False)\n",
    "print_sample(img)\n",
    "\n",
    "# 0   - is Black, background\n",
    "# 255 - is White"
   ]
  },
  {
   "cell_type": "code",
   "execution_count": 22,
   "id": "f9b2c458-ddd9-4601-a484-5a52c8ad8faa",
   "metadata": {},
   "outputs": [
    {
     "data": {
      "text/plain": [
       "0.8301587301587302"
      ]
     },
     "execution_count": 22,
     "metadata": {},
     "output_type": "execute_result"
    }
   ],
   "source": [
    "# make it background and exists\n",
    "# background - 0\n",
    "# exists - 1\n",
    "\n",
    "X_train_df = pd.DataFrame(X_train)\n",
    "X_test_df = pd.DataFrame(X_test)\n",
    "\n",
    "def add_seperates_sum(arr: np.array):    \n",
    "    arr = (arr != 0)\n",
    "    return arr\n",
    "\n",
    "X_train_df = X_train_df.apply(add_seperates_sum, axis=1)\n",
    "X_test_df = X_test_df.apply(add_seperates_sum, axis=1)\n",
    "\n",
    "rfc = RandomForestClassifier(random_state=11)\n",
    "\n",
    "rfc.fit(X_train_df, y_train)\n",
    "\n",
    "rfc.score(X_test_df, y_test)\n",
    "# 85.87%"
   ]
  },
  {
   "cell_type": "code",
   "execution_count": 201,
   "id": "7a0d743f-a956-4ade-9db8-bb952b4b0408",
   "metadata": {},
   "outputs": [
    {
     "data": {
      "text/plain": [
       "0.8097883597883598"
      ]
     },
     "execution_count": 201,
     "metadata": {},
     "output_type": "execute_result"
    }
   ],
   "source": [
    "# Try to remove the edges\n",
    "def images_to_vectors(images):\n",
    "    return images.reshape(images.shape[0], images.shape[1] * images.shape[2])\n",
    "\n",
    "X_train_images2 = X_train_images.copy()\n",
    "X_test_images2 = X_test_images.copy()\n",
    "\n",
    "X_train_images2 = X_train_images2 != 0\n",
    "X_test_images2 = X_test_images2 != 0\n",
    "\n",
    "PANDING = 4\n",
    "\n",
    "new_arr = list()\n",
    "i = 0\n",
    "for img in X_train_images2:\n",
    "    img = img[PANDING:29-PANDING, PANDING:29-PANDING]\n",
    "    new_arr.append(img.tolist())\n",
    "    i += 1\n",
    "    \n",
    "X_train_images2 = np.array(new_arr)\n",
    "\n",
    "new_arr = list()\n",
    "i = 0\n",
    "for img in X_test_images2:\n",
    "    img = img[PANDING:29-PANDING, PANDING:29-PANDING]\n",
    "    new_arr.append(img.tolist())\n",
    "    i += 1\n",
    "\n",
    "X_test_images2 = np.array(new_arr)\n",
    "        \n",
    "X_train_df = pd.DataFrame(images_to_vectors(X_train_images2))\n",
    "X_test_df = pd.DataFrame(images_to_vectors(X_test_images2))\n",
    "\n",
    "rfc = RandomForestClassifier(random_state=11)\n",
    "\n",
    "rfc.fit(X_train_df, y_train)\n",
    "\n",
    "rfc.score(X_test_df, y_test)\n",
    "# 80.97%\n",
    "# But is not good!"
   ]
  },
  {
   "cell_type": "code",
   "execution_count": 13,
   "id": "36b57cb2-43f3-4c9d-bc9f-a95ad91691a3",
   "metadata": {},
   "outputs": [],
   "source": [
    "# Useing pipelines\n",
    "from sklearn.pipeline import Pipeline\n",
    "from sklearn.base import BaseEstimator, TransformerMixin"
   ]
  },
  {
   "cell_type": "code",
   "execution_count": 25,
   "id": "cd123f57-9580-4710-95c4-751bd37f2921",
   "metadata": {},
   "outputs": [
    {
     "data": {
      "text/plain": [
       "0.8301587301587302"
      ]
     },
     "execution_count": 25,
     "metadata": {},
     "output_type": "execute_result"
    }
   ],
   "source": [
    "steps = [\n",
    "    ('rcf', RandomForestClassifier(random_state=11))\n",
    "]\n",
    "\n",
    "model = Pipeline(steps)\n",
    "\n",
    "#model.fit(X_train_images, y_train)\n",
    "\n",
    "#model.sorce(X_test_images, y_test)\n",
    "\n",
    "model.fit(X_train_df, y_train)\n",
    "\n",
    "model.score(X_test_df, y_test)"
   ]
  },
  {
   "cell_type": "code",
   "execution_count": 27,
   "id": "f5076b7f-40b2-4c96-b248-f406181f4461",
   "metadata": {},
   "outputs": [
    {
     "data": {
      "text/plain": [
       "0.8301587301587302"
      ]
     },
     "execution_count": 27,
     "metadata": {},
     "output_type": "execute_result"
    }
   ],
   "source": [
    "class PreProcessingTranformer(BaseEstimator, TransformerMixin):\n",
    "    def __init__(self):\n",
    "        pass\n",
    "    \n",
    "    def fit(self, x, y = None):\n",
    "        return self\n",
    "    \n",
    "    def transform(self, x, y = None):\n",
    "        return x\n",
    "\n",
    "steps = [\n",
    "    ('PreProcessing', PreProcessingTranformer()),\n",
    "    ('rcf', RandomForestClassifier(random_state=11))\n",
    "]\n",
    "\n",
    "model = Pipeline(steps)\n",
    "\n",
    "#model.fit(X_train_images, y_train)\n",
    "\n",
    "#model.sorce(X_test_images, y_test)\n",
    "\n",
    "model.fit(X_train_df, y_train)\n",
    "\n",
    "model.score(X_test_df, y_test)"
   ]
  },
  {
   "cell_type": "code",
   "execution_count": 29,
   "id": "5539d506-4eb5-4d52-8305-bc04e8ad5d2d",
   "metadata": {},
   "outputs": [
    {
     "data": {
      "text/plain": [
       "0.8174603174603174"
      ]
     },
     "execution_count": 29,
     "metadata": {},
     "output_type": "execute_result"
    }
   ],
   "source": [
    "class PreProcessingTranformer(BaseEstimator, TransformerMixin):\n",
    "    def __init__(self):\n",
    "        pass\n",
    "    \n",
    "    def fit(self, x, y = None):\n",
    "        return self\n",
    "    \n",
    "    def transform(self, X_images, y = None):\n",
    "        \n",
    "        X_vector = X_images.reshape(X_images.shape[0], X_images.shape[1] * X_images.shape[2])\n",
    "        \n",
    "        X_df = pd.DataFrame(X_vector)\n",
    "        \n",
    "        return X_df\n",
    "\n",
    "steps = [\n",
    "    ('PreProcessing', PreProcessingTranformer()),\n",
    "    ('rcf', RandomForestClassifier(random_state=11))\n",
    "]\n",
    "\n",
    "model = Pipeline(steps)\n",
    "\n",
    "model.fit(X_train_images, y_train)\n",
    "\n",
    "model.score(X_test_images, y_test)"
   ]
  },
  {
   "cell_type": "code",
   "execution_count": 31,
   "id": "bc3a15e3-6481-4814-8d04-4bca3ad3168c",
   "metadata": {},
   "outputs": [
    {
     "data": {
      "text/plain": [
       "0.8301587301587302"
      ]
     },
     "execution_count": 31,
     "metadata": {},
     "output_type": "execute_result"
    }
   ],
   "source": [
    "# Make it boolean of it background or it not\n",
    "# 0 - it background\n",
    "# 1 - it exists (it background)\n",
    "\n",
    "class PreProcessingTranformer(BaseEstimator, TransformerMixin):\n",
    "    def __init__(self):\n",
    "        pass\n",
    "    \n",
    "    def fit(self, x, y = None):\n",
    "        return self\n",
    "    \n",
    "    def transform(self, X_images, y = None):\n",
    "        \n",
    "        X_images = X_images != 0\n",
    "        \n",
    "        X_vectors = X_images.reshape(X_images.shape[0], X_images.shape[1] * X_images.shape[2])\n",
    "                \n",
    "        X_df = pd.DataFrame(X_vectors)\n",
    "        \n",
    "        return X_df\n",
    "\n",
    "steps = [\n",
    "    ('PreProcessing', PreProcessingTranformer()),\n",
    "    ('rcf', RandomForestClassifier(random_state=11))\n",
    "]\n",
    "\n",
    "model = Pipeline(steps)\n",
    "\n",
    "model.fit(X_train_images, y_train)\n",
    "\n",
    "model.score(X_test_images, y_test)"
   ]
  },
  {
   "cell_type": "code",
   "execution_count": 36,
   "id": "97531fa4-fe16-4cec-81fc-7cc878acf278",
   "metadata": {},
   "outputs": [
    {
     "data": {
      "text/plain": [
       "0.834920634920635"
      ]
     },
     "execution_count": 36,
     "metadata": {},
     "output_type": "execute_result"
    }
   ],
   "source": [
    "# Add sum of\n",
    "\n",
    "class PreProcessingTranformer(BaseEstimator, TransformerMixin):\n",
    "    def __init__(self):\n",
    "        pass\n",
    "    \n",
    "    def fit(self, x, y = None):\n",
    "        return self\n",
    "    \n",
    "    def transform(self, X_images, y = None):\n",
    "        \n",
    "        X_images = X_images != 0\n",
    "        \n",
    "        X_vectors = X_images.reshape(X_images.shape[0], X_images.shape[1] * X_images.shape[2])\n",
    "        \n",
    "        X_vectors = X_vectors.tolist()\n",
    "        i = 0\n",
    "        for x_vector in X_vectors:\n",
    "            x_vector = np.array(x_vector)\n",
    "            X_vectors[i] = np.append(x_vector, [x_vector.sum()])\n",
    "            i += 1\n",
    "                    \n",
    "        X_df = pd.DataFrame(X_vectors)\n",
    "        \n",
    "        return X_df\n",
    "\n",
    "steps = [\n",
    "    ('PreProcessing', PreProcessingTranformer()),\n",
    "    ('rcf', RandomForestClassifier(random_state=11))\n",
    "]\n",
    "\n",
    "model = Pipeline(steps)\n",
    "\n",
    "model.fit(X_train_images, y_train)\n",
    "\n",
    "model.score(X_test_images, y_test)"
   ]
  },
  {
   "cell_type": "code",
   "execution_count": 39,
   "id": "55a6b4e1-2787-4e1f-832b-dfd679d5e10d",
   "metadata": {},
   "outputs": [
    {
     "name": "stderr",
     "output_type": "stream",
     "text": [
      "D:\\Projects\\Python\\data-science-walmart-and-more\\venv\\lib\\site-packages\\sklearn\\model_selection\\_search.py:306: UserWarning: The total space of parameters 1 is smaller than n_iter=10. Running 1 iterations. For exhaustive searches, use GridSearchCV.\n",
      "  warnings.warn(\n"
     ]
    },
    {
     "data": {
      "text/plain": [
       "0.8301587301587302"
      ]
     },
     "execution_count": 39,
     "metadata": {},
     "output_type": "execute_result"
    }
   ],
   "source": [
    "# Make the model stable\n",
    "\n",
    "from sklearn.model_selection import RandomizedSearchCV\n",
    "\n",
    "class PreProcessingTranformer(BaseEstimator, TransformerMixin):\n",
    "    def __init__(self):\n",
    "        pass\n",
    "    \n",
    "    def fit(self, x, y = None):\n",
    "        return self\n",
    "    \n",
    "    def transform(self, X_images, y = None):\n",
    "        \n",
    "        X_images = X_images != 0\n",
    "        \n",
    "        X_vectors = X_images.reshape(X_images.shape[0], X_images.shape[1] * X_images.shape[2])\n",
    "                    \n",
    "        X_df = pd.DataFrame(X_vectors)\n",
    "        \n",
    "        return X_df\n",
    "\n",
    "steps = [\n",
    "    ('PreProcessing', PreProcessingTranformer()),\n",
    "    ('rcf', RandomForestClassifier(random_state=11))\n",
    "]\n",
    "\n",
    "model = Pipeline(steps)\n",
    "\n",
    "param_grid = {\n",
    "}\n",
    "\n",
    "model = RandomizedSearchCV(\n",
    "    model, param_grid, \n",
    "    n_iter = 10,\n",
    "    cv = 3\n",
    ")\n",
    "\n",
    "model.fit(X_train_images, y_train)\n",
    "\n",
    "model.score(X_test_images, y_test)"
   ]
  },
  {
   "cell_type": "code",
   "execution_count": 42,
   "id": "110faefe-cbc6-488b-bae9-0ecc470529c0",
   "metadata": {},
   "outputs": [
    {
     "name": "stderr",
     "output_type": "stream",
     "text": [
      "D:\\Projects\\Python\\data-science-walmart-and-more\\venv\\lib\\site-packages\\sklearn\\model_selection\\_search.py:306: UserWarning: The total space of parameters 1 is smaller than n_iter=10. Running 1 iterations. For exhaustive searches, use GridSearchCV.\n",
      "  warnings.warn(\n"
     ]
    },
    {
     "data": {
      "text/plain": [
       "0.834920634920635"
      ]
     },
     "execution_count": 42,
     "metadata": {},
     "output_type": "execute_result"
    }
   ],
   "source": [
    "# Make the model stable\n",
    "\n",
    "from sklearn.model_selection import RandomizedSearchCV\n",
    "\n",
    "class PreProcessingTranformer(BaseEstimator, TransformerMixin):\n",
    "    def __init__(self):\n",
    "        pass\n",
    "    \n",
    "    def fit(self, x, y = None):\n",
    "        return self\n",
    "    \n",
    "    def transform(self, X_images, y = None):\n",
    "        \n",
    "        X_images = X_images != 0\n",
    "        \n",
    "        X_vectors = X_images.reshape(X_images.shape[0], X_images.shape[1] * X_images.shape[2])\n",
    "                  \n",
    "        X_vectors = X_vectors.tolist()\n",
    "        i = 0\n",
    "        for x_vector in X_vectors:\n",
    "            x_vector = np.array(x_vector)\n",
    "            X_vectors[i] = np.append(x_vector, [x_vector.sum()])\n",
    "            i += 1\n",
    "            \n",
    "        X_df = pd.DataFrame(X_vectors)\n",
    "        \n",
    "        return X_df\n",
    "\n",
    "steps = [\n",
    "    ('PreProcessing', PreProcessingTranformer()),\n",
    "    ('rcf', RandomForestClassifier(random_state=11))\n",
    "]\n",
    "\n",
    "model = Pipeline(steps)\n",
    "\n",
    "param_grid = {\n",
    "}\n",
    "\n",
    "model = RandomizedSearchCV(\n",
    "    model, param_grid, \n",
    "    n_iter = 10,\n",
    "    cv = 3\n",
    ")\n",
    "\n",
    "model.fit(X_train_images, y_train)\n",
    "\n",
    "model.score(X_test_images, y_test)"
   ]
  },
  {
   "cell_type": "code",
   "execution_count": 43,
   "id": "4c54d9ed-4595-444c-ac2c-eddc04d2a6ad",
   "metadata": {},
   "outputs": [
    {
     "name": "stderr",
     "output_type": "stream",
     "text": [
      "D:\\Projects\\Python\\data-science-walmart-and-more\\venv\\lib\\site-packages\\sklearn\\model_selection\\_search.py:306: UserWarning: The total space of parameters 1 is smaller than n_iter=10. Running 1 iterations. For exhaustive searches, use GridSearchCV.\n",
      "  warnings.warn(\n"
     ]
    },
    {
     "data": {
      "text/plain": [
       "0.8444444444444444"
      ]
     },
     "execution_count": 43,
     "metadata": {},
     "output_type": "execute_result"
    }
   ],
   "source": [
    "# Add flag of when it background\n",
    "BACKGROUND_LIMT = 3\n",
    "\n",
    "from sklearn.model_selection import RandomizedSearchCV\n",
    "\n",
    "class PreProcessingTranformer(BaseEstimator, TransformerMixin):\n",
    "    def __init__(self):\n",
    "        pass\n",
    "    \n",
    "    def fit(self, x, y = None):\n",
    "        return self\n",
    "    \n",
    "    def transform(self, X_images, y = None):\n",
    "        \n",
    "        X_images = X_images > BACKGROUND_LIMT\n",
    "        \n",
    "        X_vectors = X_images.reshape(X_images.shape[0], X_images.shape[1] * X_images.shape[2])\n",
    "                  \n",
    "        X_vectors = X_vectors.tolist()\n",
    "        i = 0\n",
    "        for x_vector in X_vectors:\n",
    "            x_vector = np.array(x_vector)\n",
    "            X_vectors[i] = np.append(x_vector, [x_vector.sum()])\n",
    "            i += 1\n",
    "            \n",
    "        X_df = pd.DataFrame(X_vectors)\n",
    "        \n",
    "        return X_df\n",
    "\n",
    "steps = [\n",
    "    ('PreProcessing', PreProcessingTranformer()),\n",
    "    ('rcf', RandomForestClassifier(random_state=11))\n",
    "]\n",
    "\n",
    "model = Pipeline(steps)\n",
    "\n",
    "param_grid = {\n",
    "}\n",
    "\n",
    "model = RandomizedSearchCV(\n",
    "    model, param_grid, \n",
    "    n_iter = 10,\n",
    "    cv = 3\n",
    ")\n",
    "\n",
    "model.fit(X_train_images, y_train)\n",
    "\n",
    "model.score(X_test_images, y_test)"
   ]
  },
  {
   "cell_type": "code",
   "execution_count": 68,
   "id": "88338183-9984-4cfc-9628-bae89cfc5a98",
   "metadata": {},
   "outputs": [
    {
     "data": {
      "text/plain": [
       "0.8333333333333334"
      ]
     },
     "execution_count": 68,
     "metadata": {},
     "output_type": "execute_result"
    }
   ],
   "source": [
    "# upgrade background_limit to param\n",
    "from sklearn.model_selection import RandomizedSearchCV, GridSearchCV\n",
    "\n",
    "class PreProcessingTranformer(BaseEstimator, TransformerMixin):\n",
    "    def __init__(self, background_limit=0, **kwargs):\n",
    "        self.background_limit = background_limit\n",
    "        \n",
    "        self._param_names = ['background_limit'] + list(kwargs.keys())\n",
    "        for key, value in kwargs.items():\n",
    "            setattr(self, key, value)\n",
    "        \n",
    "    def get_params(self, deep=True):\n",
    "        return { param: getattr(self, param) for param in self._param_names}\n",
    "        \n",
    "    def set_params(self, **parameters):\n",
    "        for parameter, value in parameters.items():\n",
    "            setattr(self, parameter, value)\n",
    "                \n",
    "    def fit(self, x, y = None):\n",
    "        return self\n",
    "    \n",
    "    def transform(self, X_images, y = None):\n",
    "                \n",
    "        X_images = X_images > self.background_limit\n",
    "        \n",
    "        X_vectors = X_images.reshape(X_images.shape[0], X_images.shape[1] * X_images.shape[2])\n",
    "                  \n",
    "        X_vectors = X_vectors.tolist()\n",
    "        i = 0\n",
    "        for x_vector in X_vectors:\n",
    "            x_vector = np.array(x_vector)\n",
    "            X_vectors[i] = np.append(x_vector, [x_vector.sum()])\n",
    "            i += 1\n",
    "            \n",
    "        X_df = pd.DataFrame(X_vectors)\n",
    "        \n",
    "        return X_df\n",
    "\n",
    "steps = [\n",
    "    ('pre_processing', PreProcessingTranformer()),\n",
    "    ('rcf', RandomForestClassifier(random_state=11))\n",
    "]\n",
    "\n",
    "model = Pipeline(steps)\n",
    "\n",
    "param_grid = {\n",
    "    'pre_processing__background_limit': [0,1,2,3,4,5,6,7,9,10]\n",
    "}\n",
    "\n",
    "model = GridSearchCV(\n",
    "    model, param_grid,\n",
    "    cv = 3\n",
    ")\n",
    "\n",
    "model.fit(X_train_images, y_train)\n",
    "\n",
    "model.score(X_test_images, y_test)"
   ]
  },
  {
   "cell_type": "code",
   "execution_count": 69,
   "id": "a75b5661-4642-4aa9-86e2-4cb89380bfdf",
   "metadata": {},
   "outputs": [
    {
     "data": {
      "text/plain": [
       "{'pre_processing__background_limit': 9}"
      ]
     },
     "execution_count": 69,
     "metadata": {},
     "output_type": "execute_result"
    }
   ],
   "source": [
    "model.best_params_"
   ]
  },
  {
   "cell_type": "code",
   "execution_count": 19,
   "id": "daff9777-f717-4bb7-abee-fdc98d347b40",
   "metadata": {},
   "outputs": [],
   "source": [
    "from sklearn.model_selection import RandomizedSearchCV, GridSearchCV"
   ]
  },
  {
   "cell_type": "code",
   "execution_count": 9,
   "id": "960f8bc8-00bb-49f4-a38d-26bf169210bd",
   "metadata": {},
   "outputs": [
    {
     "ename": "KeyboardInterrupt",
     "evalue": "",
     "output_type": "error",
     "traceback": [
      "\u001b[1;31m---------------------------------------------------------------------------\u001b[0m",
      "\u001b[1;31mKeyboardInterrupt\u001b[0m                         Traceback (most recent call last)",
      "Input \u001b[1;32mIn [9]\u001b[0m, in \u001b[0;36m<cell line: 54>\u001b[1;34m()\u001b[0m\n\u001b[0;32m     45\u001b[0m param_grid \u001b[38;5;241m=\u001b[39m {\n\u001b[0;32m     46\u001b[0m     \u001b[38;5;124m'\u001b[39m\u001b[38;5;124mpre_processing__background_limit\u001b[39m\u001b[38;5;124m'\u001b[39m: [\u001b[38;5;241m0\u001b[39m, \u001b[38;5;241m3\u001b[39m, \u001b[38;5;241m9\u001b[39m]\n\u001b[0;32m     47\u001b[0m }\n\u001b[0;32m     49\u001b[0m model \u001b[38;5;241m=\u001b[39m GridSearchCV(\n\u001b[0;32m     50\u001b[0m     model, param_grid,\n\u001b[0;32m     51\u001b[0m     cv \u001b[38;5;241m=\u001b[39m \u001b[38;5;241m5\u001b[39m\n\u001b[0;32m     52\u001b[0m )\n\u001b[1;32m---> 54\u001b[0m \u001b[43mmodel\u001b[49m\u001b[38;5;241;43m.\u001b[39;49m\u001b[43mfit\u001b[49m\u001b[43m(\u001b[49m\u001b[43mX_train_images\u001b[49m\u001b[43m,\u001b[49m\u001b[43m \u001b[49m\u001b[43my_train\u001b[49m\u001b[43m)\u001b[49m\n\u001b[0;32m     56\u001b[0m model\u001b[38;5;241m.\u001b[39mscore(X_test_images, y_test)\n",
      "File \u001b[1;32mD:\\Projects\\Python\\data-science-walmart-and-more\\venv\\lib\\site-packages\\sklearn\\model_selection\\_search.py:875\u001b[0m, in \u001b[0;36mBaseSearchCV.fit\u001b[1;34m(self, X, y, groups, **fit_params)\u001b[0m\n\u001b[0;32m    869\u001b[0m     results \u001b[38;5;241m=\u001b[39m \u001b[38;5;28mself\u001b[39m\u001b[38;5;241m.\u001b[39m_format_results(\n\u001b[0;32m    870\u001b[0m         all_candidate_params, n_splits, all_out, all_more_results\n\u001b[0;32m    871\u001b[0m     )\n\u001b[0;32m    873\u001b[0m     \u001b[38;5;28;01mreturn\u001b[39;00m results\n\u001b[1;32m--> 875\u001b[0m \u001b[38;5;28;43mself\u001b[39;49m\u001b[38;5;241;43m.\u001b[39;49m\u001b[43m_run_search\u001b[49m\u001b[43m(\u001b[49m\u001b[43mevaluate_candidates\u001b[49m\u001b[43m)\u001b[49m\n\u001b[0;32m    877\u001b[0m \u001b[38;5;66;03m# multimetric is determined here because in the case of a callable\u001b[39;00m\n\u001b[0;32m    878\u001b[0m \u001b[38;5;66;03m# self.scoring the return type is only known after calling\u001b[39;00m\n\u001b[0;32m    879\u001b[0m first_test_score \u001b[38;5;241m=\u001b[39m all_out[\u001b[38;5;241m0\u001b[39m][\u001b[38;5;124m\"\u001b[39m\u001b[38;5;124mtest_scores\u001b[39m\u001b[38;5;124m\"\u001b[39m]\n",
      "File \u001b[1;32mD:\\Projects\\Python\\data-science-walmart-and-more\\venv\\lib\\site-packages\\sklearn\\model_selection\\_search.py:1375\u001b[0m, in \u001b[0;36mGridSearchCV._run_search\u001b[1;34m(self, evaluate_candidates)\u001b[0m\n\u001b[0;32m   1373\u001b[0m \u001b[38;5;28;01mdef\u001b[39;00m \u001b[38;5;21m_run_search\u001b[39m(\u001b[38;5;28mself\u001b[39m, evaluate_candidates):\n\u001b[0;32m   1374\u001b[0m     \u001b[38;5;124;03m\"\"\"Search all candidates in param_grid\"\"\"\u001b[39;00m\n\u001b[1;32m-> 1375\u001b[0m     \u001b[43mevaluate_candidates\u001b[49m\u001b[43m(\u001b[49m\u001b[43mParameterGrid\u001b[49m\u001b[43m(\u001b[49m\u001b[38;5;28;43mself\u001b[39;49m\u001b[38;5;241;43m.\u001b[39;49m\u001b[43mparam_grid\u001b[49m\u001b[43m)\u001b[49m\u001b[43m)\u001b[49m\n",
      "File \u001b[1;32mD:\\Projects\\Python\\data-science-walmart-and-more\\venv\\lib\\site-packages\\sklearn\\model_selection\\_search.py:822\u001b[0m, in \u001b[0;36mBaseSearchCV.fit.<locals>.evaluate_candidates\u001b[1;34m(candidate_params, cv, more_results)\u001b[0m\n\u001b[0;32m    814\u001b[0m \u001b[38;5;28;01mif\u001b[39;00m \u001b[38;5;28mself\u001b[39m\u001b[38;5;241m.\u001b[39mverbose \u001b[38;5;241m>\u001b[39m \u001b[38;5;241m0\u001b[39m:\n\u001b[0;32m    815\u001b[0m     \u001b[38;5;28mprint\u001b[39m(\n\u001b[0;32m    816\u001b[0m         \u001b[38;5;124m\"\u001b[39m\u001b[38;5;124mFitting \u001b[39m\u001b[38;5;132;01m{0}\u001b[39;00m\u001b[38;5;124m folds for each of \u001b[39m\u001b[38;5;132;01m{1}\u001b[39;00m\u001b[38;5;124m candidates,\u001b[39m\u001b[38;5;124m\"\u001b[39m\n\u001b[0;32m    817\u001b[0m         \u001b[38;5;124m\"\u001b[39m\u001b[38;5;124m totalling \u001b[39m\u001b[38;5;132;01m{2}\u001b[39;00m\u001b[38;5;124m fits\u001b[39m\u001b[38;5;124m\"\u001b[39m\u001b[38;5;241m.\u001b[39mformat(\n\u001b[0;32m    818\u001b[0m             n_splits, n_candidates, n_candidates \u001b[38;5;241m*\u001b[39m n_splits\n\u001b[0;32m    819\u001b[0m         )\n\u001b[0;32m    820\u001b[0m     )\n\u001b[1;32m--> 822\u001b[0m out \u001b[38;5;241m=\u001b[39m \u001b[43mparallel\u001b[49m\u001b[43m(\u001b[49m\n\u001b[0;32m    823\u001b[0m \u001b[43m    \u001b[49m\u001b[43mdelayed\u001b[49m\u001b[43m(\u001b[49m\u001b[43m_fit_and_score\u001b[49m\u001b[43m)\u001b[49m\u001b[43m(\u001b[49m\n\u001b[0;32m    824\u001b[0m \u001b[43m        \u001b[49m\u001b[43mclone\u001b[49m\u001b[43m(\u001b[49m\u001b[43mbase_estimator\u001b[49m\u001b[43m)\u001b[49m\u001b[43m,\u001b[49m\n\u001b[0;32m    825\u001b[0m \u001b[43m        \u001b[49m\u001b[43mX\u001b[49m\u001b[43m,\u001b[49m\n\u001b[0;32m    826\u001b[0m \u001b[43m        \u001b[49m\u001b[43my\u001b[49m\u001b[43m,\u001b[49m\n\u001b[0;32m    827\u001b[0m \u001b[43m        \u001b[49m\u001b[43mtrain\u001b[49m\u001b[38;5;241;43m=\u001b[39;49m\u001b[43mtrain\u001b[49m\u001b[43m,\u001b[49m\n\u001b[0;32m    828\u001b[0m \u001b[43m        \u001b[49m\u001b[43mtest\u001b[49m\u001b[38;5;241;43m=\u001b[39;49m\u001b[43mtest\u001b[49m\u001b[43m,\u001b[49m\n\u001b[0;32m    829\u001b[0m \u001b[43m        \u001b[49m\u001b[43mparameters\u001b[49m\u001b[38;5;241;43m=\u001b[39;49m\u001b[43mparameters\u001b[49m\u001b[43m,\u001b[49m\n\u001b[0;32m    830\u001b[0m \u001b[43m        \u001b[49m\u001b[43msplit_progress\u001b[49m\u001b[38;5;241;43m=\u001b[39;49m\u001b[43m(\u001b[49m\u001b[43msplit_idx\u001b[49m\u001b[43m,\u001b[49m\u001b[43m \u001b[49m\u001b[43mn_splits\u001b[49m\u001b[43m)\u001b[49m\u001b[43m,\u001b[49m\n\u001b[0;32m    831\u001b[0m \u001b[43m        \u001b[49m\u001b[43mcandidate_progress\u001b[49m\u001b[38;5;241;43m=\u001b[39;49m\u001b[43m(\u001b[49m\u001b[43mcand_idx\u001b[49m\u001b[43m,\u001b[49m\u001b[43m \u001b[49m\u001b[43mn_candidates\u001b[49m\u001b[43m)\u001b[49m\u001b[43m,\u001b[49m\n\u001b[0;32m    832\u001b[0m \u001b[43m        \u001b[49m\u001b[38;5;241;43m*\u001b[39;49m\u001b[38;5;241;43m*\u001b[39;49m\u001b[43mfit_and_score_kwargs\u001b[49m\u001b[43m,\u001b[49m\n\u001b[0;32m    833\u001b[0m \u001b[43m    \u001b[49m\u001b[43m)\u001b[49m\n\u001b[0;32m    834\u001b[0m \u001b[43m    \u001b[49m\u001b[38;5;28;43;01mfor\u001b[39;49;00m\u001b[43m \u001b[49m\u001b[43m(\u001b[49m\u001b[43mcand_idx\u001b[49m\u001b[43m,\u001b[49m\u001b[43m \u001b[49m\u001b[43mparameters\u001b[49m\u001b[43m)\u001b[49m\u001b[43m,\u001b[49m\u001b[43m \u001b[49m\u001b[43m(\u001b[49m\u001b[43msplit_idx\u001b[49m\u001b[43m,\u001b[49m\u001b[43m \u001b[49m\u001b[43m(\u001b[49m\u001b[43mtrain\u001b[49m\u001b[43m,\u001b[49m\u001b[43m \u001b[49m\u001b[43mtest\u001b[49m\u001b[43m)\u001b[49m\u001b[43m)\u001b[49m\u001b[43m \u001b[49m\u001b[38;5;129;43;01min\u001b[39;49;00m\u001b[43m \u001b[49m\u001b[43mproduct\u001b[49m\u001b[43m(\u001b[49m\n\u001b[0;32m    835\u001b[0m \u001b[43m        \u001b[49m\u001b[38;5;28;43menumerate\u001b[39;49m\u001b[43m(\u001b[49m\u001b[43mcandidate_params\u001b[49m\u001b[43m)\u001b[49m\u001b[43m,\u001b[49m\u001b[43m \u001b[49m\u001b[38;5;28;43menumerate\u001b[39;49m\u001b[43m(\u001b[49m\u001b[43mcv\u001b[49m\u001b[38;5;241;43m.\u001b[39;49m\u001b[43msplit\u001b[49m\u001b[43m(\u001b[49m\u001b[43mX\u001b[49m\u001b[43m,\u001b[49m\u001b[43m \u001b[49m\u001b[43my\u001b[49m\u001b[43m,\u001b[49m\u001b[43m \u001b[49m\u001b[43mgroups\u001b[49m\u001b[43m)\u001b[49m\u001b[43m)\u001b[49m\n\u001b[0;32m    836\u001b[0m \u001b[43m    \u001b[49m\u001b[43m)\u001b[49m\n\u001b[0;32m    837\u001b[0m \u001b[43m\u001b[49m\u001b[43m)\u001b[49m\n\u001b[0;32m    839\u001b[0m \u001b[38;5;28;01mif\u001b[39;00m \u001b[38;5;28mlen\u001b[39m(out) \u001b[38;5;241m<\u001b[39m \u001b[38;5;241m1\u001b[39m:\n\u001b[0;32m    840\u001b[0m     \u001b[38;5;28;01mraise\u001b[39;00m \u001b[38;5;167;01mValueError\u001b[39;00m(\n\u001b[0;32m    841\u001b[0m         \u001b[38;5;124m\"\u001b[39m\u001b[38;5;124mNo fits were performed. \u001b[39m\u001b[38;5;124m\"\u001b[39m\n\u001b[0;32m    842\u001b[0m         \u001b[38;5;124m\"\u001b[39m\u001b[38;5;124mWas the CV iterator empty? \u001b[39m\u001b[38;5;124m\"\u001b[39m\n\u001b[0;32m    843\u001b[0m         \u001b[38;5;124m\"\u001b[39m\u001b[38;5;124mWere there no candidates?\u001b[39m\u001b[38;5;124m\"\u001b[39m\n\u001b[0;32m    844\u001b[0m     )\n",
      "File \u001b[1;32mD:\\Projects\\Python\\data-science-walmart-and-more\\venv\\lib\\site-packages\\joblib\\parallel.py:1043\u001b[0m, in \u001b[0;36mParallel.__call__\u001b[1;34m(self, iterable)\u001b[0m\n\u001b[0;32m   1034\u001b[0m \u001b[38;5;28;01mtry\u001b[39;00m:\n\u001b[0;32m   1035\u001b[0m     \u001b[38;5;66;03m# Only set self._iterating to True if at least a batch\u001b[39;00m\n\u001b[0;32m   1036\u001b[0m     \u001b[38;5;66;03m# was dispatched. In particular this covers the edge\u001b[39;00m\n\u001b[1;32m   (...)\u001b[0m\n\u001b[0;32m   1040\u001b[0m     \u001b[38;5;66;03m# was very quick and its callback already dispatched all the\u001b[39;00m\n\u001b[0;32m   1041\u001b[0m     \u001b[38;5;66;03m# remaining jobs.\u001b[39;00m\n\u001b[0;32m   1042\u001b[0m     \u001b[38;5;28mself\u001b[39m\u001b[38;5;241m.\u001b[39m_iterating \u001b[38;5;241m=\u001b[39m \u001b[38;5;28;01mFalse\u001b[39;00m\n\u001b[1;32m-> 1043\u001b[0m     \u001b[38;5;28;01mif\u001b[39;00m \u001b[38;5;28;43mself\u001b[39;49m\u001b[38;5;241;43m.\u001b[39;49m\u001b[43mdispatch_one_batch\u001b[49m\u001b[43m(\u001b[49m\u001b[43miterator\u001b[49m\u001b[43m)\u001b[49m:\n\u001b[0;32m   1044\u001b[0m         \u001b[38;5;28mself\u001b[39m\u001b[38;5;241m.\u001b[39m_iterating \u001b[38;5;241m=\u001b[39m \u001b[38;5;28mself\u001b[39m\u001b[38;5;241m.\u001b[39m_original_iterator \u001b[38;5;129;01mis\u001b[39;00m \u001b[38;5;129;01mnot\u001b[39;00m \u001b[38;5;28;01mNone\u001b[39;00m\n\u001b[0;32m   1046\u001b[0m     \u001b[38;5;28;01mwhile\u001b[39;00m \u001b[38;5;28mself\u001b[39m\u001b[38;5;241m.\u001b[39mdispatch_one_batch(iterator):\n",
      "File \u001b[1;32mD:\\Projects\\Python\\data-science-walmart-and-more\\venv\\lib\\site-packages\\joblib\\parallel.py:861\u001b[0m, in \u001b[0;36mParallel.dispatch_one_batch\u001b[1;34m(self, iterator)\u001b[0m\n\u001b[0;32m    859\u001b[0m     \u001b[38;5;28;01mreturn\u001b[39;00m \u001b[38;5;28;01mFalse\u001b[39;00m\n\u001b[0;32m    860\u001b[0m \u001b[38;5;28;01melse\u001b[39;00m:\n\u001b[1;32m--> 861\u001b[0m     \u001b[38;5;28;43mself\u001b[39;49m\u001b[38;5;241;43m.\u001b[39;49m\u001b[43m_dispatch\u001b[49m\u001b[43m(\u001b[49m\u001b[43mtasks\u001b[49m\u001b[43m)\u001b[49m\n\u001b[0;32m    862\u001b[0m     \u001b[38;5;28;01mreturn\u001b[39;00m \u001b[38;5;28;01mTrue\u001b[39;00m\n",
      "File \u001b[1;32mD:\\Projects\\Python\\data-science-walmart-and-more\\venv\\lib\\site-packages\\joblib\\parallel.py:779\u001b[0m, in \u001b[0;36mParallel._dispatch\u001b[1;34m(self, batch)\u001b[0m\n\u001b[0;32m    777\u001b[0m \u001b[38;5;28;01mwith\u001b[39;00m \u001b[38;5;28mself\u001b[39m\u001b[38;5;241m.\u001b[39m_lock:\n\u001b[0;32m    778\u001b[0m     job_idx \u001b[38;5;241m=\u001b[39m \u001b[38;5;28mlen\u001b[39m(\u001b[38;5;28mself\u001b[39m\u001b[38;5;241m.\u001b[39m_jobs)\n\u001b[1;32m--> 779\u001b[0m     job \u001b[38;5;241m=\u001b[39m \u001b[38;5;28;43mself\u001b[39;49m\u001b[38;5;241;43m.\u001b[39;49m\u001b[43m_backend\u001b[49m\u001b[38;5;241;43m.\u001b[39;49m\u001b[43mapply_async\u001b[49m\u001b[43m(\u001b[49m\u001b[43mbatch\u001b[49m\u001b[43m,\u001b[49m\u001b[43m \u001b[49m\u001b[43mcallback\u001b[49m\u001b[38;5;241;43m=\u001b[39;49m\u001b[43mcb\u001b[49m\u001b[43m)\u001b[49m\n\u001b[0;32m    780\u001b[0m     \u001b[38;5;66;03m# A job can complete so quickly than its callback is\u001b[39;00m\n\u001b[0;32m    781\u001b[0m     \u001b[38;5;66;03m# called before we get here, causing self._jobs to\u001b[39;00m\n\u001b[0;32m    782\u001b[0m     \u001b[38;5;66;03m# grow. To ensure correct results ordering, .insert is\u001b[39;00m\n\u001b[0;32m    783\u001b[0m     \u001b[38;5;66;03m# used (rather than .append) in the following line\u001b[39;00m\n\u001b[0;32m    784\u001b[0m     \u001b[38;5;28mself\u001b[39m\u001b[38;5;241m.\u001b[39m_jobs\u001b[38;5;241m.\u001b[39minsert(job_idx, job)\n",
      "File \u001b[1;32mD:\\Projects\\Python\\data-science-walmart-and-more\\venv\\lib\\site-packages\\joblib\\_parallel_backends.py:208\u001b[0m, in \u001b[0;36mSequentialBackend.apply_async\u001b[1;34m(self, func, callback)\u001b[0m\n\u001b[0;32m    206\u001b[0m \u001b[38;5;28;01mdef\u001b[39;00m \u001b[38;5;21mapply_async\u001b[39m(\u001b[38;5;28mself\u001b[39m, func, callback\u001b[38;5;241m=\u001b[39m\u001b[38;5;28;01mNone\u001b[39;00m):\n\u001b[0;32m    207\u001b[0m     \u001b[38;5;124;03m\"\"\"Schedule a func to be run\"\"\"\u001b[39;00m\n\u001b[1;32m--> 208\u001b[0m     result \u001b[38;5;241m=\u001b[39m \u001b[43mImmediateResult\u001b[49m\u001b[43m(\u001b[49m\u001b[43mfunc\u001b[49m\u001b[43m)\u001b[49m\n\u001b[0;32m    209\u001b[0m     \u001b[38;5;28;01mif\u001b[39;00m callback:\n\u001b[0;32m    210\u001b[0m         callback(result)\n",
      "File \u001b[1;32mD:\\Projects\\Python\\data-science-walmart-and-more\\venv\\lib\\site-packages\\joblib\\_parallel_backends.py:572\u001b[0m, in \u001b[0;36mImmediateResult.__init__\u001b[1;34m(self, batch)\u001b[0m\n\u001b[0;32m    569\u001b[0m \u001b[38;5;28;01mdef\u001b[39;00m \u001b[38;5;21m__init__\u001b[39m(\u001b[38;5;28mself\u001b[39m, batch):\n\u001b[0;32m    570\u001b[0m     \u001b[38;5;66;03m# Don't delay the application, to avoid keeping the input\u001b[39;00m\n\u001b[0;32m    571\u001b[0m     \u001b[38;5;66;03m# arguments in memory\u001b[39;00m\n\u001b[1;32m--> 572\u001b[0m     \u001b[38;5;28mself\u001b[39m\u001b[38;5;241m.\u001b[39mresults \u001b[38;5;241m=\u001b[39m \u001b[43mbatch\u001b[49m\u001b[43m(\u001b[49m\u001b[43m)\u001b[49m\n",
      "File \u001b[1;32mD:\\Projects\\Python\\data-science-walmart-and-more\\venv\\lib\\site-packages\\joblib\\parallel.py:262\u001b[0m, in \u001b[0;36mBatchedCalls.__call__\u001b[1;34m(self)\u001b[0m\n\u001b[0;32m    258\u001b[0m \u001b[38;5;28;01mdef\u001b[39;00m \u001b[38;5;21m__call__\u001b[39m(\u001b[38;5;28mself\u001b[39m):\n\u001b[0;32m    259\u001b[0m     \u001b[38;5;66;03m# Set the default nested backend to self._backend but do not set the\u001b[39;00m\n\u001b[0;32m    260\u001b[0m     \u001b[38;5;66;03m# change the default number of processes to -1\u001b[39;00m\n\u001b[0;32m    261\u001b[0m     \u001b[38;5;28;01mwith\u001b[39;00m parallel_backend(\u001b[38;5;28mself\u001b[39m\u001b[38;5;241m.\u001b[39m_backend, n_jobs\u001b[38;5;241m=\u001b[39m\u001b[38;5;28mself\u001b[39m\u001b[38;5;241m.\u001b[39m_n_jobs):\n\u001b[1;32m--> 262\u001b[0m         \u001b[38;5;28;01mreturn\u001b[39;00m [func(\u001b[38;5;241m*\u001b[39margs, \u001b[38;5;241m*\u001b[39m\u001b[38;5;241m*\u001b[39mkwargs)\n\u001b[0;32m    263\u001b[0m                 \u001b[38;5;28;01mfor\u001b[39;00m func, args, kwargs \u001b[38;5;129;01min\u001b[39;00m \u001b[38;5;28mself\u001b[39m\u001b[38;5;241m.\u001b[39mitems]\n",
      "File \u001b[1;32mD:\\Projects\\Python\\data-science-walmart-and-more\\venv\\lib\\site-packages\\joblib\\parallel.py:262\u001b[0m, in \u001b[0;36m<listcomp>\u001b[1;34m(.0)\u001b[0m\n\u001b[0;32m    258\u001b[0m \u001b[38;5;28;01mdef\u001b[39;00m \u001b[38;5;21m__call__\u001b[39m(\u001b[38;5;28mself\u001b[39m):\n\u001b[0;32m    259\u001b[0m     \u001b[38;5;66;03m# Set the default nested backend to self._backend but do not set the\u001b[39;00m\n\u001b[0;32m    260\u001b[0m     \u001b[38;5;66;03m# change the default number of processes to -1\u001b[39;00m\n\u001b[0;32m    261\u001b[0m     \u001b[38;5;28;01mwith\u001b[39;00m parallel_backend(\u001b[38;5;28mself\u001b[39m\u001b[38;5;241m.\u001b[39m_backend, n_jobs\u001b[38;5;241m=\u001b[39m\u001b[38;5;28mself\u001b[39m\u001b[38;5;241m.\u001b[39m_n_jobs):\n\u001b[1;32m--> 262\u001b[0m         \u001b[38;5;28;01mreturn\u001b[39;00m [func(\u001b[38;5;241m*\u001b[39margs, \u001b[38;5;241m*\u001b[39m\u001b[38;5;241m*\u001b[39mkwargs)\n\u001b[0;32m    263\u001b[0m                 \u001b[38;5;28;01mfor\u001b[39;00m func, args, kwargs \u001b[38;5;129;01min\u001b[39;00m \u001b[38;5;28mself\u001b[39m\u001b[38;5;241m.\u001b[39mitems]\n",
      "File \u001b[1;32mD:\\Projects\\Python\\data-science-walmart-and-more\\venv\\lib\\site-packages\\sklearn\\utils\\fixes.py:117\u001b[0m, in \u001b[0;36m_FuncWrapper.__call__\u001b[1;34m(self, *args, **kwargs)\u001b[0m\n\u001b[0;32m    115\u001b[0m \u001b[38;5;28;01mdef\u001b[39;00m \u001b[38;5;21m__call__\u001b[39m(\u001b[38;5;28mself\u001b[39m, \u001b[38;5;241m*\u001b[39margs, \u001b[38;5;241m*\u001b[39m\u001b[38;5;241m*\u001b[39mkwargs):\n\u001b[0;32m    116\u001b[0m     \u001b[38;5;28;01mwith\u001b[39;00m config_context(\u001b[38;5;241m*\u001b[39m\u001b[38;5;241m*\u001b[39m\u001b[38;5;28mself\u001b[39m\u001b[38;5;241m.\u001b[39mconfig):\n\u001b[1;32m--> 117\u001b[0m         \u001b[38;5;28;01mreturn\u001b[39;00m \u001b[38;5;28mself\u001b[39m\u001b[38;5;241m.\u001b[39mfunction(\u001b[38;5;241m*\u001b[39margs, \u001b[38;5;241m*\u001b[39m\u001b[38;5;241m*\u001b[39mkwargs)\n",
      "File \u001b[1;32mD:\\Projects\\Python\\data-science-walmart-and-more\\venv\\lib\\site-packages\\sklearn\\model_selection\\_validation.py:686\u001b[0m, in \u001b[0;36m_fit_and_score\u001b[1;34m(estimator, X, y, scorer, train, test, verbose, parameters, fit_params, return_train_score, return_parameters, return_n_test_samples, return_times, return_estimator, split_progress, candidate_progress, error_score)\u001b[0m\n\u001b[0;32m    684\u001b[0m         estimator\u001b[38;5;241m.\u001b[39mfit(X_train, \u001b[38;5;241m*\u001b[39m\u001b[38;5;241m*\u001b[39mfit_params)\n\u001b[0;32m    685\u001b[0m     \u001b[38;5;28;01melse\u001b[39;00m:\n\u001b[1;32m--> 686\u001b[0m         estimator\u001b[38;5;241m.\u001b[39mfit(X_train, y_train, \u001b[38;5;241m*\u001b[39m\u001b[38;5;241m*\u001b[39mfit_params)\n\u001b[0;32m    688\u001b[0m \u001b[38;5;28;01mexcept\u001b[39;00m \u001b[38;5;167;01mException\u001b[39;00m:\n\u001b[0;32m    689\u001b[0m     \u001b[38;5;66;03m# Note fit time as time until error\u001b[39;00m\n\u001b[0;32m    690\u001b[0m     fit_time \u001b[38;5;241m=\u001b[39m time\u001b[38;5;241m.\u001b[39mtime() \u001b[38;5;241m-\u001b[39m start_time\n",
      "File \u001b[1;32mD:\\Projects\\Python\\data-science-walmart-and-more\\venv\\lib\\site-packages\\sklearn\\pipeline.py:382\u001b[0m, in \u001b[0;36mPipeline.fit\u001b[1;34m(self, X, y, **fit_params)\u001b[0m\n\u001b[0;32m    380\u001b[0m     \u001b[38;5;28;01mif\u001b[39;00m \u001b[38;5;28mself\u001b[39m\u001b[38;5;241m.\u001b[39m_final_estimator \u001b[38;5;241m!=\u001b[39m \u001b[38;5;124m\"\u001b[39m\u001b[38;5;124mpassthrough\u001b[39m\u001b[38;5;124m\"\u001b[39m:\n\u001b[0;32m    381\u001b[0m         fit_params_last_step \u001b[38;5;241m=\u001b[39m fit_params_steps[\u001b[38;5;28mself\u001b[39m\u001b[38;5;241m.\u001b[39msteps[\u001b[38;5;241m-\u001b[39m\u001b[38;5;241m1\u001b[39m][\u001b[38;5;241m0\u001b[39m]]\n\u001b[1;32m--> 382\u001b[0m         \u001b[38;5;28mself\u001b[39m\u001b[38;5;241m.\u001b[39m_final_estimator\u001b[38;5;241m.\u001b[39mfit(Xt, y, \u001b[38;5;241m*\u001b[39m\u001b[38;5;241m*\u001b[39mfit_params_last_step)\n\u001b[0;32m    384\u001b[0m \u001b[38;5;28;01mreturn\u001b[39;00m \u001b[38;5;28mself\u001b[39m\n",
      "File \u001b[1;32mD:\\Projects\\Python\\data-science-walmart-and-more\\venv\\lib\\site-packages\\sklearn\\ensemble\\_forest.py:476\u001b[0m, in \u001b[0;36mBaseForest.fit\u001b[1;34m(self, X, y, sample_weight)\u001b[0m\n\u001b[0;32m    465\u001b[0m trees \u001b[38;5;241m=\u001b[39m [\n\u001b[0;32m    466\u001b[0m     \u001b[38;5;28mself\u001b[39m\u001b[38;5;241m.\u001b[39m_make_estimator(append\u001b[38;5;241m=\u001b[39m\u001b[38;5;28;01mFalse\u001b[39;00m, random_state\u001b[38;5;241m=\u001b[39mrandom_state)\n\u001b[0;32m    467\u001b[0m     \u001b[38;5;28;01mfor\u001b[39;00m i \u001b[38;5;129;01min\u001b[39;00m \u001b[38;5;28mrange\u001b[39m(n_more_estimators)\n\u001b[0;32m    468\u001b[0m ]\n\u001b[0;32m    470\u001b[0m \u001b[38;5;66;03m# Parallel loop: we prefer the threading backend as the Cython code\u001b[39;00m\n\u001b[0;32m    471\u001b[0m \u001b[38;5;66;03m# for fitting the trees is internally releasing the Python GIL\u001b[39;00m\n\u001b[0;32m    472\u001b[0m \u001b[38;5;66;03m# making threading more efficient than multiprocessing in\u001b[39;00m\n\u001b[0;32m    473\u001b[0m \u001b[38;5;66;03m# that case. However, for joblib 0.12+ we respect any\u001b[39;00m\n\u001b[0;32m    474\u001b[0m \u001b[38;5;66;03m# parallel_backend contexts set at a higher level,\u001b[39;00m\n\u001b[0;32m    475\u001b[0m \u001b[38;5;66;03m# since correctness does not rely on using threads.\u001b[39;00m\n\u001b[1;32m--> 476\u001b[0m trees \u001b[38;5;241m=\u001b[39m \u001b[43mParallel\u001b[49m\u001b[43m(\u001b[49m\n\u001b[0;32m    477\u001b[0m \u001b[43m    \u001b[49m\u001b[43mn_jobs\u001b[49m\u001b[38;5;241;43m=\u001b[39;49m\u001b[38;5;28;43mself\u001b[39;49m\u001b[38;5;241;43m.\u001b[39;49m\u001b[43mn_jobs\u001b[49m\u001b[43m,\u001b[49m\n\u001b[0;32m    478\u001b[0m \u001b[43m    \u001b[49m\u001b[43mverbose\u001b[49m\u001b[38;5;241;43m=\u001b[39;49m\u001b[38;5;28;43mself\u001b[39;49m\u001b[38;5;241;43m.\u001b[39;49m\u001b[43mverbose\u001b[49m\u001b[43m,\u001b[49m\n\u001b[0;32m    479\u001b[0m \u001b[43m    \u001b[49m\u001b[43mprefer\u001b[49m\u001b[38;5;241;43m=\u001b[39;49m\u001b[38;5;124;43m\"\u001b[39;49m\u001b[38;5;124;43mthreads\u001b[39;49m\u001b[38;5;124;43m\"\u001b[39;49m\u001b[43m,\u001b[49m\n\u001b[0;32m    480\u001b[0m \u001b[43m\u001b[49m\u001b[43m)\u001b[49m\u001b[43m(\u001b[49m\n\u001b[0;32m    481\u001b[0m \u001b[43m    \u001b[49m\u001b[43mdelayed\u001b[49m\u001b[43m(\u001b[49m\u001b[43m_parallel_build_trees\u001b[49m\u001b[43m)\u001b[49m\u001b[43m(\u001b[49m\n\u001b[0;32m    482\u001b[0m \u001b[43m        \u001b[49m\u001b[43mt\u001b[49m\u001b[43m,\u001b[49m\n\u001b[0;32m    483\u001b[0m \u001b[43m        \u001b[49m\u001b[38;5;28;43mself\u001b[39;49m\u001b[38;5;241;43m.\u001b[39;49m\u001b[43mbootstrap\u001b[49m\u001b[43m,\u001b[49m\n\u001b[0;32m    484\u001b[0m \u001b[43m        \u001b[49m\u001b[43mX\u001b[49m\u001b[43m,\u001b[49m\n\u001b[0;32m    485\u001b[0m \u001b[43m        \u001b[49m\u001b[43my\u001b[49m\u001b[43m,\u001b[49m\n\u001b[0;32m    486\u001b[0m \u001b[43m        \u001b[49m\u001b[43msample_weight\u001b[49m\u001b[43m,\u001b[49m\n\u001b[0;32m    487\u001b[0m \u001b[43m        \u001b[49m\u001b[43mi\u001b[49m\u001b[43m,\u001b[49m\n\u001b[0;32m    488\u001b[0m \u001b[43m        \u001b[49m\u001b[38;5;28;43mlen\u001b[39;49m\u001b[43m(\u001b[49m\u001b[43mtrees\u001b[49m\u001b[43m)\u001b[49m\u001b[43m,\u001b[49m\n\u001b[0;32m    489\u001b[0m \u001b[43m        \u001b[49m\u001b[43mverbose\u001b[49m\u001b[38;5;241;43m=\u001b[39;49m\u001b[38;5;28;43mself\u001b[39;49m\u001b[38;5;241;43m.\u001b[39;49m\u001b[43mverbose\u001b[49m\u001b[43m,\u001b[49m\n\u001b[0;32m    490\u001b[0m \u001b[43m        \u001b[49m\u001b[43mclass_weight\u001b[49m\u001b[38;5;241;43m=\u001b[39;49m\u001b[38;5;28;43mself\u001b[39;49m\u001b[38;5;241;43m.\u001b[39;49m\u001b[43mclass_weight\u001b[49m\u001b[43m,\u001b[49m\n\u001b[0;32m    491\u001b[0m \u001b[43m        \u001b[49m\u001b[43mn_samples_bootstrap\u001b[49m\u001b[38;5;241;43m=\u001b[39;49m\u001b[43mn_samples_bootstrap\u001b[49m\u001b[43m,\u001b[49m\n\u001b[0;32m    492\u001b[0m \u001b[43m    \u001b[49m\u001b[43m)\u001b[49m\n\u001b[0;32m    493\u001b[0m \u001b[43m    \u001b[49m\u001b[38;5;28;43;01mfor\u001b[39;49;00m\u001b[43m \u001b[49m\u001b[43mi\u001b[49m\u001b[43m,\u001b[49m\u001b[43m \u001b[49m\u001b[43mt\u001b[49m\u001b[43m \u001b[49m\u001b[38;5;129;43;01min\u001b[39;49;00m\u001b[43m \u001b[49m\u001b[38;5;28;43menumerate\u001b[39;49m\u001b[43m(\u001b[49m\u001b[43mtrees\u001b[49m\u001b[43m)\u001b[49m\n\u001b[0;32m    494\u001b[0m \u001b[43m\u001b[49m\u001b[43m)\u001b[49m\n\u001b[0;32m    496\u001b[0m \u001b[38;5;66;03m# Collect newly grown trees\u001b[39;00m\n\u001b[0;32m    497\u001b[0m \u001b[38;5;28mself\u001b[39m\u001b[38;5;241m.\u001b[39mestimators_\u001b[38;5;241m.\u001b[39mextend(trees)\n",
      "File \u001b[1;32mD:\\Projects\\Python\\data-science-walmart-and-more\\venv\\lib\\site-packages\\joblib\\parallel.py:1046\u001b[0m, in \u001b[0;36mParallel.__call__\u001b[1;34m(self, iterable)\u001b[0m\n\u001b[0;32m   1043\u001b[0m \u001b[38;5;28;01mif\u001b[39;00m \u001b[38;5;28mself\u001b[39m\u001b[38;5;241m.\u001b[39mdispatch_one_batch(iterator):\n\u001b[0;32m   1044\u001b[0m     \u001b[38;5;28mself\u001b[39m\u001b[38;5;241m.\u001b[39m_iterating \u001b[38;5;241m=\u001b[39m \u001b[38;5;28mself\u001b[39m\u001b[38;5;241m.\u001b[39m_original_iterator \u001b[38;5;129;01mis\u001b[39;00m \u001b[38;5;129;01mnot\u001b[39;00m \u001b[38;5;28;01mNone\u001b[39;00m\n\u001b[1;32m-> 1046\u001b[0m \u001b[38;5;28;01mwhile\u001b[39;00m \u001b[38;5;28;43mself\u001b[39;49m\u001b[38;5;241;43m.\u001b[39;49m\u001b[43mdispatch_one_batch\u001b[49m\u001b[43m(\u001b[49m\u001b[43miterator\u001b[49m\u001b[43m)\u001b[49m:\n\u001b[0;32m   1047\u001b[0m     \u001b[38;5;28;01mpass\u001b[39;00m\n\u001b[0;32m   1049\u001b[0m \u001b[38;5;28;01mif\u001b[39;00m pre_dispatch \u001b[38;5;241m==\u001b[39m \u001b[38;5;124m\"\u001b[39m\u001b[38;5;124mall\u001b[39m\u001b[38;5;124m\"\u001b[39m \u001b[38;5;129;01mor\u001b[39;00m n_jobs \u001b[38;5;241m==\u001b[39m \u001b[38;5;241m1\u001b[39m:\n\u001b[0;32m   1050\u001b[0m     \u001b[38;5;66;03m# The iterable was consumed all at once by the above for loop.\u001b[39;00m\n\u001b[0;32m   1051\u001b[0m     \u001b[38;5;66;03m# No need to wait for async callbacks to trigger to\u001b[39;00m\n\u001b[0;32m   1052\u001b[0m     \u001b[38;5;66;03m# consumption.\u001b[39;00m\n",
      "File \u001b[1;32mD:\\Projects\\Python\\data-science-walmart-and-more\\venv\\lib\\site-packages\\joblib\\parallel.py:861\u001b[0m, in \u001b[0;36mParallel.dispatch_one_batch\u001b[1;34m(self, iterator)\u001b[0m\n\u001b[0;32m    859\u001b[0m     \u001b[38;5;28;01mreturn\u001b[39;00m \u001b[38;5;28;01mFalse\u001b[39;00m\n\u001b[0;32m    860\u001b[0m \u001b[38;5;28;01melse\u001b[39;00m:\n\u001b[1;32m--> 861\u001b[0m     \u001b[38;5;28;43mself\u001b[39;49m\u001b[38;5;241;43m.\u001b[39;49m\u001b[43m_dispatch\u001b[49m\u001b[43m(\u001b[49m\u001b[43mtasks\u001b[49m\u001b[43m)\u001b[49m\n\u001b[0;32m    862\u001b[0m     \u001b[38;5;28;01mreturn\u001b[39;00m \u001b[38;5;28;01mTrue\u001b[39;00m\n",
      "File \u001b[1;32mD:\\Projects\\Python\\data-science-walmart-and-more\\venv\\lib\\site-packages\\joblib\\parallel.py:779\u001b[0m, in \u001b[0;36mParallel._dispatch\u001b[1;34m(self, batch)\u001b[0m\n\u001b[0;32m    777\u001b[0m \u001b[38;5;28;01mwith\u001b[39;00m \u001b[38;5;28mself\u001b[39m\u001b[38;5;241m.\u001b[39m_lock:\n\u001b[0;32m    778\u001b[0m     job_idx \u001b[38;5;241m=\u001b[39m \u001b[38;5;28mlen\u001b[39m(\u001b[38;5;28mself\u001b[39m\u001b[38;5;241m.\u001b[39m_jobs)\n\u001b[1;32m--> 779\u001b[0m     job \u001b[38;5;241m=\u001b[39m \u001b[38;5;28;43mself\u001b[39;49m\u001b[38;5;241;43m.\u001b[39;49m\u001b[43m_backend\u001b[49m\u001b[38;5;241;43m.\u001b[39;49m\u001b[43mapply_async\u001b[49m\u001b[43m(\u001b[49m\u001b[43mbatch\u001b[49m\u001b[43m,\u001b[49m\u001b[43m \u001b[49m\u001b[43mcallback\u001b[49m\u001b[38;5;241;43m=\u001b[39;49m\u001b[43mcb\u001b[49m\u001b[43m)\u001b[49m\n\u001b[0;32m    780\u001b[0m     \u001b[38;5;66;03m# A job can complete so quickly than its callback is\u001b[39;00m\n\u001b[0;32m    781\u001b[0m     \u001b[38;5;66;03m# called before we get here, causing self._jobs to\u001b[39;00m\n\u001b[0;32m    782\u001b[0m     \u001b[38;5;66;03m# grow. To ensure correct results ordering, .insert is\u001b[39;00m\n\u001b[0;32m    783\u001b[0m     \u001b[38;5;66;03m# used (rather than .append) in the following line\u001b[39;00m\n\u001b[0;32m    784\u001b[0m     \u001b[38;5;28mself\u001b[39m\u001b[38;5;241m.\u001b[39m_jobs\u001b[38;5;241m.\u001b[39minsert(job_idx, job)\n",
      "File \u001b[1;32mD:\\Projects\\Python\\data-science-walmart-and-more\\venv\\lib\\site-packages\\joblib\\_parallel_backends.py:208\u001b[0m, in \u001b[0;36mSequentialBackend.apply_async\u001b[1;34m(self, func, callback)\u001b[0m\n\u001b[0;32m    206\u001b[0m \u001b[38;5;28;01mdef\u001b[39;00m \u001b[38;5;21mapply_async\u001b[39m(\u001b[38;5;28mself\u001b[39m, func, callback\u001b[38;5;241m=\u001b[39m\u001b[38;5;28;01mNone\u001b[39;00m):\n\u001b[0;32m    207\u001b[0m     \u001b[38;5;124;03m\"\"\"Schedule a func to be run\"\"\"\u001b[39;00m\n\u001b[1;32m--> 208\u001b[0m     result \u001b[38;5;241m=\u001b[39m \u001b[43mImmediateResult\u001b[49m\u001b[43m(\u001b[49m\u001b[43mfunc\u001b[49m\u001b[43m)\u001b[49m\n\u001b[0;32m    209\u001b[0m     \u001b[38;5;28;01mif\u001b[39;00m callback:\n\u001b[0;32m    210\u001b[0m         callback(result)\n",
      "File \u001b[1;32mD:\\Projects\\Python\\data-science-walmart-and-more\\venv\\lib\\site-packages\\joblib\\_parallel_backends.py:572\u001b[0m, in \u001b[0;36mImmediateResult.__init__\u001b[1;34m(self, batch)\u001b[0m\n\u001b[0;32m    569\u001b[0m \u001b[38;5;28;01mdef\u001b[39;00m \u001b[38;5;21m__init__\u001b[39m(\u001b[38;5;28mself\u001b[39m, batch):\n\u001b[0;32m    570\u001b[0m     \u001b[38;5;66;03m# Don't delay the application, to avoid keeping the input\u001b[39;00m\n\u001b[0;32m    571\u001b[0m     \u001b[38;5;66;03m# arguments in memory\u001b[39;00m\n\u001b[1;32m--> 572\u001b[0m     \u001b[38;5;28mself\u001b[39m\u001b[38;5;241m.\u001b[39mresults \u001b[38;5;241m=\u001b[39m \u001b[43mbatch\u001b[49m\u001b[43m(\u001b[49m\u001b[43m)\u001b[49m\n",
      "File \u001b[1;32mD:\\Projects\\Python\\data-science-walmart-and-more\\venv\\lib\\site-packages\\joblib\\parallel.py:262\u001b[0m, in \u001b[0;36mBatchedCalls.__call__\u001b[1;34m(self)\u001b[0m\n\u001b[0;32m    258\u001b[0m \u001b[38;5;28;01mdef\u001b[39;00m \u001b[38;5;21m__call__\u001b[39m(\u001b[38;5;28mself\u001b[39m):\n\u001b[0;32m    259\u001b[0m     \u001b[38;5;66;03m# Set the default nested backend to self._backend but do not set the\u001b[39;00m\n\u001b[0;32m    260\u001b[0m     \u001b[38;5;66;03m# change the default number of processes to -1\u001b[39;00m\n\u001b[0;32m    261\u001b[0m     \u001b[38;5;28;01mwith\u001b[39;00m parallel_backend(\u001b[38;5;28mself\u001b[39m\u001b[38;5;241m.\u001b[39m_backend, n_jobs\u001b[38;5;241m=\u001b[39m\u001b[38;5;28mself\u001b[39m\u001b[38;5;241m.\u001b[39m_n_jobs):\n\u001b[1;32m--> 262\u001b[0m         \u001b[38;5;28;01mreturn\u001b[39;00m [func(\u001b[38;5;241m*\u001b[39margs, \u001b[38;5;241m*\u001b[39m\u001b[38;5;241m*\u001b[39mkwargs)\n\u001b[0;32m    263\u001b[0m                 \u001b[38;5;28;01mfor\u001b[39;00m func, args, kwargs \u001b[38;5;129;01min\u001b[39;00m \u001b[38;5;28mself\u001b[39m\u001b[38;5;241m.\u001b[39mitems]\n",
      "File \u001b[1;32mD:\\Projects\\Python\\data-science-walmart-and-more\\venv\\lib\\site-packages\\joblib\\parallel.py:262\u001b[0m, in \u001b[0;36m<listcomp>\u001b[1;34m(.0)\u001b[0m\n\u001b[0;32m    258\u001b[0m \u001b[38;5;28;01mdef\u001b[39;00m \u001b[38;5;21m__call__\u001b[39m(\u001b[38;5;28mself\u001b[39m):\n\u001b[0;32m    259\u001b[0m     \u001b[38;5;66;03m# Set the default nested backend to self._backend but do not set the\u001b[39;00m\n\u001b[0;32m    260\u001b[0m     \u001b[38;5;66;03m# change the default number of processes to -1\u001b[39;00m\n\u001b[0;32m    261\u001b[0m     \u001b[38;5;28;01mwith\u001b[39;00m parallel_backend(\u001b[38;5;28mself\u001b[39m\u001b[38;5;241m.\u001b[39m_backend, n_jobs\u001b[38;5;241m=\u001b[39m\u001b[38;5;28mself\u001b[39m\u001b[38;5;241m.\u001b[39m_n_jobs):\n\u001b[1;32m--> 262\u001b[0m         \u001b[38;5;28;01mreturn\u001b[39;00m [func(\u001b[38;5;241m*\u001b[39margs, \u001b[38;5;241m*\u001b[39m\u001b[38;5;241m*\u001b[39mkwargs)\n\u001b[0;32m    263\u001b[0m                 \u001b[38;5;28;01mfor\u001b[39;00m func, args, kwargs \u001b[38;5;129;01min\u001b[39;00m \u001b[38;5;28mself\u001b[39m\u001b[38;5;241m.\u001b[39mitems]\n",
      "File \u001b[1;32mD:\\Projects\\Python\\data-science-walmart-and-more\\venv\\lib\\site-packages\\sklearn\\utils\\fixes.py:117\u001b[0m, in \u001b[0;36m_FuncWrapper.__call__\u001b[1;34m(self, *args, **kwargs)\u001b[0m\n\u001b[0;32m    115\u001b[0m \u001b[38;5;28;01mdef\u001b[39;00m \u001b[38;5;21m__call__\u001b[39m(\u001b[38;5;28mself\u001b[39m, \u001b[38;5;241m*\u001b[39margs, \u001b[38;5;241m*\u001b[39m\u001b[38;5;241m*\u001b[39mkwargs):\n\u001b[0;32m    116\u001b[0m     \u001b[38;5;28;01mwith\u001b[39;00m config_context(\u001b[38;5;241m*\u001b[39m\u001b[38;5;241m*\u001b[39m\u001b[38;5;28mself\u001b[39m\u001b[38;5;241m.\u001b[39mconfig):\n\u001b[1;32m--> 117\u001b[0m         \u001b[38;5;28;01mreturn\u001b[39;00m \u001b[38;5;28mself\u001b[39m\u001b[38;5;241m.\u001b[39mfunction(\u001b[38;5;241m*\u001b[39margs, \u001b[38;5;241m*\u001b[39m\u001b[38;5;241m*\u001b[39mkwargs)\n",
      "File \u001b[1;32mD:\\Projects\\Python\\data-science-walmart-and-more\\venv\\lib\\site-packages\\sklearn\\ensemble\\_forest.py:189\u001b[0m, in \u001b[0;36m_parallel_build_trees\u001b[1;34m(tree, bootstrap, X, y, sample_weight, tree_idx, n_trees, verbose, class_weight, n_samples_bootstrap)\u001b[0m\n\u001b[0;32m    186\u001b[0m     \u001b[38;5;28;01melif\u001b[39;00m class_weight \u001b[38;5;241m==\u001b[39m \u001b[38;5;124m\"\u001b[39m\u001b[38;5;124mbalanced_subsample\u001b[39m\u001b[38;5;124m\"\u001b[39m:\n\u001b[0;32m    187\u001b[0m         curr_sample_weight \u001b[38;5;241m*\u001b[39m\u001b[38;5;241m=\u001b[39m compute_sample_weight(\u001b[38;5;124m\"\u001b[39m\u001b[38;5;124mbalanced\u001b[39m\u001b[38;5;124m\"\u001b[39m, y, indices\u001b[38;5;241m=\u001b[39mindices)\n\u001b[1;32m--> 189\u001b[0m     \u001b[43mtree\u001b[49m\u001b[38;5;241;43m.\u001b[39;49m\u001b[43mfit\u001b[49m\u001b[43m(\u001b[49m\u001b[43mX\u001b[49m\u001b[43m,\u001b[49m\u001b[43m \u001b[49m\u001b[43my\u001b[49m\u001b[43m,\u001b[49m\u001b[43m \u001b[49m\u001b[43msample_weight\u001b[49m\u001b[38;5;241;43m=\u001b[39;49m\u001b[43mcurr_sample_weight\u001b[49m\u001b[43m,\u001b[49m\u001b[43m \u001b[49m\u001b[43mcheck_input\u001b[49m\u001b[38;5;241;43m=\u001b[39;49m\u001b[38;5;28;43;01mFalse\u001b[39;49;00m\u001b[43m)\u001b[49m\n\u001b[0;32m    190\u001b[0m \u001b[38;5;28;01melse\u001b[39;00m:\n\u001b[0;32m    191\u001b[0m     tree\u001b[38;5;241m.\u001b[39mfit(X, y, sample_weight\u001b[38;5;241m=\u001b[39msample_weight, check_input\u001b[38;5;241m=\u001b[39m\u001b[38;5;28;01mFalse\u001b[39;00m)\n",
      "File \u001b[1;32mD:\\Projects\\Python\\data-science-walmart-and-more\\venv\\lib\\site-packages\\sklearn\\tree\\_classes.py:969\u001b[0m, in \u001b[0;36mDecisionTreeClassifier.fit\u001b[1;34m(self, X, y, sample_weight, check_input)\u001b[0m\n\u001b[0;32m    939\u001b[0m \u001b[38;5;28;01mdef\u001b[39;00m \u001b[38;5;21mfit\u001b[39m(\u001b[38;5;28mself\u001b[39m, X, y, sample_weight\u001b[38;5;241m=\u001b[39m\u001b[38;5;28;01mNone\u001b[39;00m, check_input\u001b[38;5;241m=\u001b[39m\u001b[38;5;28;01mTrue\u001b[39;00m):\n\u001b[0;32m    940\u001b[0m     \u001b[38;5;124;03m\"\"\"Build a decision tree classifier from the training set (X, y).\u001b[39;00m\n\u001b[0;32m    941\u001b[0m \n\u001b[0;32m    942\u001b[0m \u001b[38;5;124;03m    Parameters\u001b[39;00m\n\u001b[1;32m   (...)\u001b[0m\n\u001b[0;32m    966\u001b[0m \u001b[38;5;124;03m        Fitted estimator.\u001b[39;00m\n\u001b[0;32m    967\u001b[0m \u001b[38;5;124;03m    \"\"\"\u001b[39;00m\n\u001b[1;32m--> 969\u001b[0m     \u001b[38;5;28;43msuper\u001b[39;49m\u001b[43m(\u001b[49m\u001b[43m)\u001b[49m\u001b[38;5;241;43m.\u001b[39;49m\u001b[43mfit\u001b[49m\u001b[43m(\u001b[49m\n\u001b[0;32m    970\u001b[0m \u001b[43m        \u001b[49m\u001b[43mX\u001b[49m\u001b[43m,\u001b[49m\n\u001b[0;32m    971\u001b[0m \u001b[43m        \u001b[49m\u001b[43my\u001b[49m\u001b[43m,\u001b[49m\n\u001b[0;32m    972\u001b[0m \u001b[43m        \u001b[49m\u001b[43msample_weight\u001b[49m\u001b[38;5;241;43m=\u001b[39;49m\u001b[43msample_weight\u001b[49m\u001b[43m,\u001b[49m\n\u001b[0;32m    973\u001b[0m \u001b[43m        \u001b[49m\u001b[43mcheck_input\u001b[49m\u001b[38;5;241;43m=\u001b[39;49m\u001b[43mcheck_input\u001b[49m\u001b[43m,\u001b[49m\n\u001b[0;32m    974\u001b[0m \u001b[43m    \u001b[49m\u001b[43m)\u001b[49m\n\u001b[0;32m    975\u001b[0m     \u001b[38;5;28;01mreturn\u001b[39;00m \u001b[38;5;28mself\u001b[39m\n",
      "File \u001b[1;32mD:\\Projects\\Python\\data-science-walmart-and-more\\venv\\lib\\site-packages\\sklearn\\tree\\_classes.py:458\u001b[0m, in \u001b[0;36mBaseDecisionTree.fit\u001b[1;34m(self, X, y, sample_weight, check_input)\u001b[0m\n\u001b[0;32m    447\u001b[0m \u001b[38;5;28;01melse\u001b[39;00m:\n\u001b[0;32m    448\u001b[0m     builder \u001b[38;5;241m=\u001b[39m BestFirstTreeBuilder(\n\u001b[0;32m    449\u001b[0m         splitter,\n\u001b[0;32m    450\u001b[0m         min_samples_split,\n\u001b[1;32m   (...)\u001b[0m\n\u001b[0;32m    455\u001b[0m         \u001b[38;5;28mself\u001b[39m\u001b[38;5;241m.\u001b[39mmin_impurity_decrease,\n\u001b[0;32m    456\u001b[0m     )\n\u001b[1;32m--> 458\u001b[0m \u001b[43mbuilder\u001b[49m\u001b[38;5;241;43m.\u001b[39;49m\u001b[43mbuild\u001b[49m\u001b[43m(\u001b[49m\u001b[38;5;28;43mself\u001b[39;49m\u001b[38;5;241;43m.\u001b[39;49m\u001b[43mtree_\u001b[49m\u001b[43m,\u001b[49m\u001b[43m \u001b[49m\u001b[43mX\u001b[49m\u001b[43m,\u001b[49m\u001b[43m \u001b[49m\u001b[43my\u001b[49m\u001b[43m,\u001b[49m\u001b[43m \u001b[49m\u001b[43msample_weight\u001b[49m\u001b[43m)\u001b[49m\n\u001b[0;32m    460\u001b[0m \u001b[38;5;28;01mif\u001b[39;00m \u001b[38;5;28mself\u001b[39m\u001b[38;5;241m.\u001b[39mn_outputs_ \u001b[38;5;241m==\u001b[39m \u001b[38;5;241m1\u001b[39m \u001b[38;5;129;01mand\u001b[39;00m is_classifier(\u001b[38;5;28mself\u001b[39m):\n\u001b[0;32m    461\u001b[0m     \u001b[38;5;28mself\u001b[39m\u001b[38;5;241m.\u001b[39mn_classes_ \u001b[38;5;241m=\u001b[39m \u001b[38;5;28mself\u001b[39m\u001b[38;5;241m.\u001b[39mn_classes_[\u001b[38;5;241m0\u001b[39m]\n",
      "\u001b[1;31mKeyboardInterrupt\u001b[0m: "
     ]
    }
   ],
   "source": [
    "# trying to find the best background_limit\n",
    "\n",
    "class PreProcessingTranformer(BaseEstimator, TransformerMixin):\n",
    "    def __init__(self, background_limit=0, **kwargs):\n",
    "        self.background_limit = background_limit\n",
    "        \n",
    "        self._param_names = ['background_limit'] + list(kwargs.keys())\n",
    "        for key, value in kwargs.items():\n",
    "            setattr(self, key, value)\n",
    "        \n",
    "    def get_params(self, deep=True):\n",
    "        return { param: getattr(self, param) for param in self._param_names}\n",
    "        \n",
    "    def set_params(self, **parameters):\n",
    "        for parameter, value in parameters.items():\n",
    "            setattr(self, parameter, value)\n",
    "                \n",
    "    def fit(self, x, y = None):\n",
    "        return self\n",
    "    \n",
    "    def transform(self, X_images, y = None):\n",
    "                \n",
    "        X_images = X_images > self.background_limit\n",
    "        \n",
    "        X_vectors = X_images.reshape(X_images.shape[0], X_images.shape[1] * X_images.shape[2])\n",
    "                  \n",
    "        X_vectors = X_vectors.tolist()\n",
    "        i = 0\n",
    "        for x_vector in X_vectors:\n",
    "            x_vector = np.array(x_vector)\n",
    "            X_vectors[i] = np.append(x_vector, [x_vector.sum()])\n",
    "            i += 1\n",
    "            \n",
    "        X_df = pd.DataFrame(X_vectors)\n",
    "        \n",
    "        return X_df\n",
    "\n",
    "steps = [\n",
    "    ('pre_processing', PreProcessingTranformer()),\n",
    "    ('rcf', RandomForestClassifier(random_state=11))\n",
    "]\n",
    "\n",
    "model = Pipeline(steps)\n",
    "\n",
    "param_grid = {\n",
    "    'pre_processing__background_limit': [0, 3, 9]\n",
    "}\n",
    "\n",
    "model = GridSearchCV(\n",
    "    model, param_grid,\n",
    "    cv = 5\n",
    ")\n",
    "\n",
    "model.fit(X_train_images, y_train)\n",
    "\n",
    "model.score(X_test_images, y_test)\n",
    "\n",
    "# 0 - gives 83.49% - defualt\n",
    "# 3 - gives 84.44% - best score\n",
    "# 9 - gives 83.33% - best param ?"
   ]
  },
  {
   "cell_type": "code",
   "execution_count": 14,
   "id": "fa90590e-bf66-4d58-ae6f-721aa666fc55",
   "metadata": {},
   "outputs": [
    {
     "data": {
      "text/html": [
       "<div>\n",
       "<style scoped>\n",
       "    .dataframe tbody tr th:only-of-type {\n",
       "        vertical-align: middle;\n",
       "    }\n",
       "\n",
       "    .dataframe tbody tr th {\n",
       "        vertical-align: top;\n",
       "    }\n",
       "\n",
       "    .dataframe thead th {\n",
       "        text-align: right;\n",
       "    }\n",
       "</style>\n",
       "<table border=\"1\" class=\"dataframe\">\n",
       "  <thead>\n",
       "    <tr style=\"text-align: right;\">\n",
       "      <th></th>\n",
       "      <th>0</th>\n",
       "      <th>1</th>\n",
       "      <th>2</th>\n",
       "      <th>3</th>\n",
       "      <th>4</th>\n",
       "      <th>5</th>\n",
       "      <th>6</th>\n",
       "      <th>7</th>\n",
       "      <th>8</th>\n",
       "      <th>9</th>\n",
       "      <th>...</th>\n",
       "      <th>247</th>\n",
       "      <th>248</th>\n",
       "      <th>249</th>\n",
       "      <th>250</th>\n",
       "      <th>251</th>\n",
       "      <th>252</th>\n",
       "      <th>253</th>\n",
       "      <th>254</th>\n",
       "      <th>255</th>\n",
       "      <th>Label</th>\n",
       "    </tr>\n",
       "  </thead>\n",
       "  <tbody>\n",
       "    <tr>\n",
       "      <th>0</th>\n",
       "      <td>316.0</td>\n",
       "      <td>12.0</td>\n",
       "      <td>16.0</td>\n",
       "      <td>13.0</td>\n",
       "      <td>5.0</td>\n",
       "      <td>3.0</td>\n",
       "      <td>2.0</td>\n",
       "      <td>1.0</td>\n",
       "      <td>1.0</td>\n",
       "      <td>1.0</td>\n",
       "      <td>...</td>\n",
       "      <td>0.0</td>\n",
       "      <td>1.0</td>\n",
       "      <td>4.0</td>\n",
       "      <td>0.0</td>\n",
       "      <td>3.0</td>\n",
       "      <td>1.0</td>\n",
       "      <td>3.0</td>\n",
       "      <td>4.0</td>\n",
       "      <td>20.0</td>\n",
       "      <td>8</td>\n",
       "    </tr>\n",
       "    <tr>\n",
       "      <th>1</th>\n",
       "      <td>300.0</td>\n",
       "      <td>14.0</td>\n",
       "      <td>10.0</td>\n",
       "      <td>3.0</td>\n",
       "      <td>1.0</td>\n",
       "      <td>1.0</td>\n",
       "      <td>0.0</td>\n",
       "      <td>1.0</td>\n",
       "      <td>0.0</td>\n",
       "      <td>1.0</td>\n",
       "      <td>...</td>\n",
       "      <td>0.0</td>\n",
       "      <td>0.0</td>\n",
       "      <td>0.0</td>\n",
       "      <td>0.0</td>\n",
       "      <td>0.0</td>\n",
       "      <td>0.0</td>\n",
       "      <td>0.0</td>\n",
       "      <td>0.0</td>\n",
       "      <td>1.0</td>\n",
       "      <td>0</td>\n",
       "    </tr>\n",
       "    <tr>\n",
       "      <th>2</th>\n",
       "      <td>471.0</td>\n",
       "      <td>4.0</td>\n",
       "      <td>11.0</td>\n",
       "      <td>5.0</td>\n",
       "      <td>4.0</td>\n",
       "      <td>1.0</td>\n",
       "      <td>0.0</td>\n",
       "      <td>0.0</td>\n",
       "      <td>0.0</td>\n",
       "      <td>0.0</td>\n",
       "      <td>...</td>\n",
       "      <td>0.0</td>\n",
       "      <td>1.0</td>\n",
       "      <td>1.0</td>\n",
       "      <td>1.0</td>\n",
       "      <td>3.0</td>\n",
       "      <td>2.0</td>\n",
       "      <td>2.0</td>\n",
       "      <td>10.0</td>\n",
       "      <td>7.0</td>\n",
       "      <td>3</td>\n",
       "    </tr>\n",
       "    <tr>\n",
       "      <th>3</th>\n",
       "      <td>323.0</td>\n",
       "      <td>10.0</td>\n",
       "      <td>3.0</td>\n",
       "      <td>3.0</td>\n",
       "      <td>1.0</td>\n",
       "      <td>0.0</td>\n",
       "      <td>1.0</td>\n",
       "      <td>1.0</td>\n",
       "      <td>1.0</td>\n",
       "      <td>1.0</td>\n",
       "      <td>...</td>\n",
       "      <td>1.0</td>\n",
       "      <td>0.0</td>\n",
       "      <td>0.0</td>\n",
       "      <td>0.0</td>\n",
       "      <td>1.0</td>\n",
       "      <td>0.0</td>\n",
       "      <td>0.0</td>\n",
       "      <td>0.0</td>\n",
       "      <td>1.0</td>\n",
       "      <td>4</td>\n",
       "    </tr>\n",
       "    <tr>\n",
       "      <th>4</th>\n",
       "      <td>444.0</td>\n",
       "      <td>1.0</td>\n",
       "      <td>9.0</td>\n",
       "      <td>9.0</td>\n",
       "      <td>3.0</td>\n",
       "      <td>0.0</td>\n",
       "      <td>2.0</td>\n",
       "      <td>0.0</td>\n",
       "      <td>0.0</td>\n",
       "      <td>0.0</td>\n",
       "      <td>...</td>\n",
       "      <td>0.0</td>\n",
       "      <td>0.0</td>\n",
       "      <td>0.0</td>\n",
       "      <td>0.0</td>\n",
       "      <td>0.0</td>\n",
       "      <td>0.0</td>\n",
       "      <td>0.0</td>\n",
       "      <td>0.0</td>\n",
       "      <td>1.0</td>\n",
       "      <td>4</td>\n",
       "    </tr>\n",
       "  </tbody>\n",
       "</table>\n",
       "<p>5 rows × 257 columns</p>\n",
       "</div>"
      ],
      "text/plain": [
       "       0     1     2     3    4    5    6    7    8    9  ...  247  248  249  \\\n",
       "0  316.0  12.0  16.0  13.0  5.0  3.0  2.0  1.0  1.0  1.0  ...  0.0  1.0  4.0   \n",
       "1  300.0  14.0  10.0   3.0  1.0  1.0  0.0  1.0  0.0  1.0  ...  0.0  0.0  0.0   \n",
       "2  471.0   4.0  11.0   5.0  4.0  1.0  0.0  0.0  0.0  0.0  ...  0.0  1.0  1.0   \n",
       "3  323.0  10.0   3.0   3.0  1.0  0.0  1.0  1.0  1.0  1.0  ...  1.0  0.0  0.0   \n",
       "4  444.0   1.0   9.0   9.0  3.0  0.0  2.0  0.0  0.0  0.0  ...  0.0  0.0  0.0   \n",
       "\n",
       "   250  251  252  253   254   255  Label  \n",
       "0  0.0  3.0  1.0  3.0   4.0  20.0      8  \n",
       "1  0.0  0.0  0.0  0.0   0.0   1.0      0  \n",
       "2  1.0  3.0  2.0  2.0  10.0   7.0      3  \n",
       "3  0.0  1.0  0.0  0.0   0.0   1.0      4  \n",
       "4  0.0  0.0  0.0  0.0   0.0   1.0      4  \n",
       "\n",
       "[5 rows x 257 columns]"
      ]
     },
     "execution_count": 14,
     "metadata": {},
     "output_type": "execute_result"
    }
   ],
   "source": [
    "# Visual Colors Count\n",
    "\n",
    "X_images = X_train_images\n",
    "y = y_train\n",
    "\n",
    "X_vectors = X_images.reshape(X_images.shape[0], X_images.shape[1] * X_images.shape[2])\n",
    "\n",
    "new_data = list()\n",
    "\n",
    "i = 0\n",
    "for x_vector in X_vectors:\n",
    "    vector = list()\n",
    "    for color in range(0, 256, 1):\n",
    "             vector = np.append(vector, [(x_vector == color).sum()])\n",
    "            \n",
    "    new_data.append(vector)\n",
    "    i += 1\n",
    "            \n",
    "X_df = pd.DataFrame(new_data)\n",
    "X_df['Label'] = y\n",
    "\n",
    "X_df.head()"
   ]
  },
  {
   "cell_type": "code",
   "execution_count": 15,
   "id": "924db639-0745-4d79-97e0-0dfa0f52bc1d",
   "metadata": {},
   "outputs": [
    {
     "data": {
      "text/plain": [
       "0        393.566838\n",
       "1          8.007585\n",
       "2          4.805866\n",
       "3          3.200565\n",
       "255        6.326166\n",
       "Label      4.501497\n",
       "dtype: float64"
      ]
     },
     "execution_count": 15,
     "metadata": {},
     "output_type": "execute_result"
    }
   ],
   "source": [
    "X_df.mean()[X_df.mean() >= 3]"
   ]
  },
  {
   "cell_type": "markdown",
   "id": "c2db62cf-aa41-4896-bff8-704d4231a6b9",
   "metadata": {},
   "source": [
    "So most of the pixels arr 0 (black)"
   ]
  },
  {
   "cell_type": "code",
   "execution_count": 16,
   "id": "94c78351-092f-4b41-af5d-2cdf76d003f9",
   "metadata": {},
   "outputs": [
    {
     "data": {
      "image/png": "[encoded data removed]",
      "text/plain": [
       "<Figure size 432x288 with 1 Axes>"
      ]
     },
     "metadata": {
      "needs_background": "light"
     },
     "output_type": "display_data"
    }
   ],
   "source": [
    "plt.plot(X_df.groupby('Label')[0].mean())\n",
    "plt.xticks(np.sort(X_df['Label'].unique()))\n",
    "plt.show()"
   ]
  },
  {
   "cell_type": "markdown",
   "id": "e8cabe98-4cc6-4547-9f6c-be5af739003f",
   "metadata": {},
   "source": [
    "Need to add Text to the labels"
   ]
  },
  {
   "cell_type": "code",
   "execution_count": 17,
   "id": "160c0830-c822-4455-b823-b3595e4d0c45",
   "metadata": {},
   "outputs": [
    {
     "data": {
      "text/plain": [
       "<Figure size 432x288 with 0 Axes>"
      ]
     },
     "metadata": {},
     "output_type": "display_data"
    },
    {
     "data": {
      "image/png": "[encoded data removed]",
      "text/plain": [
       "<Figure size 1332x756 with 10 Axes>"
      ]
     },
     "metadata": {
      "needs_background": "light"
     },
     "output_type": "display_data"
    }
   ],
   "source": [
    "labels = np.sort(X_df['Label'].unique()).tolist()\n",
    "images_to_show = np.full(len(labels), None)\n",
    "while len(labels) > 0:\n",
    "    label = labels.pop()\n",
    "    images_to_show[label] = [label, X_images[y == label][0]]\n",
    "\n",
    "# Show Images\n",
    "plt.figure()\n",
    "\n",
    "fig = plt.figure()\n",
    "\n",
    "fig.set_size_inches(18.5, 10.5)\n",
    "\n",
    "i = 0\n",
    "for item in images_to_show:\n",
    "    (label, img) = item\n",
    "    \n",
    "    ax = fig.add_subplot((int)(len(images_to_show) / 4)+1, 4, i+1)\n",
    "        \n",
    "    ax.get_xaxis().set_visible(False)\n",
    "    ax.get_yaxis().set_visible(False)\n",
    "    \n",
    "    ax.set_title(label)\n",
    "    ax.imshow(img, cmap='gray')\n",
    "    \n",
    "    i += 1\n",
    "\n",
    "plt.style.use('classic')\n",
    "\n",
    "plt.show()"
   ]
  },
  {
   "cell_type": "markdown",
   "id": "cd6ae94d-5f72-489c-b632-c4a8c14b5536",
   "metadata": {},
   "source": [
    "Continue with the improving"
   ]
  },
  {
   "cell_type": "code",
   "execution_count": 172,
   "id": "a5bbfcec-9418-46ce-9f55-9ab0daf9648b",
   "metadata": {},
   "outputs": [
    {
     "data": {
      "text/plain": [
       "0.8507936507936508"
      ]
     },
     "execution_count": 172,
     "metadata": {},
     "output_type": "execute_result"
    }
   ],
   "source": [
    "class PreProcessingTranformer(BaseEstimator, TransformerMixin):\n",
    "    def __init__(self, background_limit=0, **kwargs):\n",
    "        self.background_limit = background_limit\n",
    "        \n",
    "        self._param_names = ['background_limit'] + list(kwargs.keys())\n",
    "        for key, value in kwargs.items():\n",
    "            setattr(self, key, value)\n",
    "        \n",
    "    def get_params(self, deep=True):\n",
    "        return { param: getattr(self, param) for param in self._param_names}\n",
    "        \n",
    "    def set_params(self, **parameters):\n",
    "        for parameter, value in parameters.items():\n",
    "            setattr(self, parameter, value)\n",
    "                \n",
    "    def fit(self, x, y = None):\n",
    "        return self\n",
    "    \n",
    "    def transform(self, X_images, y = None):\n",
    "        \n",
    "        X_images_zero = X_images == 0\n",
    "        \n",
    "        feature_list = []\n",
    "        for image in X_images_zero:\n",
    "            rows = np.sum(image, axis=0)\n",
    "            collumns = np.sum(image, axis=1)\n",
    "            feature_list.append(np.block([rows,collumns]))\n",
    "        \n",
    "        feature_list_df = pd.DataFrame(np.array(feature_list))\n",
    "        \n",
    "        X_images = X_images > self.background_limit\n",
    "        \n",
    "        X_vectors = X_images.reshape(X_images.shape[0], X_images.shape[1] * X_images.shape[2])\n",
    "                  \n",
    "        X_vectors = X_vectors.tolist()\n",
    "        i = 0\n",
    "        for x_vector in X_vectors:\n",
    "            x_vector = np.array(x_vector)\n",
    "            X_vectors[i] = np.append(x_vector, [x_vector.sum()])\n",
    "            i += 1\n",
    "            \n",
    "        X_df = pd.DataFrame(X_vectors)\n",
    "                        \n",
    "        return pd.concat([feature_list_df, X_df], axis=1)\n",
    "\n",
    "steps = [\n",
    "    ('pre_processing', PreProcessingTranformer()),\n",
    "    ('rcf', RandomForestClassifier(random_state=11))\n",
    "]\n",
    "\n",
    "model = Pipeline(steps)\n",
    "\n",
    "param_grid = {\n",
    "    'pre_processing__background_limit': [3]\n",
    "}\n",
    "\n",
    "model = GridSearchCV(\n",
    "    model, param_grid,\n",
    "    cv = 5\n",
    ")\n",
    "\n",
    "model.fit(X_train_images, y_train)\n",
    "\n",
    "model.score(X_test_images, y_test)\n",
    "# 85.07% by lior"
   ]
  },
  {
   "cell_type": "code",
   "execution_count": null,
   "id": "e65dbd39-41dc-453b-bbdb-4231f539f04c",
   "metadata": {},
   "outputs": [],
   "source": []
  },
  {
   "cell_type": "code",
   "execution_count": 20,
   "id": "d91a6741-8211-4608-9135-ddfa84da0239",
   "metadata": {},
   "outputs": [
    {
     "data": {
      "text/plain": [
       "0.8634920634920635"
      ]
     },
     "execution_count": 20,
     "metadata": {},
     "output_type": "execute_result"
    }
   ],
   "source": [
    "class PreProcessingTranformer(BaseEstimator, TransformerMixin):\n",
    "    def __init__(self, background_limit=0, **kwargs):\n",
    "        self.background_limit = background_limit\n",
    "        \n",
    "        self._param_names = ['background_limit'] + list(kwargs.keys())\n",
    "        for key, value in kwargs.items():\n",
    "            setattr(self, key, value)\n",
    "        \n",
    "    def get_params(self, deep=True):\n",
    "        return { param: getattr(self, param) for param in self._param_names}\n",
    "        \n",
    "    def set_params(self, **parameters):\n",
    "        for parameter, value in parameters.items():\n",
    "            setattr(self, parameter, value)\n",
    "                \n",
    "    def fit(self, x, y = None):\n",
    "        return self\n",
    "    \n",
    "    def transform(self, X_images, y = None):\n",
    "        \n",
    "        X_images_zero = X_images == 0\n",
    "        \n",
    "        feature_list = []\n",
    "        for image in X_images_zero:\n",
    "            rows = np.sum(image, axis=0)\n",
    "            collumns = np.sum(image, axis=1)\n",
    "            feature_list.append(np.block([rows,collumns]))\n",
    "        \n",
    "        feature_list_df = pd.DataFrame(np.array(feature_list))\n",
    "        \n",
    "        X_images = X_images > self.background_limit\n",
    "        \n",
    "        X_vectors = X_images.reshape(X_images.shape[0], X_images.shape[1] * X_images.shape[2])\n",
    "                  \n",
    "        X_vectors = X_vectors.tolist()\n",
    "        i = 0\n",
    "        for x_vector in X_vectors:\n",
    "            x_vector = np.array(x_vector)\n",
    "            X_vectors[i] = np.append(x_vector, [x_vector.sum()])\n",
    "            i += 1\n",
    "            \n",
    "        X_df = pd.DataFrame(X_vectors)\n",
    "                        \n",
    "        return pd.concat([feature_list_df, X_df], axis=1)\n",
    "\n",
    "steps = [\n",
    "    ('pre_processing', PreProcessingTranformer()),\n",
    "    ('rcf', RandomForestClassifier(random_state=11))\n",
    "]\n",
    "\n",
    "model = Pipeline(steps)\n",
    "\n",
    "param_grid = {\n",
    "    'pre_processing__background_limit': [0]\n",
    "}\n",
    "\n",
    "model = GridSearchCV(\n",
    "    model, param_grid\n",
    ")\n",
    "\n",
    "model.fit(X_train_images, y_train)\n",
    "\n",
    "model.score(X_test_images, y_test)\n",
    "\n",
    "# Score 0.863"
   ]
  },
  {
   "cell_type": "code",
   "execution_count": 25,
   "id": "a7f8570e-d861-4475-b2f8-c13b4a393eff",
   "metadata": {},
   "outputs": [
    {
     "name": "stdout",
     "output_type": "stream",
     "text": [
      "(100, 0.8634920634920635)\n",
      "(150, 0.8658730158730159)\n",
      "(200, 0.8738095238095238)\n",
      "(250, 0.873015873015873)\n",
      "(300, 0.873015873015873)\n",
      "(350, 0.8738095238095238)\n",
      "(400, 0.8738095238095238)\n",
      "(450, 0.8722222222222222)\n",
      "(500, 0.8746031746031746)\n",
      "(550, 0.8714285714285714)\n",
      "(600, 0.8753968253968254)\n",
      "(650, 0.8746031746031746)\n",
      "(700, 0.8753968253968254)\n",
      "(750, 0.8738095238095238)\n",
      "(800, 0.8761904761904762)\n",
      "(850, 0.8753968253968254)\n",
      "(900, 0.8738095238095238)\n",
      "(950, 0.873015873015873)\n",
      "(1000, 0.8722222222222222)\n",
      "(1050, 0.873015873015873)\n",
      "(1100, 0.8738095238095238)\n",
      "(1150, 0.8738095238095238)\n",
      "(1200, 0.8722222222222222)\n"
     ]
    },
    {
     "data": {
      "text/html": [
       "<div>\n",
       "<style scoped>\n",
       "    .dataframe tbody tr th:only-of-type {\n",
       "        vertical-align: middle;\n",
       "    }\n",
       "\n",
       "    .dataframe tbody tr th {\n",
       "        vertical-align: top;\n",
       "    }\n",
       "\n",
       "    .dataframe thead th {\n",
       "        text-align: right;\n",
       "    }\n",
       "</style>\n",
       "<table border=\"1\" class=\"dataframe\">\n",
       "  <thead>\n",
       "    <tr style=\"text-align: right;\">\n",
       "      <th></th>\n",
       "      <th>0</th>\n",
       "      <th>1</th>\n",
       "    </tr>\n",
       "  </thead>\n",
       "  <tbody>\n",
       "    <tr>\n",
       "      <th>0</th>\n",
       "      <td>100</td>\n",
       "      <td>0.863492</td>\n",
       "    </tr>\n",
       "    <tr>\n",
       "      <th>1</th>\n",
       "      <td>150</td>\n",
       "      <td>0.865873</td>\n",
       "    </tr>\n",
       "    <tr>\n",
       "      <th>2</th>\n",
       "      <td>200</td>\n",
       "      <td>0.873810</td>\n",
       "    </tr>\n",
       "    <tr>\n",
       "      <th>3</th>\n",
       "      <td>250</td>\n",
       "      <td>0.873016</td>\n",
       "    </tr>\n",
       "    <tr>\n",
       "      <th>4</th>\n",
       "      <td>300</td>\n",
       "      <td>0.873016</td>\n",
       "    </tr>\n",
       "    <tr>\n",
       "      <th>5</th>\n",
       "      <td>350</td>\n",
       "      <td>0.873810</td>\n",
       "    </tr>\n",
       "    <tr>\n",
       "      <th>6</th>\n",
       "      <td>400</td>\n",
       "      <td>0.873810</td>\n",
       "    </tr>\n",
       "    <tr>\n",
       "      <th>7</th>\n",
       "      <td>450</td>\n",
       "      <td>0.872222</td>\n",
       "    </tr>\n",
       "    <tr>\n",
       "      <th>8</th>\n",
       "      <td>500</td>\n",
       "      <td>0.874603</td>\n",
       "    </tr>\n",
       "    <tr>\n",
       "      <th>9</th>\n",
       "      <td>550</td>\n",
       "      <td>0.871429</td>\n",
       "    </tr>\n",
       "    <tr>\n",
       "      <th>10</th>\n",
       "      <td>600</td>\n",
       "      <td>0.875397</td>\n",
       "    </tr>\n",
       "    <tr>\n",
       "      <th>11</th>\n",
       "      <td>650</td>\n",
       "      <td>0.874603</td>\n",
       "    </tr>\n",
       "    <tr>\n",
       "      <th>12</th>\n",
       "      <td>700</td>\n",
       "      <td>0.875397</td>\n",
       "    </tr>\n",
       "    <tr>\n",
       "      <th>13</th>\n",
       "      <td>750</td>\n",
       "      <td>0.873810</td>\n",
       "    </tr>\n",
       "    <tr>\n",
       "      <th>14</th>\n",
       "      <td>800</td>\n",
       "      <td>0.876190</td>\n",
       "    </tr>\n",
       "    <tr>\n",
       "      <th>15</th>\n",
       "      <td>850</td>\n",
       "      <td>0.875397</td>\n",
       "    </tr>\n",
       "    <tr>\n",
       "      <th>16</th>\n",
       "      <td>900</td>\n",
       "      <td>0.873810</td>\n",
       "    </tr>\n",
       "    <tr>\n",
       "      <th>17</th>\n",
       "      <td>950</td>\n",
       "      <td>0.873016</td>\n",
       "    </tr>\n",
       "    <tr>\n",
       "      <th>18</th>\n",
       "      <td>1000</td>\n",
       "      <td>0.872222</td>\n",
       "    </tr>\n",
       "    <tr>\n",
       "      <th>19</th>\n",
       "      <td>1050</td>\n",
       "      <td>0.873016</td>\n",
       "    </tr>\n",
       "    <tr>\n",
       "      <th>20</th>\n",
       "      <td>1100</td>\n",
       "      <td>0.873810</td>\n",
       "    </tr>\n",
       "    <tr>\n",
       "      <th>21</th>\n",
       "      <td>1150</td>\n",
       "      <td>0.873810</td>\n",
       "    </tr>\n",
       "    <tr>\n",
       "      <th>22</th>\n",
       "      <td>1200</td>\n",
       "      <td>0.872222</td>\n",
       "    </tr>\n",
       "  </tbody>\n",
       "</table>\n",
       "</div>"
      ],
      "text/plain": [
       "       0         1\n",
       "0    100  0.863492\n",
       "1    150  0.865873\n",
       "2    200  0.873810\n",
       "3    250  0.873016\n",
       "4    300  0.873016\n",
       "5    350  0.873810\n",
       "6    400  0.873810\n",
       "7    450  0.872222\n",
       "8    500  0.874603\n",
       "9    550  0.871429\n",
       "10   600  0.875397\n",
       "11   650  0.874603\n",
       "12   700  0.875397\n",
       "13   750  0.873810\n",
       "14   800  0.876190\n",
       "15   850  0.875397\n",
       "16   900  0.873810\n",
       "17   950  0.873016\n",
       "18  1000  0.872222\n",
       "19  1050  0.873016\n",
       "20  1100  0.873810\n",
       "21  1150  0.873810\n",
       "22  1200  0.872222"
      ]
     },
     "execution_count": 25,
     "metadata": {},
     "output_type": "execute_result"
    }
   ],
   "source": [
    "class PreProcessingTranformer(BaseEstimator, TransformerMixin):\n",
    "    def __init__(self, background_limit=0, **kwargs):\n",
    "        self.background_limit = background_limit\n",
    "        \n",
    "        self._param_names = ['background_limit'] + list(kwargs.keys())\n",
    "        for key, value in kwargs.items():\n",
    "            setattr(self, key, value)\n",
    "        \n",
    "    def get_params(self, deep=True):\n",
    "        return { param: getattr(self, param) for param in self._param_names}\n",
    "        \n",
    "    def set_params(self, **parameters):\n",
    "        for parameter, value in parameters.items():\n",
    "            setattr(self, parameter, value)\n",
    "                \n",
    "    def fit(self, x, y = None):\n",
    "        return self\n",
    "    \n",
    "    def transform(self, X_images, y = None):\n",
    "        \n",
    "        X_images_zero = X_images == 0\n",
    "        \n",
    "        feature_list = []\n",
    "        for image in X_images_zero:\n",
    "            rows = np.sum(image, axis=0)\n",
    "            collumns = np.sum(image, axis=1)\n",
    "            feature_list.append(np.block([rows,collumns]))\n",
    "        \n",
    "        feature_list_df = pd.DataFrame(np.array(feature_list))\n",
    "        \n",
    "        X_images = X_images > self.background_limit\n",
    "        \n",
    "        X_vectors = X_images.reshape(X_images.shape[0], X_images.shape[1] * X_images.shape[2])\n",
    "                  \n",
    "        X_vectors = X_vectors.tolist()\n",
    "        i = 0\n",
    "        for x_vector in X_vectors:\n",
    "            x_vector = np.array(x_vector)\n",
    "            X_vectors[i] = np.append(x_vector, [x_vector.sum()])\n",
    "            i += 1\n",
    "            \n",
    "        X_df = pd.DataFrame(X_vectors)\n",
    "                        \n",
    "        return pd.concat([feature_list_df, X_df], axis=1)\n",
    "\n",
    "pre_processing = PreProcessingTranformer(background_limit=0)\n",
    "\n",
    "X_train_pre = pre_processing.transform(X_train_images, y_train)\n",
    "X_test_pre = pre_processing.transform(X_test_images, y_test)\n",
    "\n",
    "scores_res = []\n",
    "for n in range(100, 1200+1, 50):\n",
    "    model = RandomForestClassifier(random_state=11, n_estimators=n)\n",
    "    \n",
    "    model.fit(X_train_pre, y_train)\n",
    "\n",
    "    model.score(X_test_pre, y_test)\n",
    "    \n",
    "    score_res = model.score(X_test_pre, y_test)\n",
    "        \n",
    "    scores_res.append((n, score_res))\n",
    "    print((n, score_res))\n",
    "    \n",
    "data = pd.DataFrame(scores_res).sort_values(by=0)\n",
    "data"
   ]
  },
  {
   "cell_type": "code",
   "execution_count": 27,
   "id": "cfd01468-b554-4870-a4cc-63af42bb97ef",
   "metadata": {},
   "outputs": [
    {
     "data": {
      "image/png": "[encoded data removed]",
      "text/plain": [
       "<Figure size 640x480 with 1 Axes>"
      ]
     },
     "metadata": {},
     "output_type": "display_data"
    }
   ],
   "source": [
    "x,y = data[0], data[1]\n",
    "plt.plot(x, y)\n",
    "plt.xticks(x)\n",
    "plt.yticks(y)\n",
    "\n",
    "None"
   ]
  },
  {
   "cell_type": "code",
   "execution_count": 42,
   "id": "999fddaa-c764-4f52-a00a-786bf9706ed0",
   "metadata": {},
   "outputs": [
    {
     "data": {
      "image/png": "[encoded data removed]",
      "text/plain": [
       "<Figure size 640x480 with 1 Axes>"
      ]
     },
     "metadata": {},
     "output_type": "display_data"
    }
   ],
   "source": [
    "data_show = data[2:-1]\n",
    "x,y = data_show[0], data_show[1]\n",
    "plt.plot(x, y)\n",
    "plt.xticks(x)\n",
    "plt.yticks(y)\n",
    "\n",
    "None"
   ]
  },
  {
   "cell_type": "code",
   "execution_count": 47,
   "id": "6de53ea0-df2d-40fe-b66a-1bc483b23ce0",
   "metadata": {},
   "outputs": [
    {
     "data": {
      "image/png": "[encoded data removed]",
      "text/plain": [
       "<Figure size 640x480 with 1 Axes>"
      ]
     },
     "metadata": {},
     "output_type": "display_data"
    }
   ],
   "source": [
    "data_show = data[10:-10]\n",
    "x,y = data_show[0], data_show[1]\n",
    "plt.plot(x, y)\n",
    "plt.xticks(x)\n",
    "plt.yticks(y)\n",
    "\n",
    "None"
   ]
  },
  {
   "cell_type": "code",
   "execution_count": null,
   "id": "1cdc8b4d-be7a-49b0-935d-1c9190cb9d01",
   "metadata": {},
   "outputs": [],
   "source": [
    "# Complit\n",
    "\n",
    "class PreProcessingTranformer(BaseEstimator, TransformerMixin):\n",
    "    def __init__(self, background_limit=0, **kwargs):\n",
    "        self.background_limit = background_limit\n",
    "        \n",
    "        self._param_names = ['background_limit'] + list(kwargs.keys())\n",
    "        for key, value in kwargs.items():\n",
    "            setattr(self, key, value)\n",
    "        \n",
    "    def get_params(self, deep=True):\n",
    "        return { param: getattr(self, param) for param in self._param_names}\n",
    "        \n",
    "    def set_params(self, **parameters):\n",
    "        for parameter, value in parameters.items():\n",
    "            setattr(self, parameter, value)\n",
    "                \n",
    "    def fit(self, x, y = None):\n",
    "        return self\n",
    "    \n",
    "    def transform(self, X_images, y = None):\n",
    "        \n",
    "        X_images_zero = X_images == 0\n",
    "        \n",
    "        feature_list = []\n",
    "        for image in X_images_zero:\n",
    "            rows = np.sum(image, axis=0)\n",
    "            collumns = np.sum(image, axis=1)\n",
    "            feature_list.append(np.block([rows,collumns]))\n",
    "        \n",
    "        feature_list_df = pd.DataFrame(np.array(feature_list))\n",
    "        \n",
    "        X_images = X_images > self.background_limit\n",
    "        \n",
    "        X_vectors = X_images.reshape(X_images.shape[0], X_images.shape[1] * X_images.shape[2])\n",
    "                  \n",
    "        X_vectors = X_vectors.tolist()\n",
    "        i = 0\n",
    "        for x_vector in X_vectors:\n",
    "            x_vector = np.array(x_vector)\n",
    "            X_vectors[i] = np.append(x_vector, [x_vector.sum()])\n",
    "            i += 1\n",
    "            \n",
    "        X_df = pd.DataFrame(X_vectors)\n",
    "                        \n",
    "        return pd.concat([feature_list_df, X_df], axis=1)\n",
    "\n",
    "steps = [\n",
    "    ('pre_processing', PreProcessingTranformer()),\n",
    "    ('rcf', RandomForestClassifier(random_state=11, n_estimators=600))\n",
    "]\n",
    "\n",
    "model = Pipeline(steps)\n",
    "\n",
    "param_grid = {\n",
    "    'pre_processing__background_limit': [0]\n",
    "}\n",
    "\n",
    "model = GridSearchCV(\n",
    "    model, param_grid\n",
    ")\n",
    "\n",
    "model.fit(X_train_images, y_train)\n",
    "\n",
    "model.score(X_test_images, y_test)\n",
    "\n",
    "# Score "
   ]
  }
 ],
 "metadata": {
  "kernelspec": {
   "display_name": "Python 3 (ipykernel)",
   "language": "python",
   "name": "python3"
  },
  "language_info": {
   "codemirror_mode": {
    "name": "ipython",
    "version": 3
   },
   "file_extension": ".py",
   "mimetype": "text/x-python",
   "name": "python",
   "nbconvert_exporter": "python",
   "pygments_lexer": "ipython3",
   "version": "3.9.6"
  }
 },
 "nbformat": 4,
 "nbformat_minor": 5
}
