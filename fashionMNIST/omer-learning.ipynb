{
 "cells": [
  {
   "cell_type": "code",
   "execution_count": 1,
   "id": "4ef7a869-69e6-4a36-beb2-6de07d53124d",
   "metadata": {},
   "outputs": [],
   "source": [
    "import os\n",
    "import sys\n",
    "\n",
    "import numpy as np\n",
    "import pandas as pd\n",
    "\n",
    "import matplotlib.pyplot as plt\n",
    "\n",
    "import tensorflow as tf\n",
    "import tensorflow.keras.datasets\n",
    "\n",
    "import sklearn"
   ]
  },
  {
   "cell_type": "code",
   "execution_count": 2,
   "id": "704441c1-63fe-4cfd-b164-fcd1f6e5d6ad",
   "metadata": {},
   "outputs": [],
   "source": [
    "# Functions\n",
    "from sklearn.model_selection import train_test_split\n",
    "from sklearn.experimental import enable_halving_search_cv\n",
    "\n",
    "# Tools\n",
    "from sklearn.model_selection import HalvingRandomSearchCV\n",
    "\n",
    "# ML Models\n",
    "from sklearn.linear_model import LogisticRegression\n",
    "from sklearn.ensemble import RandomForestClassifier"
   ]
  },
  {
   "cell_type": "code",
   "execution_count": 3,
   "id": "32f211e9-cce8-4016-8d9c-285f3a6ebc6d",
   "metadata": {},
   "outputs": [],
   "source": [
    "fashion_mnist = tf.keras.datasets.fashion_mnist\n",
    "(train_images, train_labels), (test_images, test_labels) = fashion_mnist.load_data()"
   ]
  },
  {
   "cell_type": "code",
   "execution_count": 4,
   "id": "5b0242c6-e52e-414f-b75d-3171885465ee",
   "metadata": {},
   "outputs": [],
   "source": [
    "X_final_train_images, X_final_test_images, y_final_train, y_final_test = train_test_split(train_images, train_labels, test_size=0.3, random_state=42)"
   ]
  },
  {
   "cell_type": "code",
   "execution_count": 5,
   "id": "f09246bb-9fd2-48de-9658-3e732ee33670",
   "metadata": {},
   "outputs": [
    {
     "data": {
      "image/png": "[encoded data removed]",
      "text/plain": [
       "<Figure size 432x288 with 1 Axes>"
      ]
     },
     "metadata": {
      "needs_background": "light"
     },
     "output_type": "display_data"
    },
    {
     "data": {
      "image/png": "[encoded data removed]",
      "text/plain": [
       "<Figure size 432x288 with 1 Axes>"
      ]
     },
     "metadata": {
      "needs_background": "light"
     },
     "output_type": "display_data"
    },
    {
     "name": "stdout",
     "output_type": "stream",
     "text": [
      "1\n"
     ]
    }
   ],
   "source": [
    "# origin\n",
    "plt.imshow(X_final_train_images[0])\n",
    "plt.show()\n",
    "\n",
    "# grayscale \n",
    "plt.imshow(X_final_train_images[0], cmap='gray')\n",
    "plt.show()\n",
    "\n",
    "print(y_final_train[0])\n",
    "\n",
    "def print_sample(img):\n",
    "    plt.imshow(img, cmap='gray')\n",
    "    plt.show()"
   ]
  },
  {
   "cell_type": "code",
   "execution_count": 6,
   "id": "69e2cd8e-0978-429c-99ad-759f4b4a1fe1",
   "metadata": {},
   "outputs": [],
   "source": [
    "X_train_images, X_test_images, y_train, y_test = train_test_split(X_final_train_images, y_final_train, test_size=0.3, random_state=11)"
   ]
  },
  {
   "cell_type": "code",
   "execution_count": 7,
   "id": "5b272b2d-063b-469a-bd3b-e964642968b8",
   "metadata": {},
   "outputs": [],
   "source": [
    "X_train = X_train_images.reshape(X_train_images.shape[0], 784)\n",
    "X_test = X_test_images.reshape(X_test_images.shape[0], 784)"
   ]
  },
  {
   "cell_type": "code",
   "execution_count": 8,
   "id": "167272e3-88a4-4562-99bf-eefaf69917ee",
   "metadata": {},
   "outputs": [
    {
     "data": {
      "text/plain": [
       "0.8743650793650793"
      ]
     },
     "execution_count": 8,
     "metadata": {},
     "output_type": "execute_result"
    }
   ],
   "source": [
    "# Try first random forast\n",
    "rfc = RandomForestClassifier(random_state=11)\n",
    "\n",
    "rfc.fit(X_train, y_train)\n",
    "\n",
    "rfc.score(X_test, y_test)\n",
    "# 87.43%"
   ]
  },
  {
   "cell_type": "code",
   "execution_count": 117,
   "id": "225bb9e9-46e3-4390-8b4f-b57f0b3e5653",
   "metadata": {},
   "outputs": [
    {
     "name": "stdout",
     "output_type": "stream",
     "text": [
      "8820 : 3780\n"
     ]
    }
   ],
   "source": [
    "X_train_images, X_test_images, y_train, y_test = train_test_split(X_final_train_images, y_final_train, test_size=0.7, random_state=11)\n",
    "X_train_images, X_test_images, y_train, y_test = train_test_split(X_train_images, y_train, test_size=0.3, random_state=11)\n",
    "\n",
    "print(len(X_train_images), \":\", len(X_test_images))"
   ]
  },
  {
   "cell_type": "code",
   "execution_count": 29,
   "id": "de2c48d3-44ed-4113-91ca-e74e16c79885",
   "metadata": {},
   "outputs": [],
   "source": [
    "X_train = X_train_images.reshape(X_train_images.shape[0], 784)\n",
    "X_test = X_test_images.reshape(X_test_images.shape[0], 784)"
   ]
  },
  {
   "cell_type": "code",
   "execution_count": 30,
   "id": "a7935d6a-1bfa-4ade-9a19-8f7ed967b7da",
   "metadata": {},
   "outputs": [
    {
     "data": {
      "text/plain": [
       "0.8510582010582011"
      ]
     },
     "execution_count": 30,
     "metadata": {},
     "output_type": "execute_result"
    }
   ],
   "source": [
    "# Try first random forast\n",
    "rfc = RandomForestClassifier(random_state=11)\n",
    "\n",
    "rfc.fit(X_train, y_train)\n",
    "\n",
    "rfc.score(X_test, y_test)\n",
    "# 85.10% in 10 sec"
   ]
  },
  {
   "cell_type": "code",
   "execution_count": 77,
   "id": "3ddeb712-6081-4ae3-8e6d-be14d121da57",
   "metadata": {},
   "outputs": [],
   "source": [
    "SEPERATES_COUNT = 5\n",
    "\n",
    "seperates = np.linspace(0, 255, SEPERATES_COUNT).tolist()\n",
    "\n",
    "X_train_df = pd.DataFrame(X_train)\n",
    "X_test_df = pd.DataFrame(X_test)\n",
    "\n",
    "def add_seperates_sum(arr: np.array):\n",
    "    for i in range(1, SEPERATES_COUNT):\n",
    "        arr['sep_' + str(i)] = ((seperates[i-1] <= arr) & (arr <= seperates[i])).sum()\n",
    "    \n",
    "    return arr\n",
    "\n",
    "X_train_df = X_train_df.apply(add_seperates_sum, axis=1)\n",
    "X_test_df = X_test_df.apply(add_seperates_sum, axis=1)"
   ]
  },
  {
   "cell_type": "code",
   "execution_count": 78,
   "id": "2c7351de-f8ae-4141-8307-13091984dbc3",
   "metadata": {},
   "outputs": [
    {
     "name": "stderr",
     "output_type": "stream",
     "text": [
      "c:\\users\\omer2\\appdata\\local\\programs\\python\\python39\\lib\\site-packages\\sklearn\\utils\\validation.py:1675: FutureWarning: Feature names only support names that are all strings. Got feature names with dtypes: ['int', 'str']. An error will be raised in 1.2.\n",
      "  warnings.warn(\n",
      "c:\\users\\omer2\\appdata\\local\\programs\\python\\python39\\lib\\site-packages\\sklearn\\utils\\validation.py:1675: FutureWarning: Feature names only support names that are all strings. Got feature names with dtypes: ['int', 'str']. An error will be raised in 1.2.\n",
      "  warnings.warn(\n"
     ]
    },
    {
     "data": {
      "text/plain": [
       "0.8507936507936508"
      ]
     },
     "execution_count": 78,
     "metadata": {},
     "output_type": "execute_result"
    }
   ],
   "source": [
    "rfc = RandomForestClassifier(random_state=11)\n",
    "\n",
    "rfc.fit(X_train_df, y_train)\n",
    "\n",
    "rfc.score(X_test_df, y_test)\n",
    "# Not work"
   ]
  },
  {
   "cell_type": "code",
   "execution_count": 97,
   "id": "8a6e4916-889d-415c-ad85-9f8273c9b0a5",
   "metadata": {},
   "outputs": [],
   "source": [
    "X_train_df = pd.DataFrame(X_train)\n",
    "X_test_df = pd.DataFrame(X_test)\n",
    "\n",
    "def add_seperates_sum(arr: np.array):\n",
    "    arr['zero'] = (arr == 0).sum()\n",
    "\n",
    "    return arr\n",
    "\n",
    "X_train_df = X_train_df.apply(add_seperates_sum, axis=1)\n",
    "X_test_df = X_test_df.apply(add_seperates_sum, axis=1)"
   ]
  },
  {
   "cell_type": "code",
   "execution_count": 96,
   "id": "ace0acdc-de82-484c-a767-d1e0b98f0937",
   "metadata": {},
   "outputs": [
    {
     "name": "stderr",
     "output_type": "stream",
     "text": [
      "c:\\users\\omer2\\appdata\\local\\programs\\python\\python39\\lib\\site-packages\\sklearn\\utils\\validation.py:1675: FutureWarning: Feature names only support names that are all strings. Got feature names with dtypes: ['int', 'str']. An error will be raised in 1.2.\n",
      "  warnings.warn(\n",
      "c:\\users\\omer2\\appdata\\local\\programs\\python\\python39\\lib\\site-packages\\sklearn\\utils\\validation.py:1675: FutureWarning: Feature names only support names that are all strings. Got feature names with dtypes: ['int', 'str']. An error will be raised in 1.2.\n",
      "  warnings.warn(\n"
     ]
    },
    {
     "data": {
      "text/plain": [
       "0.8547619047619047"
      ]
     },
     "execution_count": 96,
     "metadata": {},
     "output_type": "execute_result"
    }
   ],
   "source": [
    "rfc = RandomForestClassifier(random_state=11)\n",
    "\n",
    "rfc.fit(X_train_df, y_train)\n",
    "\n",
    "rfc.score(X_test_df, y_test)\n",
    "# 85.47%"
   ]
  },
  {
   "cell_type": "code",
   "execution_count": 114,
   "id": "abe2e072-eeb1-4cb3-8dae-5f0bbcf8e55a",
   "metadata": {},
   "outputs": [
    {
     "data": {
      "image/png": "[encoded data removed]",
      "text/plain": [
       "<Figure size 432x288 with 1 Axes>"
      ]
     },
     "metadata": {
      "needs_background": "light"
     },
     "output_type": "display_data"
    },
    {
     "name": "stdout",
     "output_type": "stream",
     "text": [
      "541\n",
      "243\n"
     ]
    },
    {
     "data": {
      "image/png": "[encoded data removed]",
      "text/plain": [
       "<Figure size 432x288 with 1 Axes>"
      ]
     },
     "metadata": {
      "needs_background": "light"
     },
     "output_type": "display_data"
    }
   ],
   "source": [
    "img = X_train_images[0]\n",
    "\n",
    "print_sample(img)\n",
    "\n",
    "print((img == 0).sum())\n",
    "print((img != 0).sum())\n",
    "\n",
    "img = ((img == 0) == False)\n",
    "print_sample(img)\n",
    "\n",
    "# 0   - is Black, background\n",
    "# 255 - is White"
   ]
  },
  {
   "cell_type": "code",
   "execution_count": 125,
   "id": "f9b2c458-ddd9-4601-a484-5a52c8ad8faa",
   "metadata": {},
   "outputs": [
    {
     "data": {
      "text/plain": [
       "0.8587301587301587"
      ]
     },
     "execution_count": 125,
     "metadata": {},
     "output_type": "execute_result"
    }
   ],
   "source": [
    "# make it background and exists\n",
    "# background - 0\n",
    "# exists - 1\n",
    "\n",
    "X_train_df = pd.DataFrame(X_train)\n",
    "X_test_df = pd.DataFrame(X_test)\n",
    "\n",
    "def add_seperates_sum(arr: np.array):    \n",
    "    arr = (arr != 0)\n",
    "    return arr\n",
    "\n",
    "X_train_df = X_train_df.apply(add_seperates_sum, axis=1)\n",
    "X_test_df = X_test_df.apply(add_seperates_sum, axis=1)\n",
    "\n",
    "rfc = RandomForestClassifier(random_state=11)\n",
    "\n",
    "rfc.fit(X_train_df, y_train)\n",
    "\n",
    "rfc.score(X_test_df, y_test)\n",
    "# 85.87%"
   ]
  },
  {
   "cell_type": "code",
   "execution_count": 201,
   "id": "7a0d743f-a956-4ade-9db8-bb952b4b0408",
   "metadata": {},
   "outputs": [
    {
     "data": {
      "text/plain": [
       "0.8097883597883598"
      ]
     },
     "execution_count": 201,
     "metadata": {},
     "output_type": "execute_result"
    }
   ],
   "source": [
    "# Try to remove the edges\n",
    "def images_to_vectors(images):\n",
    "    return images.reshape(images.shape[0], images.shape[1] * images.shape[2])\n",
    "\n",
    "X_train_images2 = X_train_images.copy()\n",
    "X_test_images2 = X_test_images.copy()\n",
    "\n",
    "X_train_images2 = X_train_images2 != 0\n",
    "X_test_images2 = X_test_images2 != 0\n",
    "\n",
    "PANDING = 4\n",
    "\n",
    "new_arr = list()\n",
    "i = 0\n",
    "for img in X_train_images2:\n",
    "    img = img[PANDING:29-PANDING, PANDING:29-PANDING]\n",
    "    new_arr.append(img.tolist())\n",
    "    i += 1\n",
    "    \n",
    "X_train_images2 = np.array(new_arr)\n",
    "\n",
    "new_arr = list()\n",
    "i = 0\n",
    "for img in X_test_images2:\n",
    "    img = img[PANDING:29-PANDING, PANDING:29-PANDING]\n",
    "    new_arr.append(img.tolist())\n",
    "    i += 1\n",
    "\n",
    "X_test_images2 = np.array(new_arr)\n",
    "        \n",
    "X_train_df = pd.DataFrame(images_to_vectors(X_train_images2))\n",
    "X_test_df = pd.DataFrame(images_to_vectors(X_test_images2))\n",
    "\n",
    "rfc = RandomForestClassifier(random_state=11)\n",
    "\n",
    "rfc.fit(X_train_df, y_train)\n",
    "\n",
    "rfc.score(X_test_df, y_test)\n",
    "# 80.97%\n",
    "# But is not good!"
   ]
  }
 ],
 "metadata": {
  "kernelspec": {
   "display_name": "Python 3 (ipykernel)",
   "language": "python",
   "name": "python3"
  },
  "language_info": {
   "codemirror_mode": {
    "name": "ipython",
    "version": 3
   },
   "file_extension": ".py",
   "mimetype": "text/x-python",
   "name": "python",
   "nbconvert_exporter": "python",
   "pygments_lexer": "ipython3",
   "version": "3.9.6"
  }
 },
 "nbformat": 4,
 "nbformat_minor": 5
}
